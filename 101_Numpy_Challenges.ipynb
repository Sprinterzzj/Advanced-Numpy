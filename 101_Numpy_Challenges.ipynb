{
 "cells": [
  {
   "cell_type": "code",
   "execution_count": 1,
   "metadata": {
    "ExecuteTime": {
     "end_time": "2019-01-29T02:20:15.699864Z",
     "start_time": "2019-01-29T02:20:13.270976Z"
    }
   },
   "outputs": [],
   "source": [
    "import numpy as np"
   ]
  },
  {
   "cell_type": "code",
   "execution_count": 3,
   "metadata": {
    "ExecuteTime": {
     "end_time": "2019-01-21T06:51:42.739007Z",
     "start_time": "2019-01-21T06:51:42.733763Z"
    }
   },
   "outputs": [
    {
     "data": {
      "text/plain": [
       "'1.15.4'"
      ]
     },
     "execution_count": 3,
     "metadata": {},
     "output_type": "execute_result"
    }
   ],
   "source": [
    "#打印numpy的版本号\n",
    "np.__version__"
   ]
  },
  {
   "cell_type": "code",
   "execution_count": 5,
   "metadata": {
    "ExecuteTime": {
     "end_time": "2019-01-21T06:52:45.560538Z",
     "start_time": "2019-01-21T06:52:45.554788Z"
    }
   },
   "outputs": [
    {
     "data": {
      "text/plain": [
       "array([[ True,  True,  True],\n",
       "       [ True,  True,  True],\n",
       "       [ True,  True,  True]])"
      ]
     },
     "execution_count": 5,
     "metadata": {},
     "output_type": "execute_result"
    }
   ],
   "source": [
    "#产生Bool数组\n",
    "np.ones((3, 3), dtype = np.bool)"
   ]
  },
  {
   "cell_type": "code",
   "execution_count": 6,
   "metadata": {
    "ExecuteTime": {
     "end_time": "2019-01-21T06:54:00.092373Z",
     "start_time": "2019-01-21T06:54:00.088476Z"
    }
   },
   "outputs": [],
   "source": [
    "#extract all odd numbers in arr\n",
    "arr = np.array([0, 1, 2, 3, 4, 5, 6, 7, 8, 9])\n",
    "np.compress(condition = arr % 2 == 0, a = arr, axis = 0)"
   ]
  },
  {
   "cell_type": "code",
   "execution_count": 12,
   "metadata": {
    "ExecuteTime": {
     "end_time": "2019-01-21T06:58:53.875626Z",
     "start_time": "2019-01-21T06:58:53.871766Z"
    }
   },
   "outputs": [],
   "source": [
    "#Replace all odd numbers in arr with -1\n",
    "arr = np.array([0, 1, 2, 3, 4, 5, 6, 7, 8, 9])\n",
    "arr[arr % 2 ==0] = -1\n",
    "arr"
   ]
  },
  {
   "cell_type": "code",
   "execution_count": 15,
   "metadata": {
    "ExecuteTime": {
     "end_time": "2019-01-21T07:01:53.259702Z",
     "start_time": "2019-01-21T07:01:53.253273Z"
    }
   },
   "outputs": [
    {
     "data": {
      "text/plain": [
       "array([[0, 1, 2, 3, 4],\n",
       "       [5, 6, 7, 8, 9]])"
      ]
     },
     "execution_count": 15,
     "metadata": {},
     "output_type": "execute_result"
    }
   ],
   "source": [
    "#Convert a 1D array to a 2D array with 2 rows\n",
    "np.arange(0, 10).reshape((2, -1))"
   ]
  },
  {
   "cell_type": "code",
   "execution_count": 19,
   "metadata": {
    "ExecuteTime": {
     "end_time": "2019-01-21T07:03:23.463475Z",
     "start_time": "2019-01-21T07:03:23.455679Z"
    }
   },
   "outputs": [
    {
     "data": {
      "text/plain": [
       "array([[0, 1, 2, 3, 4],\n",
       "       [5, 6, 7, 8, 9],\n",
       "       [1, 1, 1, 1, 1],\n",
       "       [1, 1, 1, 1, 1]])"
      ]
     },
     "execution_count": 19,
     "metadata": {},
     "output_type": "execute_result"
    }
   ],
   "source": [
    "#Stack arrays a and b vertically\n",
    "a = np.arange(10).reshape(2,-1)\n",
    "b = np.repeat(1, 10).reshape(2,-1)\n",
    "#注意np.concatenate的参数\n",
    "np.concatenate((a, b), axis = 0)"
   ]
  },
  {
   "cell_type": "code",
   "execution_count": 20,
   "metadata": {
    "ExecuteTime": {
     "end_time": "2019-01-21T07:05:27.727909Z",
     "start_time": "2019-01-21T07:05:27.714308Z"
    }
   },
   "outputs": [
    {
     "data": {
      "text/plain": [
       "array([[0, 1, 2, 3, 4, 1, 1, 1, 1, 1],\n",
       "       [5, 6, 7, 8, 9, 1, 1, 1, 1, 1]])"
      ]
     },
     "execution_count": 20,
     "metadata": {},
     "output_type": "execute_result"
    }
   ],
   "source": [
    "#Stack the arrays a and b horizontally\n",
    "a = np.arange(10).reshape(2,-1)\n",
    "b = np.repeat(1, 10).reshape(2,-1)\n",
    "np.concatenate((a, b), axis = 1)"
   ]
  },
  {
   "cell_type": "code",
   "execution_count": 25,
   "metadata": {
    "ExecuteTime": {
     "end_time": "2019-01-21T07:10:15.292263Z",
     "start_time": "2019-01-21T07:10:15.284452Z"
    }
   },
   "outputs": [
    {
     "data": {
      "text/plain": [
       "array([1, 1, 1, 2, 2, 2, 3, 3, 3, 1, 2, 3, 1, 2, 3, 1, 2, 3])"
      ]
     },
     "execution_count": 25,
     "metadata": {},
     "output_type": "execute_result"
    }
   ],
   "source": [
    "#Create the following pattern without hardcoding. \n",
    "#Use only numpy functions and the below input array a\n",
    "a = np.array([1, 2, 3])\n",
    "#np.repeat和np.title\n",
    "np.concatenate((np.repeat(a, 3), np.tile(a, 3)), axis = 0)"
   ]
  },
  {
   "cell_type": "markdown",
   "metadata": {},
   "source": [
    "######  How to get the common items between two python numpy arrays?"
   ]
  },
  {
   "cell_type": "code",
   "execution_count": 26,
   "metadata": {
    "ExecuteTime": {
     "end_time": "2019-01-21T07:11:32.236150Z",
     "start_time": "2019-01-21T07:11:32.231946Z"
    }
   },
   "outputs": [],
   "source": [
    "a = np.array([1,2,3,2,3,4,3,4,5,6])\n",
    "b = np.array([7,2,10,2,7,4,9,4,9,8])"
   ]
  },
  {
   "cell_type": "code",
   "execution_count": 28,
   "metadata": {
    "ExecuteTime": {
     "end_time": "2019-01-21T07:12:02.191973Z",
     "start_time": "2019-01-21T07:12:02.180166Z"
    }
   },
   "outputs": [
    {
     "data": {
      "text/plain": [
       "array([2, 4])"
      ]
     },
     "execution_count": 28,
     "metadata": {},
     "output_type": "execute_result"
    }
   ],
   "source": [
    "#np.intersect1d\n",
    "np.intersect1d(a, b)"
   ]
  },
  {
   "cell_type": "markdown",
   "metadata": {},
   "source": [
    "###### How to remove from one array those items that exist in another?"
   ]
  },
  {
   "cell_type": "code",
   "execution_count": 29,
   "metadata": {
    "ExecuteTime": {
     "end_time": "2019-01-21T07:13:01.821305Z",
     "start_time": "2019-01-21T07:13:01.816547Z"
    }
   },
   "outputs": [],
   "source": [
    "a = np.array([1,2,3,4,5])\n",
    "b = np.array([5,6,7,8,9])"
   ]
  },
  {
   "cell_type": "code",
   "execution_count": 30,
   "metadata": {
    "ExecuteTime": {
     "end_time": "2019-01-21T07:13:38.745994Z",
     "start_time": "2019-01-21T07:13:38.737427Z"
    }
   },
   "outputs": [
    {
     "data": {
      "text/plain": [
       "array([1, 2, 3, 4])"
      ]
     },
     "execution_count": 30,
     "metadata": {},
     "output_type": "execute_result"
    }
   ],
   "source": [
    "# From a remove all of b\n",
    "np.setdiff1d(a, b)"
   ]
  },
  {
   "cell_type": "code",
   "execution_count": 33,
   "metadata": {
    "ExecuteTime": {
     "end_time": "2019-01-21T07:16:53.969257Z",
     "start_time": "2019-01-21T07:16:53.962030Z"
    }
   },
   "outputs": [
    {
     "data": {
      "text/plain": [
       "(array([1, 3, 5, 7]),)"
      ]
     },
     "execution_count": 33,
     "metadata": {},
     "output_type": "execute_result"
    }
   ],
   "source": [
    "#Get the positions where elements of a and b match\n",
    "a = np.array([1,2,3,2,3,4,3,4,5,6])\n",
    "b = np.array([7,2,10,2,7,4,9,4,9,8])\n",
    "#用np.where\n",
    "np.where(a == b)"
   ]
  },
  {
   "cell_type": "markdown",
   "metadata": {},
   "source": [
    "###### How to make a python function that handles scalars to work on numpy arrays?"
   ]
  },
  {
   "cell_type": "code",
   "execution_count": 34,
   "metadata": {
    "ExecuteTime": {
     "end_time": "2019-01-21T07:20:52.251978Z",
     "start_time": "2019-01-21T07:20:52.242702Z"
    }
   },
   "outputs": [],
   "source": [
    "\n",
    "def maxx(x, y):\n",
    "    \"\"\"Get the maximum of two items\"\"\"\n",
    "    if x >= y:\n",
    "        return x\n",
    "    else:\n",
    "        return y\n",
    "a = np.array([5, 7, 9, 8, 6, 4, 5])\n",
    "b = np.array([6, 3, 4, 8, 9, 7, 1])"
   ]
  },
  {
   "cell_type": "code",
   "execution_count": 38,
   "metadata": {
    "ExecuteTime": {
     "end_time": "2019-01-21T07:24:56.613848Z",
     "start_time": "2019-01-21T07:24:56.607550Z"
    }
   },
   "outputs": [
    {
     "name": "stdout",
     "output_type": "stream",
     "text": [
      "Help on class vectorize in module numpy.lib.function_base:\n",
      "\n",
      "class vectorize(builtins.object)\n",
      " |  vectorize(pyfunc, otypes=None, doc=None, excluded=None, cache=False,\n",
      " |            signature=None)\n",
      " |  \n",
      " |  Generalized function class.\n",
      " |  \n",
      " |  Define a vectorized function which takes a nested sequence of objects or\n",
      " |  numpy arrays as inputs and returns an single or tuple of numpy array as\n",
      " |  output. The vectorized function evaluates `pyfunc` over successive tuples\n",
      " |  of the input arrays like the python map function, except it uses the\n",
      " |  broadcasting rules of numpy.\n",
      " |  \n",
      " |  The data type of the output of `vectorized` is determined by calling\n",
      " |  the function with the first element of the input.  This can be avoided\n",
      " |  by specifying the `otypes` argument.\n",
      " |  \n",
      " |  Parameters\n",
      " |  ----------\n",
      " |  pyfunc : callable\n",
      " |      A python function or method.\n",
      " |  otypes : str or list of dtypes, optional\n",
      " |      The output data type. It must be specified as either a string of\n",
      " |      typecode characters or a list of data type specifiers. There should\n",
      " |      be one data type specifier for each output.\n",
      " |  doc : str, optional\n",
      " |      The docstring for the function. If `None`, the docstring will be the\n",
      " |      ``pyfunc.__doc__``.\n",
      " |  excluded : set, optional\n",
      " |      Set of strings or integers representing the positional or keyword\n",
      " |      arguments for which the function will not be vectorized.  These will be\n",
      " |      passed directly to `pyfunc` unmodified.\n",
      " |  \n",
      " |      .. versionadded:: 1.7.0\n",
      " |  \n",
      " |  cache : bool, optional\n",
      " |     If `True`, then cache the first function call that determines the number\n",
      " |     of outputs if `otypes` is not provided.\n",
      " |  \n",
      " |      .. versionadded:: 1.7.0\n",
      " |  \n",
      " |  signature : string, optional\n",
      " |      Generalized universal function signature, e.g., ``(m,n),(n)->(m)`` for\n",
      " |      vectorized matrix-vector multiplication. If provided, ``pyfunc`` will\n",
      " |      be called with (and expected to return) arrays with shapes given by the\n",
      " |      size of corresponding core dimensions. By default, ``pyfunc`` is\n",
      " |      assumed to take scalars as input and output.\n",
      " |  \n",
      " |      .. versionadded:: 1.12.0\n",
      " |  \n",
      " |  Returns\n",
      " |  -------\n",
      " |  vectorized : callable\n",
      " |      Vectorized function.\n",
      " |  \n",
      " |  Examples\n",
      " |  --------\n",
      " |  >>> def myfunc(a, b):\n",
      " |  ...     \"Return a-b if a>b, otherwise return a+b\"\n",
      " |  ...     if a > b:\n",
      " |  ...         return a - b\n",
      " |  ...     else:\n",
      " |  ...         return a + b\n",
      " |  \n",
      " |  >>> vfunc = np.vectorize(myfunc)\n",
      " |  >>> vfunc([1, 2, 3, 4], 2)\n",
      " |  array([3, 4, 1, 2])\n",
      " |  \n",
      " |  The docstring is taken from the input function to `vectorize` unless it\n",
      " |  is specified:\n",
      " |  \n",
      " |  >>> vfunc.__doc__\n",
      " |  'Return a-b if a>b, otherwise return a+b'\n",
      " |  >>> vfunc = np.vectorize(myfunc, doc='Vectorized `myfunc`')\n",
      " |  >>> vfunc.__doc__\n",
      " |  'Vectorized `myfunc`'\n",
      " |  \n",
      " |  The output type is determined by evaluating the first element of the input,\n",
      " |  unless it is specified:\n",
      " |  \n",
      " |  >>> out = vfunc([1, 2, 3, 4], 2)\n",
      " |  >>> type(out[0])\n",
      " |  <type 'numpy.int32'>\n",
      " |  >>> vfunc = np.vectorize(myfunc, otypes=[float])\n",
      " |  >>> out = vfunc([1, 2, 3, 4], 2)\n",
      " |  >>> type(out[0])\n",
      " |  <type 'numpy.float64'>\n",
      " |  \n",
      " |  The `excluded` argument can be used to prevent vectorizing over certain\n",
      " |  arguments.  This can be useful for array-like arguments of a fixed length\n",
      " |  such as the coefficients for a polynomial as in `polyval`:\n",
      " |  \n",
      " |  >>> def mypolyval(p, x):\n",
      " |  ...     _p = list(p)\n",
      " |  ...     res = _p.pop(0)\n",
      " |  ...     while _p:\n",
      " |  ...         res = res*x + _p.pop(0)\n",
      " |  ...     return res\n",
      " |  >>> vpolyval = np.vectorize(mypolyval, excluded=['p'])\n",
      " |  >>> vpolyval(p=[1, 2, 3], x=[0, 1])\n",
      " |  array([3, 6])\n",
      " |  \n",
      " |  Positional arguments may also be excluded by specifying their position:\n",
      " |  \n",
      " |  >>> vpolyval.excluded.add(0)\n",
      " |  >>> vpolyval([1, 2, 3], x=[0, 1])\n",
      " |  array([3, 6])\n",
      " |  \n",
      " |  The `signature` argument allows for vectorizing functions that act on\n",
      " |  non-scalar arrays of fixed length. For example, you can use it for a\n",
      " |  vectorized calculation of Pearson correlation coefficient and its p-value:\n",
      " |  \n",
      " |  >>> import scipy.stats\n",
      " |  >>> pearsonr = np.vectorize(scipy.stats.pearsonr,\n",
      " |  ...                         signature='(n),(n)->(),()')\n",
      " |  >>> pearsonr([[0, 1, 2, 3]], [[1, 2, 3, 4], [4, 3, 2, 1]])\n",
      " |  (array([ 1., -1.]), array([ 0.,  0.]))\n",
      " |  \n",
      " |  Or for a vectorized convolution:\n",
      " |  \n",
      " |  >>> convolve = np.vectorize(np.convolve, signature='(n),(m)->(k)')\n",
      " |  >>> convolve(np.eye(4), [1, 2, 1])\n",
      " |  array([[ 1.,  2.,  1.,  0.,  0.,  0.],\n",
      " |         [ 0.,  1.,  2.,  1.,  0.,  0.],\n",
      " |         [ 0.,  0.,  1.,  2.,  1.,  0.],\n",
      " |         [ 0.,  0.,  0.,  1.,  2.,  1.]])\n",
      " |  \n",
      " |  See Also\n",
      " |  --------\n",
      " |  frompyfunc : Takes an arbitrary Python function and returns a ufunc\n",
      " |  \n",
      " |  Notes\n",
      " |  -----\n",
      " |  The `vectorize` function is provided primarily for convenience, not for\n",
      " |  performance. The implementation is essentially a for loop.\n",
      " |  \n",
      " |  If `otypes` is not specified, then a call to the function with the\n",
      " |  first argument will be used to determine the number of outputs.  The\n",
      " |  results of this call will be cached if `cache` is `True` to prevent\n",
      " |  calling the function twice.  However, to implement the cache, the\n",
      " |  original function must be wrapped which will slow down subsequent\n",
      " |  calls, so only do this if your function is expensive.\n",
      " |  \n",
      " |  The new keyword argument interface and `excluded` argument support\n",
      " |  further degrades performance.\n",
      " |  \n",
      " |  References\n",
      " |  ----------\n",
      " |  .. [1] NumPy Reference, section `Generalized Universal Function API\n",
      " |         <http://docs.scipy.org/doc/numpy/reference/c-api.generalized-ufuncs.html>`_.\n",
      " |  \n",
      " |  Methods defined here:\n",
      " |  \n",
      " |  __call__(self, *args, **kwargs)\n",
      " |      Return arrays with the results of `pyfunc` broadcast (vectorized) over\n",
      " |      `args` and `kwargs` not in `excluded`.\n",
      " |  \n",
      " |  __init__(self, pyfunc, otypes=None, doc=None, excluded=None, cache=False, signature=None)\n",
      " |      Initialize self.  See help(type(self)) for accurate signature.\n",
      " |  \n",
      " |  ----------------------------------------------------------------------\n",
      " |  Data descriptors defined here:\n",
      " |  \n",
      " |  __dict__\n",
      " |      dictionary for instance variables (if defined)\n",
      " |  \n",
      " |  __weakref__\n",
      " |      list of weak references to the object (if defined)\n",
      "\n"
     ]
    }
   ],
   "source": [
    "help(np.vectorize)"
   ]
  },
  {
   "cell_type": "code",
   "execution_count": 37,
   "metadata": {
    "ExecuteTime": {
     "end_time": "2019-01-21T07:24:45.361045Z",
     "start_time": "2019-01-21T07:24:45.348649Z"
    }
   },
   "outputs": [
    {
     "data": {
      "text/plain": [
       "array([6., 7., 9., 8., 9., 7., 5.])"
      ]
     },
     "execution_count": 37,
     "metadata": {},
     "output_type": "execute_result"
    }
   ],
   "source": [
    "pair_max = np.vectorize(maxx, otypes = [float])\n",
    "pair_max(a, b)"
   ]
  },
  {
   "cell_type": "markdown",
   "metadata": {},
   "source": [
    "###### Swap columns 1 and 2 in the array arr"
   ]
  },
  {
   "cell_type": "code",
   "execution_count": 50,
   "metadata": {
    "ExecuteTime": {
     "end_time": "2019-01-21T07:30:34.461055Z",
     "start_time": "2019-01-21T07:30:34.457474Z"
    }
   },
   "outputs": [],
   "source": [
    "arr = np.arange(9).reshape(3,3)"
   ]
  },
  {
   "cell_type": "code",
   "execution_count": 69,
   "metadata": {
    "ExecuteTime": {
     "end_time": "2019-01-21T07:35:42.798538Z",
     "start_time": "2019-01-21T07:35:42.787050Z"
    }
   },
   "outputs": [
    {
     "data": {
      "text/plain": [
       "array([[1, 0, 2],\n",
       "       [4, 3, 5],\n",
       "       [7, 6, 8]])"
      ]
     },
     "execution_count": 69,
     "metadata": {},
     "output_type": "execute_result"
    }
   ],
   "source": [
    "arr[:, [1, 0, 2]]"
   ]
  },
  {
   "cell_type": "code",
   "execution_count": 74,
   "metadata": {
    "ExecuteTime": {
     "end_time": "2019-01-21T07:39:32.707794Z",
     "start_time": "2019-01-21T07:39:32.695202Z"
    }
   },
   "outputs": [
    {
     "data": {
      "text/plain": [
       "array([[3, 4, 5],\n",
       "       [0, 1, 2],\n",
       "       [6, 7, 8]])"
      ]
     },
     "execution_count": 74,
     "metadata": {},
     "output_type": "execute_result"
    }
   ],
   "source": [
    "#Swap rows 1 and 2 in the array arr\n",
    "arr[[1, 0, 2], :]"
   ]
  },
  {
   "cell_type": "markdown",
   "metadata": {},
   "source": [
    "###### Reverse the rows of a 2D array arr，记住这个trick！！！！！！！！！"
   ]
  },
  {
   "cell_type": "code",
   "execution_count": 86,
   "metadata": {
    "ExecuteTime": {
     "end_time": "2019-01-21T07:47:24.775662Z",
     "start_time": "2019-01-21T07:47:24.769192Z"
    }
   },
   "outputs": [
    {
     "data": {
      "text/plain": [
       "array([[6, 7, 8],\n",
       "       [3, 4, 5],\n",
       "       [0, 1, 2]])"
      ]
     },
     "execution_count": 86,
     "metadata": {},
     "output_type": "execute_result"
    }
   ],
   "source": [
    "arr[::-1, :]"
   ]
  },
  {
   "cell_type": "code",
   "execution_count": 87,
   "metadata": {
    "ExecuteTime": {
     "end_time": "2019-01-21T07:50:50.043715Z",
     "start_time": "2019-01-21T07:50:50.034393Z"
    }
   },
   "outputs": [
    {
     "data": {
      "text/plain": [
       "array([[2, 1, 0],\n",
       "       [5, 4, 3],\n",
       "       [8, 7, 6]])"
      ]
     },
     "execution_count": 87,
     "metadata": {},
     "output_type": "execute_result"
    }
   ],
   "source": [
    "#Reverse the columns of a 2D array arr\n",
    "arr[:, ::-1]"
   ]
  },
  {
   "cell_type": "code",
   "execution_count": 91,
   "metadata": {
    "ExecuteTime": {
     "end_time": "2019-01-21T07:56:14.575008Z",
     "start_time": "2019-01-21T07:56:14.568397Z"
    }
   },
   "outputs": [
    {
     "data": {
      "text/plain": [
       "array([[7.24793988, 5.83488798, 5.43943121],\n",
       "       [6.40217545, 5.25349891, 6.41577033],\n",
       "       [9.18505972, 7.95904305, 9.46147616],\n",
       "       [6.59534199, 7.73114549, 7.65430371],\n",
       "       [6.88269353, 6.81840214, 5.52058149]])"
      ]
     },
     "execution_count": 91,
     "metadata": {},
     "output_type": "execute_result"
    }
   ],
   "source": [
    "#Create a 2D array of shape 5x3 to contain random decimal numbers between 5 and 10.\n",
    "np.random.uniform(5, 10, size = (5, 3))"
   ]
  },
  {
   "cell_type": "markdown",
   "metadata": {},
   "source": [
    "######  How to print only 3 decimal places in python numpy array? 查阅np.set_printoptions的其他用法"
   ]
  },
  {
   "cell_type": "code",
   "execution_count": 94,
   "metadata": {
    "ExecuteTime": {
     "end_time": "2019-01-21T07:57:43.146579Z",
     "start_time": "2019-01-21T07:57:43.141926Z"
    }
   },
   "outputs": [],
   "source": [
    "rand_arr = np.random.random((5,3))"
   ]
  },
  {
   "cell_type": "code",
   "execution_count": 96,
   "metadata": {
    "ExecuteTime": {
     "end_time": "2019-01-21T07:58:25.267639Z",
     "start_time": "2019-01-21T07:58:25.261007Z"
    }
   },
   "outputs": [
    {
     "data": {
      "text/plain": [
       "array([[0.627, 0.826, 0.175],\n",
       "       [0.144, 0.316, 0.674],\n",
       "       [0.959, 0.589, 0.423],\n",
       "       [0.68 , 0.162, 0.054],\n",
       "       [0.661, 0.81 , 0.22 ]])"
      ]
     },
     "execution_count": 96,
     "metadata": {},
     "output_type": "execute_result"
    }
   ],
   "source": [
    "#用np.set_printoptions\n",
    "np.set_printoptions(precision = 3)\n",
    "rand_arr"
   ]
  },
  {
   "cell_type": "markdown",
   "metadata": {},
   "source": [
    "###### How to import a dataset with numbers and texts keeping the text intact in python numpy?"
   ]
  },
  {
   "cell_type": "code",
   "execution_count": 5,
   "metadata": {
    "ExecuteTime": {
     "end_time": "2019-01-23T08:16:08.883014Z",
     "start_time": "2019-01-23T08:16:08.864106Z"
    }
   },
   "outputs": [
    {
     "name": "stderr",
     "output_type": "stream",
     "text": [
      "/home/zhangzijie_dlut/miniconda3/envs/zzj/lib/python3.6/site-packages/ipykernel_launcher.py:3: VisibleDeprecationWarning: Reading unicode strings without specifying the encoding argument is deprecated. Set the encoding, use None for the system default.\n",
      "  This is separate from the ipykernel package so we can avoid doing imports until\n"
     ]
    }
   ],
   "source": [
    "#np.genfromtxt 函数\n",
    "url = 'https://archive.ics.uci.edu/ml/machine-learning-databases/iris/iris.data'\n",
    "#iris = np.genfromtxt(url, delimiter=',', dtype='object')\n",
    "iris = np.genfromtxt(url, delimiter=',', dtype=None)\n",
    "names = ('sepallength', 'sepalwidth', 'petallength', 'petalwidth', 'species')"
   ]
  },
  {
   "cell_type": "code",
   "execution_count": 6,
   "metadata": {
    "ExecuteTime": {
     "end_time": "2019-01-23T08:16:10.608598Z",
     "start_time": "2019-01-23T08:16:10.595458Z"
    }
   },
   "outputs": [
    {
     "data": {
      "text/plain": [
       "array([(5.1, 3.5, 1.4, 0.2, b'Iris-setosa'),\n",
       "       (4.9, 3. , 1.4, 0.2, b'Iris-setosa'),\n",
       "       (4.7, 3.2, 1.3, 0.2, b'Iris-setosa')],\n",
       "      dtype=[('f0', '<f8'), ('f1', '<f8'), ('f2', '<f8'), ('f3', '<f8'), ('f4', 'S15')])"
      ]
     },
     "execution_count": 6,
     "metadata": {},
     "output_type": "execute_result"
    }
   ],
   "source": [
    "iris[:3]"
   ]
  },
  {
   "cell_type": "code",
   "execution_count": 10,
   "metadata": {
    "ExecuteTime": {
     "end_time": "2019-01-23T08:18:49.185632Z",
     "start_time": "2019-01-23T08:18:49.179430Z"
    }
   },
   "outputs": [],
   "source": [
    "# Find the mean, median, standard deviation of iris's sepallength (1st column)\n",
    "url = 'https://archive.ics.uci.edu/ml/machine-learning-databases/iris/iris.data'\n",
    "sepallength = np.genfromtxt(url, delimiter=',', dtype='float', usecols=[0])"
   ]
  },
  {
   "cell_type": "code",
   "execution_count": 12,
   "metadata": {
    "ExecuteTime": {
     "end_time": "2019-01-23T08:21:46.745046Z",
     "start_time": "2019-01-23T08:21:46.703487Z"
    }
   },
   "outputs": [
    {
     "data": {
      "text/plain": [
       "(5.843333333333334, 5.8, 0.8253012917851409)"
      ]
     },
     "execution_count": 12,
     "metadata": {},
     "output_type": "execute_result"
    }
   ],
   "source": [
    "np.mean(sepallength), np.median(sepallength), np.std(sepallength)"
   ]
  },
  {
   "cell_type": "code",
   "execution_count": 13,
   "metadata": {
    "ExecuteTime": {
     "end_time": "2019-01-23T08:26:54.635824Z",
     "start_time": "2019-01-23T08:26:54.628373Z"
    }
   },
   "outputs": [
    {
     "data": {
      "text/plain": [
       "array([0.22222222, 0.16666667, 0.11111111, 0.08333333, 0.19444444,\n",
       "       0.30555556, 0.08333333, 0.19444444, 0.02777778, 0.16666667,\n",
       "       0.30555556, 0.13888889, 0.13888889, 0.        , 0.41666667,\n",
       "       0.38888889, 0.30555556, 0.22222222, 0.38888889, 0.22222222,\n",
       "       0.30555556, 0.22222222, 0.08333333, 0.22222222, 0.13888889,\n",
       "       0.19444444, 0.19444444, 0.25      , 0.25      , 0.11111111,\n",
       "       0.13888889, 0.30555556, 0.25      , 0.33333333, 0.16666667,\n",
       "       0.19444444, 0.33333333, 0.16666667, 0.02777778, 0.22222222,\n",
       "       0.19444444, 0.05555556, 0.02777778, 0.19444444, 0.22222222,\n",
       "       0.13888889, 0.22222222, 0.08333333, 0.27777778, 0.19444444,\n",
       "       0.75      , 0.58333333, 0.72222222, 0.33333333, 0.61111111,\n",
       "       0.38888889, 0.55555556, 0.16666667, 0.63888889, 0.25      ,\n",
       "       0.19444444, 0.44444444, 0.47222222, 0.5       , 0.36111111,\n",
       "       0.66666667, 0.36111111, 0.41666667, 0.52777778, 0.36111111,\n",
       "       0.44444444, 0.5       , 0.55555556, 0.5       , 0.58333333,\n",
       "       0.63888889, 0.69444444, 0.66666667, 0.47222222, 0.38888889,\n",
       "       0.33333333, 0.33333333, 0.41666667, 0.47222222, 0.30555556,\n",
       "       0.47222222, 0.66666667, 0.55555556, 0.36111111, 0.33333333,\n",
       "       0.33333333, 0.5       , 0.41666667, 0.19444444, 0.36111111,\n",
       "       0.38888889, 0.38888889, 0.52777778, 0.22222222, 0.38888889,\n",
       "       0.55555556, 0.41666667, 0.77777778, 0.55555556, 0.61111111,\n",
       "       0.91666667, 0.16666667, 0.83333333, 0.66666667, 0.80555556,\n",
       "       0.61111111, 0.58333333, 0.69444444, 0.38888889, 0.41666667,\n",
       "       0.58333333, 0.61111111, 0.94444444, 0.94444444, 0.47222222,\n",
       "       0.72222222, 0.36111111, 0.94444444, 0.55555556, 0.66666667,\n",
       "       0.80555556, 0.52777778, 0.5       , 0.58333333, 0.80555556,\n",
       "       0.86111111, 1.        , 0.58333333, 0.55555556, 0.5       ,\n",
       "       0.94444444, 0.55555556, 0.58333333, 0.47222222, 0.72222222,\n",
       "       0.66666667, 0.72222222, 0.41666667, 0.69444444, 0.66666667,\n",
       "       0.66666667, 0.55555556, 0.61111111, 0.52777778, 0.44444444])"
      ]
     },
     "execution_count": 13,
     "metadata": {},
     "output_type": "execute_result"
    }
   ],
   "source": [
    "# Create a normalized form of iris's sepallength whose values range exactly between 0 and 1 \n",
    "#so that the minimum has value 0 and maximum has value 1.\n",
    "(sepallength - np.min(sepallength)) / (np.max(sepallength) - np.min(sepallength))"
   ]
  },
  {
   "cell_type": "code",
   "execution_count": 14,
   "metadata": {
    "ExecuteTime": {
     "end_time": "2019-01-23T08:27:28.198565Z",
     "start_time": "2019-01-23T08:27:28.187933Z"
    }
   },
   "outputs": [
    {
     "data": {
      "text/plain": [
       "array([0.22222222, 0.16666667, 0.11111111, 0.08333333, 0.19444444,\n",
       "       0.30555556, 0.08333333, 0.19444444, 0.02777778, 0.16666667,\n",
       "       0.30555556, 0.13888889, 0.13888889, 0.        , 0.41666667,\n",
       "       0.38888889, 0.30555556, 0.22222222, 0.38888889, 0.22222222,\n",
       "       0.30555556, 0.22222222, 0.08333333, 0.22222222, 0.13888889,\n",
       "       0.19444444, 0.19444444, 0.25      , 0.25      , 0.11111111,\n",
       "       0.13888889, 0.30555556, 0.25      , 0.33333333, 0.16666667,\n",
       "       0.19444444, 0.33333333, 0.16666667, 0.02777778, 0.22222222,\n",
       "       0.19444444, 0.05555556, 0.02777778, 0.19444444, 0.22222222,\n",
       "       0.13888889, 0.22222222, 0.08333333, 0.27777778, 0.19444444,\n",
       "       0.75      , 0.58333333, 0.72222222, 0.33333333, 0.61111111,\n",
       "       0.38888889, 0.55555556, 0.16666667, 0.63888889, 0.25      ,\n",
       "       0.19444444, 0.44444444, 0.47222222, 0.5       , 0.36111111,\n",
       "       0.66666667, 0.36111111, 0.41666667, 0.52777778, 0.36111111,\n",
       "       0.44444444, 0.5       , 0.55555556, 0.5       , 0.58333333,\n",
       "       0.63888889, 0.69444444, 0.66666667, 0.47222222, 0.38888889,\n",
       "       0.33333333, 0.33333333, 0.41666667, 0.47222222, 0.30555556,\n",
       "       0.47222222, 0.66666667, 0.55555556, 0.36111111, 0.33333333,\n",
       "       0.33333333, 0.5       , 0.41666667, 0.19444444, 0.36111111,\n",
       "       0.38888889, 0.38888889, 0.52777778, 0.22222222, 0.38888889,\n",
       "       0.55555556, 0.41666667, 0.77777778, 0.55555556, 0.61111111,\n",
       "       0.91666667, 0.16666667, 0.83333333, 0.66666667, 0.80555556,\n",
       "       0.61111111, 0.58333333, 0.69444444, 0.38888889, 0.41666667,\n",
       "       0.58333333, 0.61111111, 0.94444444, 0.94444444, 0.47222222,\n",
       "       0.72222222, 0.36111111, 0.94444444, 0.55555556, 0.66666667,\n",
       "       0.80555556, 0.52777778, 0.5       , 0.58333333, 0.80555556,\n",
       "       0.86111111, 1.        , 0.58333333, 0.55555556, 0.5       ,\n",
       "       0.94444444, 0.55555556, 0.58333333, 0.47222222, 0.72222222,\n",
       "       0.66666667, 0.72222222, 0.41666667, 0.69444444, 0.66666667,\n",
       "       0.66666667, 0.55555556, 0.61111111, 0.52777778, 0.44444444])"
      ]
     },
     "execution_count": 14,
     "metadata": {},
     "output_type": "execute_result"
    }
   ],
   "source": [
    "#np.ptp函数求数组的range\n",
    "(sepallength - np.min(sepallength)) / np.ptp(sepallength)"
   ]
  },
  {
   "cell_type": "code",
   "execution_count": 15,
   "metadata": {
    "ExecuteTime": {
     "end_time": "2019-01-23T08:30:34.062338Z",
     "start_time": "2019-01-23T08:30:34.053984Z"
    }
   },
   "outputs": [
    {
     "data": {
      "text/plain": [
       "array([0.00221959, 0.00181724, 0.00148783, 0.00134625, 0.00200836,\n",
       "       0.00299613, 0.00134625, 0.00200836, 0.00110221, 0.00181724,\n",
       "       0.00299613, 0.00164431, 0.00164431, 0.00099732, 0.0044697 ,\n",
       "       0.00404435, 0.00299613, 0.00221959, 0.00404435, 0.00221959,\n",
       "       0.00299613, 0.00221959, 0.00134625, 0.00221959, 0.00164431,\n",
       "       0.00200836, 0.00200836, 0.00245302, 0.00245302, 0.00148783,\n",
       "       0.00164431, 0.00299613, 0.00245302, 0.00331123, 0.00181724,\n",
       "       0.00200836, 0.00331123, 0.00181724, 0.00110221, 0.00221959,\n",
       "       0.00200836, 0.00121813, 0.00110221, 0.00200836, 0.00221959,\n",
       "       0.00164431, 0.00221959, 0.00134625, 0.00271101, 0.00200836,\n",
       "       0.01483991, 0.00814432, 0.01342771, 0.00331123, 0.00900086,\n",
       "       0.00404435, 0.00736928, 0.00181724, 0.00994749, 0.00245302,\n",
       "       0.00200836, 0.00493978, 0.0054593 , 0.00603346, 0.00365948,\n",
       "       0.01099368, 0.00365948, 0.0044697 , 0.006668  , 0.00365948,\n",
       "       0.00493978, 0.00603346, 0.00736928, 0.00603346, 0.00814432,\n",
       "       0.00994749, 0.01214989, 0.01099368, 0.0054593 , 0.00404435,\n",
       "       0.00331123, 0.00331123, 0.0044697 , 0.0054593 , 0.00299613,\n",
       "       0.0054593 , 0.01099368, 0.00736928, 0.00365948, 0.00331123,\n",
       "       0.00331123, 0.00603346, 0.0044697 , 0.00200836, 0.00365948,\n",
       "       0.00404435, 0.00404435, 0.006668  , 0.00221959, 0.00404435,\n",
       "       0.00736928, 0.0044697 , 0.01640064, 0.00736928, 0.00900086,\n",
       "       0.02704008, 0.00181724, 0.02003179, 0.01099368, 0.01812551,\n",
       "       0.00900086, 0.00814432, 0.01214989, 0.00404435, 0.0044697 ,\n",
       "       0.00814432, 0.00900086, 0.02988391, 0.02988391, 0.0054593 ,\n",
       "       0.01342771, 0.00365948, 0.02988391, 0.00736928, 0.01099368,\n",
       "       0.01812551, 0.006668  , 0.00603346, 0.00814432, 0.01812551,\n",
       "       0.02213855, 0.0365003 , 0.00814432, 0.00736928, 0.00603346,\n",
       "       0.02988391, 0.00736928, 0.00814432, 0.0054593 , 0.01342771,\n",
       "       0.01099368, 0.01342771, 0.0044697 , 0.01214989, 0.01099368,\n",
       "       0.01099368, 0.00736928, 0.00900086, 0.006668  , 0.00493978])"
      ]
     },
     "execution_count": 15,
     "metadata": {},
     "output_type": "execute_result"
    }
   ],
   "source": [
    "#Compute the softmax score of sepallength.\n",
    "def softmax(x):\n",
    "    e_x = np.exp(x - np.max(x)) #减去最大值避免溢出\n",
    "    return e_x / e_x.sum(axis=0)\n",
    "softmax(sepallength)"
   ]
  },
  {
   "cell_type": "code",
   "execution_count": 18,
   "metadata": {
    "ExecuteTime": {
     "end_time": "2019-01-23T08:31:34.757300Z",
     "start_time": "2019-01-23T08:31:34.717867Z"
    }
   },
   "outputs": [
    {
     "data": {
      "text/plain": [
       "array([4.6  , 7.255])"
      ]
     },
     "execution_count": 18,
     "metadata": {},
     "output_type": "execute_result"
    }
   ],
   "source": [
    "#Find the 5th and 95th percentile of iris's sepallength\n",
    "np.percentile(sepallength, [5, 95])"
   ]
  },
  {
   "cell_type": "code",
   "execution_count": 19,
   "metadata": {
    "ExecuteTime": {
     "end_time": "2019-01-23T08:37:12.147570Z",
     "start_time": "2019-01-23T08:37:12.138740Z"
    }
   },
   "outputs": [],
   "source": [
    "#Insert np.nan values at 20 random positions in iris_2d dataset\n",
    "url = 'https://archive.ics.uci.edu/ml/machine-learning-databases/iris/iris.data'\n",
    "iris_2d = np.genfromtxt(url, delimiter=',', dtype='object')\n",
    "\n",
    "#注意这个用法！！！！！得到非空数据的index\n",
    "i, j = np.where(iris_2d)\n",
    "#插入数据, np.random.choice\n",
    "np.random.seed(100)\n",
    "iris_2d[np.random.choice((i), 20), np.random.choice((j), 20)] = np.nan"
   ]
  },
  {
   "cell_type": "code",
   "execution_count": 24,
   "metadata": {
    "ExecuteTime": {
     "end_time": "2019-01-23T08:43:34.761067Z",
     "start_time": "2019-01-23T08:43:34.756551Z"
    }
   },
   "outputs": [],
   "source": [
    "# Method 2,生成随机整数\n",
    "np.random.seed(100)\n",
    "iris_2d[np.random.randint(150, size=20), np.random.randint(4, size=20)] = np.nan"
   ]
  },
  {
   "cell_type": "markdown",
   "metadata": {},
   "source": [
    "###### 33. How to find the position of missing values in numpy array?"
   ]
  },
  {
   "cell_type": "code",
   "execution_count": 27,
   "metadata": {
    "ExecuteTime": {
     "end_time": "2019-01-23T08:45:29.197976Z",
     "start_time": "2019-01-23T08:45:29.189208Z"
    }
   },
   "outputs": [],
   "source": [
    "# Input\n",
    "url = 'https://archive.ics.uci.edu/ml/machine-learning-databases/iris/iris.data'\n",
    "iris_2d = np.genfromtxt(url, delimiter=',', dtype='float')\n",
    "np.random.seed(100)\n",
    "iris_2d[np.random.randint(150, size=20), np.random.randint(4, size=20)] = np.nan"
   ]
  },
  {
   "cell_type": "code",
   "execution_count": 32,
   "metadata": {
    "ExecuteTime": {
     "end_time": "2019-01-23T08:47:52.819420Z",
     "start_time": "2019-01-23T08:47:52.808451Z"
    }
   },
   "outputs": [
    {
     "data": {
      "text/plain": [
       "(array([  0,   1,   2,   3,   4,   5,   6,   7,   8,   8,   9,  10,  11,\n",
       "         12,  13,  14,  14,  15,  16,  17,  18,  19,  20,  21,  22,  23,\n",
       "         24,  24,  24,  25,  26,  27,  28,  29,  30,  31,  32,  33,  34,\n",
       "         34,  35,  36,  37,  38,  39,  40,  41,  42,  43,  44,  45,  46,\n",
       "         47,  48,  49,  50,  51,  52,  53,  53,  54,  55,  56,  57,  58,\n",
       "         58,  59,  60,  60,  61,  62,  63,  64,  65,  66,  66,  67,  67,\n",
       "         68,  69,  70,  71,  72,  73,  74,  75,  76,  77,  78,  79,  79,\n",
       "         80,  81,  82,  83,  84,  85,  86,  87,  87,  88,  89,  90,  91,\n",
       "         92,  93,  94,  94,  95,  96,  97,  98,  98,  99, 100, 101, 102,\n",
       "        103, 103, 104, 105, 106, 107, 107, 108, 109, 110, 111, 112, 113,\n",
       "        114, 115, 116, 117, 118, 119, 120, 121, 122, 123, 124, 125, 126,\n",
       "        127, 128, 129, 130, 131, 132, 133, 134, 135, 136, 137, 137, 138,\n",
       "        138, 139, 140, 141, 142, 143, 143, 144, 144, 145, 146, 147, 148,\n",
       "        149]),\n",
       " array([4, 4, 4, 4, 4, 4, 4, 4, 1, 4, 4, 4, 4, 4, 4, 0, 4, 4, 4, 4, 4, 4,\n",
       "        4, 4, 4, 4, 2, 3, 4, 4, 4, 4, 4, 4, 4, 4, 4, 4, 0, 4, 4, 4, 4, 4,\n",
       "        4, 4, 4, 4, 4, 4, 4, 4, 4, 4, 4, 4, 4, 4, 1, 4, 4, 4, 4, 4, 1, 4,\n",
       "        4, 3, 4, 4, 4, 4, 4, 4, 3, 4, 2, 4, 4, 4, 4, 4, 4, 4, 4, 4, 4, 4,\n",
       "        4, 0, 4, 4, 4, 4, 4, 4, 4, 4, 0, 4, 4, 4, 4, 4, 4, 4, 1, 4, 4, 4,\n",
       "        4, 1, 4, 4, 4, 4, 4, 3, 4, 4, 4, 4, 3, 4, 4, 4, 4, 4, 4, 4, 4, 4,\n",
       "        4, 4, 4, 4, 4, 4, 4, 4, 4, 4, 4, 4, 4, 4, 4, 4, 4, 4, 4, 4, 4, 1,\n",
       "        4, 3, 4, 4, 4, 4, 4, 3, 4, 3, 4, 4, 4, 4, 4, 4]))"
      ]
     },
     "execution_count": 32,
     "metadata": {},
     "output_type": "execute_result"
    }
   ],
   "source": [
    "np.where(np.isnan(iris_2d))"
   ]
  },
  {
   "cell_type": "code",
   "execution_count": 3,
   "metadata": {
    "ExecuteTime": {
     "end_time": "2019-01-24T07:11:05.304649Z",
     "start_time": "2019-01-24T07:11:05.257414Z"
    }
   },
   "outputs": [],
   "source": [
    "# Filter the rows of iris_2d that has petallength (3rd column) > 1.5 and \n",
    "# sepallength (1st column) < 5.0\n",
    "url = 'https://archive.ics.uci.edu/ml/machine-learning-databases/iris/iris.data'\n",
    "iris_2d = np.genfromtxt(url, delimiter=',', dtype='float', usecols=[0,1,2,3])"
   ]
  },
  {
   "cell_type": "code",
   "execution_count": 7,
   "metadata": {
    "ExecuteTime": {
     "end_time": "2019-01-24T07:12:49.709516Z",
     "start_time": "2019-01-24T07:12:49.698629Z"
    }
   },
   "outputs": [
    {
     "data": {
      "text/plain": [
       "array([[4.8, 3.4, 1.6, 0.2],\n",
       "       [4.8, 3.4, 1.9, 0.2],\n",
       "       [4.7, 3.2, 1.6, 0.2],\n",
       "       [4.8, 3.1, 1.6, 0.2],\n",
       "       [4.9, 2.4, 3.3, 1. ],\n",
       "       [4.9, 2.5, 4.5, 1.7]])"
      ]
     },
     "execution_count": 7,
     "metadata": {},
     "output_type": "execute_result"
    }
   ],
   "source": [
    "condition = (iris_2d[:, 2] > 1.5) & (iris_2d[:, 0] < 5.0)\n",
    "np.compress(condition = condition, a = iris_2d, axis = 0)"
   ]
  },
  {
   "cell_type": "code",
   "execution_count": 10,
   "metadata": {
    "ExecuteTime": {
     "end_time": "2019-01-24T07:14:57.116436Z",
     "start_time": "2019-01-24T07:14:57.109693Z"
    }
   },
   "outputs": [],
   "source": [
    "# Select the rows of iris_2d that does not have any nan value.\n",
    "# Input\n",
    "url = 'https://archive.ics.uci.edu/ml/machine-learning-databases/iris/iris.data'\n",
    "iris_2d = np.genfromtxt(url, delimiter=',', dtype='float', usecols=[0,1,2,3])\n",
    "iris_2d[np.random.randint(150, size=20), np.random.randint(4, size=20)] = np.nan\n",
    "\n",
    "# 用np.apply_along_axis对每一行检查\n",
    "# 连用np.any 与 np.isnan\n",
    "selected_row = \\\n",
    "np.apply_along_axis(func1d = lambda x: ~np.any(np.isnan(x)), arr = iris_2d, axis = 1)\n",
    "#用np.compress来做mask\n",
    "np.compress(condition = selected_row, axis = 0, a = iris_2d)"
   ]
  },
  {
   "cell_type": "code",
   "execution_count": 33,
   "metadata": {
    "ExecuteTime": {
     "end_time": "2019-01-24T07:33:43.867602Z",
     "start_time": "2019-01-24T07:33:43.860499Z"
    }
   },
   "outputs": [],
   "source": [
    "#Find the correlation between SepalLength(1st column) and PetalLength(3rd column) in iris_2d\n",
    "# Input\n",
    "url = 'https://archive.ics.uci.edu/ml/machine-learning-databases/iris/iris.data'\n",
    "iris_2d = np.genfromtxt(url, delimiter=',', dtype='float', usecols=[0,1,2,3])\n",
    "\n",
    "#计算相关系数\n",
    "np.corrcoef(iris_2d[:, 0], iris_2d[:, 2])"
   ]
  },
  {
   "cell_type": "code",
   "execution_count": 41,
   "metadata": {
    "ExecuteTime": {
     "end_time": "2019-01-24T07:40:55.766371Z",
     "start_time": "2019-01-24T07:40:55.759518Z"
    }
   },
   "outputs": [],
   "source": [
    "# Find out if iris_2d has any missing values\n",
    "# Input\n",
    "url = 'https://archive.ics.uci.edu/ml/machine-learning-databases/iris/iris.data'\n",
    "iris_2d = np.genfromtxt(url, delimiter=',', dtype='float', usecols=[0,1,2,3])\n",
    "iris_2d[np.random.randint(150, size=20), np.random.randint(4, size=20)] = np.nan\n",
    "\n",
    "np.all(~np.isnan(iris_2d))"
   ]
  },
  {
   "cell_type": "code",
   "execution_count": 45,
   "metadata": {
    "ExecuteTime": {
     "end_time": "2019-01-24T07:42:56.884141Z",
     "start_time": "2019-01-24T07:42:56.877332Z"
    }
   },
   "outputs": [],
   "source": [
    "#. Replace all ccurrences of nan with 0 in numpy array\n",
    "# Input\n",
    "url = 'https://archive.ics.uci.edu/ml/machine-learning-databases/iris/iris.data'\n",
    "iris_2d = np.genfromtxt(url, delimiter=',', dtype='float', usecols=[0,1,2,3])\n",
    "iris_2d[np.random.randint(150, size=20), np.random.randint(4, size=20)] = np.nan\n",
    "\n",
    "iris_2d[np.isnan(iris_2d)] = 0."
   ]
  },
  {
   "cell_type": "code",
   "execution_count": 56,
   "metadata": {
    "ExecuteTime": {
     "end_time": "2019-01-24T07:56:14.759734Z",
     "start_time": "2019-01-24T07:56:14.742979Z"
    }
   },
   "outputs": [
    {
     "data": {
      "text/plain": [
       "(array([b'Iris-setosa', b'Iris-versicolor', b'Iris-virginica'],\n",
       "       dtype=object), array([50, 50, 50]))"
      ]
     },
     "execution_count": 56,
     "metadata": {},
     "output_type": "execute_result"
    }
   ],
   "source": [
    "# Find the unique values and the count of unique values in iris's species\n",
    "# Input\n",
    "url = 'https://archive.ics.uci.edu/ml/machine-learning-databases/iris/iris.data'\n",
    "iris = np.genfromtxt(url, delimiter=',', dtype='object')\n",
    "names = ('sepallength', 'sepalwidth', 'petallength', 'petalwidth', 'species')\n",
    "\n",
    "#用np.unique\n",
    "np.unique(iris[:, 4], return_counts)"
   ]
  },
  {
   "cell_type": "markdown",
   "metadata": {},
   "source": [
    "######  How to convert a numeric to a categorical (text) array?"
   ]
  },
  {
   "cell_type": "code",
   "execution_count": 59,
   "metadata": {
    "ExecuteTime": {
     "end_time": "2019-01-24T07:58:50.129607Z",
     "start_time": "2019-01-24T07:58:50.123208Z"
    }
   },
   "outputs": [],
   "source": [
    "# Bin the petal length (3rd) column of iris_2d to form a text array, \n",
    "# such that if petal length is:\n",
    "\n",
    "##Less than 3 --> 'small'\n",
    "##3-5 --> 'medium'\n",
    "##'>=5 --> 'large'\n",
    "\n",
    "url = 'https://archive.ics.uci.edu/ml/machine-learning-databases/iris/iris.data'\n",
    "iris_2d = np.genfromtxt(url, delimiter=',', dtype='float', usecols=[0,1,2,3])\n",
    "petal_length = iris_2d[:, 2]\n",
    "\n",
    "def to_category(a):\n",
    "    if a < 3:\n",
    "        return 'small'\n",
    "    elif 3<=a<5:\n",
    "        return 'medium'\n",
    "    else:\n",
    "        return 'large'\n",
    "func = np.vectorize(pyfunc = to_category)\n",
    "func(petal_length)"
   ]
  },
  {
   "cell_type": "code",
   "execution_count": 69,
   "metadata": {
    "ExecuteTime": {
     "end_time": "2019-01-24T08:21:13.754506Z",
     "start_time": "2019-01-24T08:21:13.749385Z"
    }
   },
   "outputs": [],
   "source": [
    "#另外的解法\n",
    "\n",
    "#用np.digitize 来bin数组\n",
    "petal_length_bins = np.digitize(petal_length, [0, 3, 5, 100])\n",
    "\n",
    "#map bin to category\n",
    "label_map = {1 : 'small', 2 : 'medium', \n",
    "             3 : 'large', 4 : np.nan}\n",
    "petal_length_cats = np.array([label_map[x] for x in petal_length_bins])"
   ]
  },
  {
   "cell_type": "code",
   "execution_count": 82,
   "metadata": {
    "ExecuteTime": {
     "end_time": "2019-01-24T08:33:16.687449Z",
     "start_time": "2019-01-24T08:33:16.665439Z"
    }
   },
   "outputs": [
    {
     "data": {
      "text/plain": [
       "array([[5.10000000e+00, 3.50000000e+00, 1.40000000e+00, 2.00000000e-01,\n",
       "        3.81326516e+01],\n",
       "       [4.90000000e+00, 3.00000000e+00, 1.40000000e+00, 2.00000000e-01,\n",
       "        3.52004985e+01],\n",
       "       [4.70000000e+00, 3.20000000e+00, 1.30000000e+00, 2.00000000e-01,\n",
       "        3.00723721e+01],\n",
       "       [4.60000000e+00, 3.10000000e+00, 1.50000000e+00, 2.00000000e-01,\n",
       "        3.32380503e+01],\n",
       "       [5.00000000e+00, 3.60000000e+00, 1.40000000e+00, 2.00000000e-01,\n",
       "        3.66519143e+01],\n",
       "       [5.40000000e+00, 3.90000000e+00, 1.70000000e+00, 4.00000000e-01,\n",
       "        5.19116770e+01],\n",
       "       [4.60000000e+00, 3.40000000e+00, 1.40000000e+00, 3.00000000e-01,\n",
       "        3.10221803e+01],\n",
       "       [5.00000000e+00, 3.40000000e+00, 1.50000000e+00, 2.00000000e-01,\n",
       "        3.92699082e+01],\n",
       "       [4.40000000e+00, 2.90000000e+00, 1.40000000e+00, 2.00000000e-01,\n",
       "        2.83832424e+01],\n",
       "       [4.90000000e+00, 3.10000000e+00, 1.50000000e+00, 1.00000000e-01,\n",
       "        3.77148198e+01],\n",
       "       [5.40000000e+00, 3.70000000e+00, 1.50000000e+00, 2.00000000e-01,\n",
       "        4.58044209e+01],\n",
       "       [4.80000000e+00, 3.40000000e+00, 1.60000000e+00, 2.00000000e-01,\n",
       "        3.86038905e+01],\n",
       "       [4.80000000e+00, 3.00000000e+00, 1.40000000e+00, 1.00000000e-01,\n",
       "        3.37784042e+01],\n",
       "       [4.30000000e+00, 3.00000000e+00, 1.10000000e+00, 1.00000000e-01,\n",
       "        2.12989510e+01],\n",
       "       [5.80000000e+00, 4.00000000e+00, 1.20000000e+00, 2.00000000e-01,\n",
       "        4.22732707e+01],\n",
       "       [5.70000000e+00, 4.40000000e+00, 1.50000000e+00, 4.00000000e-01,\n",
       "        5.10351727e+01],\n",
       "       [5.40000000e+00, 3.90000000e+00, 1.30000000e+00, 4.00000000e-01,\n",
       "        3.96971648e+01],\n",
       "       [5.10000000e+00, 3.50000000e+00, 1.40000000e+00, 3.00000000e-01,\n",
       "        3.81326516e+01],\n",
       "       [5.70000000e+00, 3.80000000e+00, 1.70000000e+00, 3.00000000e-01,\n",
       "        5.78398623e+01],\n",
       "       [5.10000000e+00, 3.80000000e+00, 1.50000000e+00, 3.00000000e-01,\n",
       "        4.08564125e+01],\n",
       "       [5.40000000e+00, 3.40000000e+00, 1.70000000e+00, 2.00000000e-01,\n",
       "        5.19116770e+01],\n",
       "       [5.10000000e+00, 3.70000000e+00, 1.50000000e+00, 4.00000000e-01,\n",
       "        4.08564125e+01],\n",
       "       [4.60000000e+00, 3.60000000e+00, 1.00000000e+00, 2.00000000e-01,\n",
       "        2.21587002e+01],\n",
       "       [5.10000000e+00, 3.30000000e+00, 1.70000000e+00, 5.00000000e-01,\n",
       "        4.63039341e+01],\n",
       "       [4.80000000e+00, 3.40000000e+00, 1.90000000e+00, 2.00000000e-01,\n",
       "        4.58421200e+01],\n",
       "       [5.00000000e+00, 3.00000000e+00, 1.60000000e+00, 2.00000000e-01,\n",
       "        4.18879020e+01],\n",
       "       [5.00000000e+00, 3.40000000e+00, 1.60000000e+00, 4.00000000e-01,\n",
       "        4.18879020e+01],\n",
       "       [5.20000000e+00, 3.50000000e+00, 1.50000000e+00, 2.00000000e-01,\n",
       "        4.24743327e+01],\n",
       "       [5.20000000e+00, 3.40000000e+00, 1.40000000e+00, 2.00000000e-01,\n",
       "        3.96427105e+01],\n",
       "       [4.70000000e+00, 3.20000000e+00, 1.60000000e+00, 2.00000000e-01,\n",
       "        3.70121502e+01],\n",
       "       [4.80000000e+00, 3.10000000e+00, 1.60000000e+00, 2.00000000e-01,\n",
       "        3.86038905e+01],\n",
       "       [5.40000000e+00, 3.40000000e+00, 1.50000000e+00, 4.00000000e-01,\n",
       "        4.58044209e+01],\n",
       "       [5.20000000e+00, 4.10000000e+00, 1.50000000e+00, 1.00000000e-01,\n",
       "        4.24743327e+01],\n",
       "       [5.50000000e+00, 4.20000000e+00, 1.40000000e+00, 2.00000000e-01,\n",
       "        4.43488163e+01],\n",
       "       [4.90000000e+00, 3.10000000e+00, 1.50000000e+00, 1.00000000e-01,\n",
       "        3.77148198e+01],\n",
       "       [5.00000000e+00, 3.20000000e+00, 1.20000000e+00, 2.00000000e-01,\n",
       "        3.14159265e+01],\n",
       "       [5.50000000e+00, 3.50000000e+00, 1.30000000e+00, 2.00000000e-01,\n",
       "        4.11810437e+01],\n",
       "       [4.90000000e+00, 3.10000000e+00, 1.50000000e+00, 1.00000000e-01,\n",
       "        3.77148198e+01],\n",
       "       [4.40000000e+00, 3.00000000e+00, 1.30000000e+00, 2.00000000e-01,\n",
       "        2.63558680e+01],\n",
       "       [5.10000000e+00, 3.40000000e+00, 1.50000000e+00, 2.00000000e-01,\n",
       "        4.08564125e+01],\n",
       "       [5.00000000e+00, 3.50000000e+00, 1.30000000e+00, 3.00000000e-01,\n",
       "        3.40339204e+01],\n",
       "       [4.50000000e+00, 2.30000000e+00, 1.30000000e+00, 3.00000000e-01,\n",
       "        2.75674755e+01],\n",
       "       [4.40000000e+00, 3.20000000e+00, 1.30000000e+00, 2.00000000e-01,\n",
       "        2.63558680e+01],\n",
       "       [5.00000000e+00, 3.50000000e+00, 1.60000000e+00, 6.00000000e-01,\n",
       "        4.18879020e+01],\n",
       "       [5.10000000e+00, 3.80000000e+00, 1.90000000e+00, 4.00000000e-01,\n",
       "        5.17514558e+01],\n",
       "       [4.80000000e+00, 3.00000000e+00, 1.40000000e+00, 3.00000000e-01,\n",
       "        3.37784042e+01],\n",
       "       [5.10000000e+00, 3.80000000e+00, 1.60000000e+00, 2.00000000e-01,\n",
       "        4.35801733e+01],\n",
       "       [4.60000000e+00, 3.20000000e+00, 1.40000000e+00, 2.00000000e-01,\n",
       "        3.10221803e+01],\n",
       "       [5.30000000e+00, 3.70000000e+00, 1.50000000e+00, 2.00000000e-01,\n",
       "        4.41236688e+01],\n",
       "       [5.00000000e+00, 3.30000000e+00, 1.40000000e+00, 2.00000000e-01,\n",
       "        3.66519143e+01],\n",
       "       [7.00000000e+00, 3.20000000e+00, 4.70000000e+00, 1.40000000e+00,\n",
       "        2.41169596e+02],\n",
       "       [6.40000000e+00, 3.20000000e+00, 4.50000000e+00, 1.50000000e+00,\n",
       "        1.93019453e+02],\n",
       "       [6.90000000e+00, 3.10000000e+00, 4.90000000e+00, 1.50000000e+00,\n",
       "        2.44299670e+02],\n",
       "       [5.50000000e+00, 2.30000000e+00, 4.00000000e+00, 1.30000000e+00,\n",
       "        1.26710904e+02],\n",
       "       [6.50000000e+00, 2.80000000e+00, 4.60000000e+00, 1.50000000e+00,\n",
       "        2.03522844e+02],\n",
       "       [5.70000000e+00, 2.80000000e+00, 4.50000000e+00, 1.30000000e+00,\n",
       "        1.53105518e+02],\n",
       "       [6.30000000e+00, 3.30000000e+00, 4.70000000e+00, 1.60000000e+00,\n",
       "        1.95347373e+02],\n",
       "       [4.90000000e+00, 2.40000000e+00, 3.30000000e+00, 1.00000000e+00,\n",
       "        8.29726036e+01],\n",
       "       [6.60000000e+00, 2.90000000e+00, 4.60000000e+00, 1.30000000e+00,\n",
       "        2.09833257e+02],\n",
       "       [5.20000000e+00, 2.70000000e+00, 3.90000000e+00, 1.40000000e+00,\n",
       "        1.10433265e+02],\n",
       "       [5.00000000e+00, 2.00000000e+00, 3.50000000e+00, 1.00000000e+00,\n",
       "        9.16297857e+01],\n",
       "       [5.90000000e+00, 3.00000000e+00, 4.20000000e+00, 1.50000000e+00,\n",
       "        1.53102376e+02],\n",
       "       [6.00000000e+00, 2.20000000e+00, 4.00000000e+00, 1.00000000e+00,\n",
       "        1.50796447e+02],\n",
       "       [6.10000000e+00, 2.90000000e+00, 4.70000000e+00, 1.40000000e+00,\n",
       "        1.83141238e+02],\n",
       "       [5.60000000e+00, 2.90000000e+00, 3.60000000e+00, 1.30000000e+00,\n",
       "        1.18224415e+02],\n",
       "       [6.70000000e+00, 3.10000000e+00, 4.40000000e+00, 1.40000000e+00,\n",
       "        2.06838272e+02],\n",
       "       [5.60000000e+00, 3.00000000e+00, 4.50000000e+00, 1.50000000e+00,\n",
       "        1.47780518e+02],\n",
       "       [5.80000000e+00, 2.70000000e+00, 4.10000000e+00, 1.00000000e+00,\n",
       "        1.44433675e+02],\n",
       "       [6.20000000e+00, 2.20000000e+00, 4.50000000e+00, 1.50000000e+00,\n",
       "        1.81144232e+02],\n",
       "       [5.60000000e+00, 2.50000000e+00, 3.90000000e+00, 1.10000000e+00,\n",
       "        1.28076449e+02],\n",
       "       [5.90000000e+00, 3.20000000e+00, 4.80000000e+00, 1.80000000e+00,\n",
       "        1.74974144e+02],\n",
       "       [6.10000000e+00, 2.80000000e+00, 4.00000000e+00, 1.30000000e+00,\n",
       "        1.55864884e+02],\n",
       "       [6.30000000e+00, 2.50000000e+00, 4.90000000e+00, 1.50000000e+00,\n",
       "        2.03660027e+02],\n",
       "       [6.10000000e+00, 2.80000000e+00, 4.70000000e+00, 1.20000000e+00,\n",
       "        1.83141238e+02],\n",
       "       [6.40000000e+00, 2.90000000e+00, 4.30000000e+00, 1.30000000e+00,\n",
       "        1.84440810e+02],\n",
       "       [6.60000000e+00, 3.00000000e+00, 4.40000000e+00, 1.40000000e+00,\n",
       "        2.00710071e+02],\n",
       "       [6.80000000e+00, 2.80000000e+00, 4.80000000e+00, 1.40000000e+00,\n",
       "        2.32427591e+02],\n",
       "       [6.70000000e+00, 3.00000000e+00, 5.00000000e+00, 1.70000000e+00,\n",
       "        2.35043490e+02],\n",
       "       [6.00000000e+00, 2.90000000e+00, 4.50000000e+00, 1.50000000e+00,\n",
       "        1.69646003e+02],\n",
       "       [5.70000000e+00, 2.60000000e+00, 3.50000000e+00, 1.00000000e+00,\n",
       "        1.19082070e+02],\n",
       "       [5.50000000e+00, 2.40000000e+00, 3.80000000e+00, 1.10000000e+00,\n",
       "        1.20375359e+02],\n",
       "       [5.50000000e+00, 2.40000000e+00, 3.70000000e+00, 1.00000000e+00,\n",
       "        1.17207586e+02],\n",
       "       [5.80000000e+00, 2.70000000e+00, 3.90000000e+00, 1.20000000e+00,\n",
       "        1.37388130e+02],\n",
       "       [6.00000000e+00, 2.70000000e+00, 5.10000000e+00, 1.60000000e+00,\n",
       "        1.92265470e+02],\n",
       "       [5.40000000e+00, 3.00000000e+00, 4.50000000e+00, 1.50000000e+00,\n",
       "        1.37413263e+02],\n",
       "       [6.00000000e+00, 3.40000000e+00, 4.50000000e+00, 1.60000000e+00,\n",
       "        1.69646003e+02],\n",
       "       [6.70000000e+00, 3.10000000e+00, 4.70000000e+00, 1.50000000e+00,\n",
       "        2.20940881e+02],\n",
       "       [6.30000000e+00, 2.30000000e+00, 4.40000000e+00, 1.30000000e+00,\n",
       "        1.82878392e+02],\n",
       "       [5.60000000e+00, 3.00000000e+00, 4.10000000e+00, 1.30000000e+00,\n",
       "        1.34644472e+02],\n",
       "       [5.50000000e+00, 2.50000000e+00, 4.00000000e+00, 1.30000000e+00,\n",
       "        1.26710904e+02],\n",
       "       [5.50000000e+00, 2.60000000e+00, 4.40000000e+00, 1.20000000e+00,\n",
       "        1.39381994e+02],\n",
       "       [6.10000000e+00, 3.00000000e+00, 4.60000000e+00, 1.40000000e+00,\n",
       "        1.79244616e+02],\n",
       "       [5.80000000e+00, 2.60000000e+00, 4.00000000e+00, 1.20000000e+00,\n",
       "        1.40910902e+02],\n",
       "       [5.00000000e+00, 2.30000000e+00, 3.30000000e+00, 1.00000000e+00,\n",
       "        8.63937980e+01],\n",
       "       [5.60000000e+00, 2.70000000e+00, 4.20000000e+00, 1.30000000e+00,\n",
       "        1.37928484e+02],\n",
       "       [5.70000000e+00, 3.00000000e+00, 4.20000000e+00, 1.20000000e+00,\n",
       "        1.42898483e+02],\n",
       "       [5.70000000e+00, 2.90000000e+00, 4.20000000e+00, 1.30000000e+00,\n",
       "        1.42898483e+02],\n",
       "       [6.20000000e+00, 2.90000000e+00, 4.30000000e+00, 1.30000000e+00,\n",
       "        1.73093378e+02],\n",
       "       [5.10000000e+00, 2.50000000e+00, 3.00000000e+00, 1.10000000e+00,\n",
       "        8.17128249e+01],\n",
       "       [5.70000000e+00, 2.80000000e+00, 4.10000000e+00, 1.30000000e+00,\n",
       "        1.39496139e+02],\n",
       "       [6.30000000e+00, 3.30000000e+00, 6.00000000e+00, 2.50000000e+00,\n",
       "        2.49379625e+02],\n",
       "       [5.80000000e+00, 2.70000000e+00, 5.10000000e+00, 1.90000000e+00,\n",
       "        1.79661401e+02],\n",
       "       [7.10000000e+00, 3.00000000e+00, 5.90000000e+00, 2.10000000e+00,\n",
       "        3.11456448e+02],\n",
       "       [6.30000000e+00, 2.90000000e+00, 5.60000000e+00, 1.80000000e+00,\n",
       "        2.32754317e+02],\n",
       "       [6.50000000e+00, 3.00000000e+00, 5.80000000e+00, 2.20000000e+00,\n",
       "        2.56615760e+02],\n",
       "       [7.60000000e+00, 3.00000000e+00, 6.60000000e+00, 2.10000000e+00,\n",
       "        3.99208462e+02],\n",
       "       [4.90000000e+00, 2.50000000e+00, 4.50000000e+00, 1.70000000e+00,\n",
       "        1.13144459e+02],\n",
       "       [7.30000000e+00, 2.90000000e+00, 6.30000000e+00, 1.80000000e+00,\n",
       "        3.51572492e+02],\n",
       "       [6.70000000e+00, 2.50000000e+00, 5.80000000e+00, 1.80000000e+00,\n",
       "        2.72650449e+02],\n",
       "       [7.20000000e+00, 3.60000000e+00, 6.10000000e+00, 2.50000000e+00,\n",
       "        3.31148998e+02],\n",
       "       [6.50000000e+00, 3.20000000e+00, 5.10000000e+00, 2.00000000e+00,\n",
       "        2.25644892e+02],\n",
       "       [6.40000000e+00, 2.70000000e+00, 5.30000000e+00, 1.90000000e+00,\n",
       "        2.27334022e+02],\n",
       "       [6.80000000e+00, 3.00000000e+00, 5.50000000e+00, 2.10000000e+00,\n",
       "        2.66323281e+02],\n",
       "       [5.70000000e+00, 2.50000000e+00, 5.00000000e+00, 2.00000000e+00,\n",
       "        1.70117242e+02],\n",
       "       [5.80000000e+00, 2.80000000e+00, 5.10000000e+00, 2.40000000e+00,\n",
       "        1.79661401e+02],\n",
       "       [6.40000000e+00, 3.20000000e+00, 5.30000000e+00, 2.30000000e+00,\n",
       "        2.27334022e+02],\n",
       "       [6.50000000e+00, 3.00000000e+00, 5.50000000e+00, 1.80000000e+00,\n",
       "        2.43342531e+02],\n",
       "       [7.70000000e+00, 3.80000000e+00, 6.70000000e+00, 2.20000000e+00,\n",
       "        4.15991897e+02],\n",
       "       [7.70000000e+00, 2.60000000e+00, 6.90000000e+00, 2.30000000e+00,\n",
       "        4.28409565e+02],\n",
       "       [6.00000000e+00, 2.20000000e+00, 5.00000000e+00, 1.50000000e+00,\n",
       "        1.88495559e+02],\n",
       "       [6.90000000e+00, 3.20000000e+00, 5.70000000e+00, 2.30000000e+00,\n",
       "        2.84185330e+02],\n",
       "       [5.60000000e+00, 2.80000000e+00, 4.90000000e+00, 2.00000000e+00,\n",
       "        1.60916565e+02],\n",
       "       [7.70000000e+00, 2.80000000e+00, 6.70000000e+00, 2.00000000e+00,\n",
       "        4.15991897e+02],\n",
       "       [6.30000000e+00, 2.70000000e+00, 4.90000000e+00, 1.80000000e+00,\n",
       "        2.03660027e+02],\n",
       "       [6.70000000e+00, 3.30000000e+00, 5.70000000e+00, 2.10000000e+00,\n",
       "        2.67949579e+02],\n",
       "       [7.20000000e+00, 3.20000000e+00, 6.00000000e+00, 1.80000000e+00,\n",
       "        3.25720326e+02],\n",
       "       [6.20000000e+00, 2.80000000e+00, 4.80000000e+00, 1.80000000e+00,\n",
       "        1.93220515e+02],\n",
       "       [6.10000000e+00, 3.00000000e+00, 4.90000000e+00, 1.80000000e+00,\n",
       "        1.90934482e+02],\n",
       "       [6.40000000e+00, 2.80000000e+00, 5.60000000e+00, 2.10000000e+00,\n",
       "        2.40201986e+02],\n",
       "       [7.20000000e+00, 3.00000000e+00, 5.80000000e+00, 1.60000000e+00,\n",
       "        3.14862982e+02],\n",
       "       [7.40000000e+00, 2.80000000e+00, 6.10000000e+00, 1.90000000e+00,\n",
       "        3.49801681e+02],\n",
       "       [7.90000000e+00, 3.80000000e+00, 6.40000000e+00, 2.00000000e+00,\n",
       "        4.18275835e+02],\n",
       "       [6.40000000e+00, 2.80000000e+00, 5.60000000e+00, 2.20000000e+00,\n",
       "        2.40201986e+02],\n",
       "       [6.30000000e+00, 2.80000000e+00, 5.10000000e+00, 1.50000000e+00,\n",
       "        2.11972681e+02],\n",
       "       [6.10000000e+00, 2.60000000e+00, 5.60000000e+00, 1.40000000e+00,\n",
       "        2.18210837e+02],\n",
       "       [7.70000000e+00, 3.00000000e+00, 6.10000000e+00, 2.30000000e+00,\n",
       "        3.78738891e+02],\n",
       "       [6.30000000e+00, 3.40000000e+00, 5.60000000e+00, 2.40000000e+00,\n",
       "        2.32754317e+02],\n",
       "       [6.40000000e+00, 3.10000000e+00, 5.50000000e+00, 1.80000000e+00,\n",
       "        2.35912664e+02],\n",
       "       [6.00000000e+00, 3.00000000e+00, 4.80000000e+00, 1.80000000e+00,\n",
       "        1.80955737e+02],\n",
       "       [6.90000000e+00, 3.10000000e+00, 5.40000000e+00, 2.10000000e+00,\n",
       "        2.69228207e+02],\n",
       "       [6.70000000e+00, 3.10000000e+00, 5.60000000e+00, 2.40000000e+00,\n",
       "        2.63248709e+02],\n",
       "       [6.90000000e+00, 3.10000000e+00, 5.10000000e+00, 2.30000000e+00,\n",
       "        2.54271085e+02],\n",
       "       [5.80000000e+00, 2.70000000e+00, 5.10000000e+00, 1.90000000e+00,\n",
       "        1.79661401e+02],\n",
       "       [6.80000000e+00, 3.20000000e+00, 5.90000000e+00, 2.30000000e+00,\n",
       "        2.85692247e+02],\n",
       "       [6.70000000e+00, 3.30000000e+00, 5.70000000e+00, 2.50000000e+00,\n",
       "        2.67949579e+02],\n",
       "       [6.70000000e+00, 3.00000000e+00, 5.20000000e+00, 2.30000000e+00,\n",
       "        2.44445230e+02],\n",
       "       [6.30000000e+00, 2.50000000e+00, 5.00000000e+00, 1.90000000e+00,\n",
       "        2.07816354e+02],\n",
       "       [6.50000000e+00, 3.00000000e+00, 5.20000000e+00, 2.00000000e+00,\n",
       "        2.30069302e+02],\n",
       "       [6.20000000e+00, 3.40000000e+00, 5.40000000e+00, 2.30000000e+00,\n",
       "        2.17373079e+02],\n",
       "       [5.90000000e+00, 3.00000000e+00, 5.10000000e+00, 1.80000000e+00,\n",
       "        1.85910028e+02]])"
      ]
     },
     "execution_count": 82,
     "metadata": {},
     "output_type": "execute_result"
    }
   ],
   "source": [
    "#Create a new column for volume in iris_2d, \n",
    "#where volume is (pi x petallength x sepal_length^2)/3\n",
    "url = 'https://archive.ics.uci.edu/ml/machine-learning-databases/iris/iris.data'\n",
    "iris_2d = np.genfromtxt(url, delimiter=',', dtype='float', usecols=[0,1,2,3])\n",
    "names = ('sepallength', 'sepalwidth', 'petallength', 'petalwidth', 'species')\n",
    "\n",
    "petal_length = iris_2d[:, 2]\n",
    "sepal_length = iris_2d[:, 0]\n",
    "volumn = 1/3 * np.pi * petal_length * sepal_length * sepal_length\n",
    "#注意，用np.newaxis把volumn由行向量转换成列向量\n",
    "np.hstack((iris_2d, volumn[:, np.newaxis]))"
   ]
  },
  {
   "cell_type": "markdown",
   "metadata": {},
   "source": [
    "######  How to do probabilistic sampling in numpy?"
   ]
  },
  {
   "cell_type": "code",
   "execution_count": 25,
   "metadata": {
    "ExecuteTime": {
     "end_time": "2019-01-25T04:59:48.217305Z",
     "start_time": "2019-01-25T04:59:48.210046Z"
    }
   },
   "outputs": [],
   "source": [
    "# Randomly sample iris's species such that \n",
    "#setose is twice the number of versicolor and virginica\n",
    "url = 'https://archive.ics.uci.edu/ml/machine-learning-databases/iris/iris.data'\n",
    "iris_2d = np.genfromtxt(url, delimiter=',', dtype='object')\n",
    "names = ('sepallength', 'sepalwidth', 'petallength', 'petalwidth', 'species')\n",
    "species = iris_2d[:, 4]"
   ]
  },
  {
   "cell_type": "code",
   "execution_count": 26,
   "metadata": {
    "ExecuteTime": {
     "end_time": "2019-01-25T04:59:49.961755Z",
     "start_time": "2019-01-25T04:59:49.958371Z"
    }
   },
   "outputs": [],
   "source": [
    "#help(np.r_)"
   ]
  },
  {
   "cell_type": "code",
   "execution_count": 27,
   "metadata": {
    "ExecuteTime": {
     "end_time": "2019-01-25T04:59:49.977775Z",
     "start_time": "2019-01-25T04:59:49.966690Z"
    }
   },
   "outputs": [],
   "source": [
    "np.random.seed(100)\n",
    "probs = np.r_[np.linspace(0, 0.5, num = 50), \n",
    "              np.linspace(0.501, .750, num = 50),\n",
    "              np.linspace(0.751, 1.0, num = 50)]"
   ]
  },
  {
   "cell_type": "code",
   "execution_count": 28,
   "metadata": {
    "ExecuteTime": {
     "end_time": "2019-01-25T05:05:23.700473Z",
     "start_time": "2019-01-25T05:05:23.696953Z"
    }
   },
   "outputs": [],
   "source": [
    "#help(np.searchsorted)"
   ]
  },
  {
   "cell_type": "code",
   "execution_count": 29,
   "metadata": {
    "ExecuteTime": {
     "end_time": "2019-01-25T05:05:24.113339Z",
     "start_time": "2019-01-25T05:05:24.109510Z"
    }
   },
   "outputs": [],
   "source": [
    "#把第二个参数的元素插入到第一个参数的已排好序的数组中，保持第一个参数的数组原顺序不变 返回index\n",
    "index = np.searchsorted(probs, np.random.random(150))"
   ]
  },
  {
   "cell_type": "code",
   "execution_count": 30,
   "metadata": {
    "ExecuteTime": {
     "end_time": "2019-01-25T05:05:24.699257Z",
     "start_time": "2019-01-25T05:05:24.641992Z"
    }
   },
   "outputs": [
    {
     "data": {
      "text/plain": [
       "(array([b'Iris-setosa', b'Iris-versicolor', b'Iris-virginica'],\n",
       "       dtype=object), array([77, 37, 36]))"
      ]
     },
     "execution_count": 30,
     "metadata": {},
     "output_type": "execute_result"
    }
   ],
   "source": [
    "species_out = species[index]\n",
    "np.unique(species_out, return_counts = True)"
   ]
  },
  {
   "cell_type": "code",
   "execution_count": 31,
   "metadata": {
    "ExecuteTime": {
     "end_time": "2019-01-25T05:09:20.190604Z",
     "start_time": "2019-01-25T05:09:20.180263Z"
    }
   },
   "outputs": [],
   "source": [
    "#What is the value of second longest petallength of species setosa\n",
    "url = 'https://archive.ics.uci.edu/ml/machine-learning-databases/iris/iris.data'\n",
    "iris = np.genfromtxt(url, delimiter=',', dtype='object')\n",
    "names = ('sepallength', 'sepalwidth', 'petallength', 'petalwidth', 'species')\n",
    "\n",
    "mask = (iris[:, 4] == b'Iris-setosa')\n",
    "iris_setosa = np.compress(condition = mask, a = iris, axis = 0)\n",
    "#注意要用np.unique排除重复值！\n",
    "np.unique(np.sort(iris_setosa[:, 2].astype(float)))[-2]"
   ]
  },
  {
   "cell_type": "code",
   "execution_count": 52,
   "metadata": {
    "ExecuteTime": {
     "end_time": "2019-01-25T05:47:25.140476Z",
     "start_time": "2019-01-25T05:47:25.125216Z"
    }
   },
   "outputs": [
    {
     "data": {
      "text/plain": [
       "array([[b'4.3', b'3.0', b'1.1', b'0.1', b'Iris-setosa'],\n",
       "       [b'4.4', b'3.2', b'1.3', b'0.2', b'Iris-setosa'],\n",
       "       [b'4.4', b'3.0', b'1.3', b'0.2', b'Iris-setosa'],\n",
       "       [b'4.4', b'2.9', b'1.4', b'0.2', b'Iris-setosa'],\n",
       "       [b'4.5', b'2.3', b'1.3', b'0.3', b'Iris-setosa'],\n",
       "       [b'4.6', b'3.6', b'1.0', b'0.2', b'Iris-setosa'],\n",
       "       [b'4.6', b'3.1', b'1.5', b'0.2', b'Iris-setosa'],\n",
       "       [b'4.6', b'3.4', b'1.4', b'0.3', b'Iris-setosa'],\n",
       "       [b'4.6', b'3.2', b'1.4', b'0.2', b'Iris-setosa'],\n",
       "       [b'4.7', b'3.2', b'1.3', b'0.2', b'Iris-setosa'],\n",
       "       [b'4.7', b'3.2', b'1.6', b'0.2', b'Iris-setosa'],\n",
       "       [b'4.8', b'3.0', b'1.4', b'0.1', b'Iris-setosa'],\n",
       "       [b'4.8', b'3.0', b'1.4', b'0.3', b'Iris-setosa'],\n",
       "       [b'4.8', b'3.4', b'1.9', b'0.2', b'Iris-setosa'],\n",
       "       [b'4.8', b'3.4', b'1.6', b'0.2', b'Iris-setosa'],\n",
       "       [b'4.8', b'3.1', b'1.6', b'0.2', b'Iris-setosa'],\n",
       "       [b'4.9', b'2.4', b'3.3', b'1.0', b'Iris-versicolor'],\n",
       "       [b'4.9', b'2.5', b'4.5', b'1.7', b'Iris-virginica'],\n",
       "       [b'4.9', b'3.1', b'1.5', b'0.1', b'Iris-setosa'],\n",
       "       [b'4.9', b'3.1', b'1.5', b'0.1', b'Iris-setosa'],\n",
       "       [b'4.9', b'3.1', b'1.5', b'0.1', b'Iris-setosa'],\n",
       "       [b'4.9', b'3.0', b'1.4', b'0.2', b'Iris-setosa'],\n",
       "       [b'5.0', b'3.5', b'1.3', b'0.3', b'Iris-setosa'],\n",
       "       [b'5.0', b'3.4', b'1.6', b'0.4', b'Iris-setosa'],\n",
       "       [b'5.0', b'3.3', b'1.4', b'0.2', b'Iris-setosa'],\n",
       "       [b'5.0', b'3.2', b'1.2', b'0.2', b'Iris-setosa'],\n",
       "       [b'5.0', b'3.5', b'1.6', b'0.6', b'Iris-setosa'],\n",
       "       [b'5.0', b'2.0', b'3.5', b'1.0', b'Iris-versicolor'],\n",
       "       [b'5.0', b'3.4', b'1.5', b'0.2', b'Iris-setosa'],\n",
       "       [b'5.0', b'2.3', b'3.3', b'1.0', b'Iris-versicolor'],\n",
       "       [b'5.0', b'3.6', b'1.4', b'0.2', b'Iris-setosa'],\n",
       "       [b'5.0', b'3.0', b'1.6', b'0.2', b'Iris-setosa'],\n",
       "       [b'5.1', b'3.8', b'1.9', b'0.4', b'Iris-setosa'],\n",
       "       [b'5.1', b'3.8', b'1.6', b'0.2', b'Iris-setosa'],\n",
       "       [b'5.1', b'2.5', b'3.0', b'1.1', b'Iris-versicolor'],\n",
       "       [b'5.1', b'3.5', b'1.4', b'0.2', b'Iris-setosa'],\n",
       "       [b'5.1', b'3.4', b'1.5', b'0.2', b'Iris-setosa'],\n",
       "       [b'5.1', b'3.5', b'1.4', b'0.3', b'Iris-setosa'],\n",
       "       [b'5.1', b'3.3', b'1.7', b'0.5', b'Iris-setosa'],\n",
       "       [b'5.1', b'3.7', b'1.5', b'0.4', b'Iris-setosa'],\n",
       "       [b'5.1', b'3.8', b'1.5', b'0.3', b'Iris-setosa'],\n",
       "       [b'5.2', b'4.1', b'1.5', b'0.1', b'Iris-setosa'],\n",
       "       [b'5.2', b'3.4', b'1.4', b'0.2', b'Iris-setosa'],\n",
       "       [b'5.2', b'3.5', b'1.5', b'0.2', b'Iris-setosa'],\n",
       "       [b'5.2', b'2.7', b'3.9', b'1.4', b'Iris-versicolor'],\n",
       "       [b'5.3', b'3.7', b'1.5', b'0.2', b'Iris-setosa'],\n",
       "       [b'5.4', b'3.0', b'4.5', b'1.5', b'Iris-versicolor'],\n",
       "       [b'5.4', b'3.9', b'1.7', b'0.4', b'Iris-setosa'],\n",
       "       [b'5.4', b'3.4', b'1.7', b'0.2', b'Iris-setosa'],\n",
       "       [b'5.4', b'3.4', b'1.5', b'0.4', b'Iris-setosa'],\n",
       "       [b'5.4', b'3.7', b'1.5', b'0.2', b'Iris-setosa'],\n",
       "       [b'5.4', b'3.9', b'1.3', b'0.4', b'Iris-setosa'],\n",
       "       [b'5.5', b'3.5', b'1.3', b'0.2', b'Iris-setosa'],\n",
       "       [b'5.5', b'2.6', b'4.4', b'1.2', b'Iris-versicolor'],\n",
       "       [b'5.5', b'4.2', b'1.4', b'0.2', b'Iris-setosa'],\n",
       "       [b'5.5', b'2.3', b'4.0', b'1.3', b'Iris-versicolor'],\n",
       "       [b'5.5', b'2.4', b'3.7', b'1.0', b'Iris-versicolor'],\n",
       "       [b'5.5', b'2.4', b'3.8', b'1.1', b'Iris-versicolor'],\n",
       "       [b'5.5', b'2.5', b'4.0', b'1.3', b'Iris-versicolor'],\n",
       "       [b'5.6', b'3.0', b'4.1', b'1.3', b'Iris-versicolor'],\n",
       "       [b'5.6', b'2.8', b'4.9', b'2.0', b'Iris-virginica'],\n",
       "       [b'5.6', b'3.0', b'4.5', b'1.5', b'Iris-versicolor'],\n",
       "       [b'5.6', b'2.5', b'3.9', b'1.1', b'Iris-versicolor'],\n",
       "       [b'5.6', b'2.7', b'4.2', b'1.3', b'Iris-versicolor'],\n",
       "       [b'5.6', b'2.9', b'3.6', b'1.3', b'Iris-versicolor'],\n",
       "       [b'5.7', b'2.6', b'3.5', b'1.0', b'Iris-versicolor'],\n",
       "       [b'5.7', b'2.9', b'4.2', b'1.3', b'Iris-versicolor'],\n",
       "       [b'5.7', b'2.8', b'4.1', b'1.3', b'Iris-versicolor'],\n",
       "       [b'5.7', b'4.4', b'1.5', b'0.4', b'Iris-setosa'],\n",
       "       [b'5.7', b'2.8', b'4.5', b'1.3', b'Iris-versicolor'],\n",
       "       [b'5.7', b'2.5', b'5.0', b'2.0', b'Iris-virginica'],\n",
       "       [b'5.7', b'3.8', b'1.7', b'0.3', b'Iris-setosa'],\n",
       "       [b'5.7', b'3.0', b'4.2', b'1.2', b'Iris-versicolor'],\n",
       "       [b'5.8', b'2.7', b'4.1', b'1.0', b'Iris-versicolor'],\n",
       "       [b'5.8', b'4.0', b'1.2', b'0.2', b'Iris-setosa'],\n",
       "       [b'5.8', b'2.6', b'4.0', b'1.2', b'Iris-versicolor'],\n",
       "       [b'5.8', b'2.8', b'5.1', b'2.4', b'Iris-virginica'],\n",
       "       [b'5.8', b'2.7', b'5.1', b'1.9', b'Iris-virginica'],\n",
       "       [b'5.8', b'2.7', b'3.9', b'1.2', b'Iris-versicolor'],\n",
       "       [b'5.8', b'2.7', b'5.1', b'1.9', b'Iris-virginica'],\n",
       "       [b'5.9', b'3.0', b'5.1', b'1.8', b'Iris-virginica'],\n",
       "       [b'5.9', b'3.0', b'4.2', b'1.5', b'Iris-versicolor'],\n",
       "       [b'5.9', b'3.2', b'4.8', b'1.8', b'Iris-versicolor'],\n",
       "       [b'6.0', b'2.9', b'4.5', b'1.5', b'Iris-versicolor'],\n",
       "       [b'6.0', b'2.7', b'5.1', b'1.6', b'Iris-versicolor'],\n",
       "       [b'6.0', b'3.0', b'4.8', b'1.8', b'Iris-virginica'],\n",
       "       [b'6.0', b'3.4', b'4.5', b'1.6', b'Iris-versicolor'],\n",
       "       [b'6.0', b'2.2', b'4.0', b'1.0', b'Iris-versicolor'],\n",
       "       [b'6.0', b'2.2', b'5.0', b'1.5', b'Iris-virginica'],\n",
       "       [b'6.1', b'3.0', b'4.9', b'1.8', b'Iris-virginica'],\n",
       "       [b'6.1', b'2.6', b'5.6', b'1.4', b'Iris-virginica'],\n",
       "       [b'6.1', b'2.8', b'4.0', b'1.3', b'Iris-versicolor'],\n",
       "       [b'6.1', b'2.9', b'4.7', b'1.4', b'Iris-versicolor'],\n",
       "       [b'6.1', b'2.8', b'4.7', b'1.2', b'Iris-versicolor'],\n",
       "       [b'6.1', b'3.0', b'4.6', b'1.4', b'Iris-versicolor'],\n",
       "       [b'6.2', b'2.2', b'4.5', b'1.5', b'Iris-versicolor'],\n",
       "       [b'6.2', b'2.9', b'4.3', b'1.3', b'Iris-versicolor'],\n",
       "       [b'6.2', b'3.4', b'5.4', b'2.3', b'Iris-virginica'],\n",
       "       [b'6.2', b'2.8', b'4.8', b'1.8', b'Iris-virginica'],\n",
       "       [b'6.3', b'2.5', b'4.9', b'1.5', b'Iris-versicolor'],\n",
       "       [b'6.3', b'2.7', b'4.9', b'1.8', b'Iris-virginica'],\n",
       "       [b'6.3', b'2.5', b'5.0', b'1.9', b'Iris-virginica'],\n",
       "       [b'6.3', b'3.3', b'4.7', b'1.6', b'Iris-versicolor'],\n",
       "       [b'6.3', b'2.8', b'5.1', b'1.5', b'Iris-virginica'],\n",
       "       [b'6.3', b'3.3', b'6.0', b'2.5', b'Iris-virginica'],\n",
       "       [b'6.3', b'2.3', b'4.4', b'1.3', b'Iris-versicolor'],\n",
       "       [b'6.3', b'3.4', b'5.6', b'2.4', b'Iris-virginica'],\n",
       "       [b'6.3', b'2.9', b'5.6', b'1.8', b'Iris-virginica'],\n",
       "       [b'6.4', b'2.8', b'5.6', b'2.2', b'Iris-virginica'],\n",
       "       [b'6.4', b'2.8', b'5.6', b'2.1', b'Iris-virginica'],\n",
       "       [b'6.4', b'3.1', b'5.5', b'1.8', b'Iris-virginica'],\n",
       "       [b'6.4', b'3.2', b'4.5', b'1.5', b'Iris-versicolor'],\n",
       "       [b'6.4', b'3.2', b'5.3', b'2.3', b'Iris-virginica'],\n",
       "       [b'6.4', b'2.9', b'4.3', b'1.3', b'Iris-versicolor'],\n",
       "       [b'6.4', b'2.7', b'5.3', b'1.9', b'Iris-virginica'],\n",
       "       [b'6.5', b'3.0', b'5.8', b'2.2', b'Iris-virginica'],\n",
       "       [b'6.5', b'3.0', b'5.5', b'1.8', b'Iris-virginica'],\n",
       "       [b'6.5', b'3.0', b'5.2', b'2.0', b'Iris-virginica'],\n",
       "       [b'6.5', b'2.8', b'4.6', b'1.5', b'Iris-versicolor'],\n",
       "       [b'6.5', b'3.2', b'5.1', b'2.0', b'Iris-virginica'],\n",
       "       [b'6.6', b'2.9', b'4.6', b'1.3', b'Iris-versicolor'],\n",
       "       [b'6.6', b'3.0', b'4.4', b'1.4', b'Iris-versicolor'],\n",
       "       [b'6.7', b'3.1', b'4.7', b'1.5', b'Iris-versicolor'],\n",
       "       [b'6.7', b'3.1', b'5.6', b'2.4', b'Iris-virginica'],\n",
       "       [b'6.7', b'2.5', b'5.8', b'1.8', b'Iris-virginica'],\n",
       "       [b'6.7', b'3.0', b'5.0', b'1.7', b'Iris-versicolor'],\n",
       "       [b'6.7', b'3.1', b'4.4', b'1.4', b'Iris-versicolor'],\n",
       "       [b'6.7', b'3.3', b'5.7', b'2.5', b'Iris-virginica'],\n",
       "       [b'6.7', b'3.0', b'5.2', b'2.3', b'Iris-virginica'],\n",
       "       [b'6.7', b'3.3', b'5.7', b'2.1', b'Iris-virginica'],\n",
       "       [b'6.8', b'3.2', b'5.9', b'2.3', b'Iris-virginica'],\n",
       "       [b'6.8', b'2.8', b'4.8', b'1.4', b'Iris-versicolor'],\n",
       "       [b'6.8', b'3.0', b'5.5', b'2.1', b'Iris-virginica'],\n",
       "       [b'6.9', b'3.1', b'5.4', b'2.1', b'Iris-virginica'],\n",
       "       [b'6.9', b'3.1', b'5.1', b'2.3', b'Iris-virginica'],\n",
       "       [b'6.9', b'3.1', b'4.9', b'1.5', b'Iris-versicolor'],\n",
       "       [b'6.9', b'3.2', b'5.7', b'2.3', b'Iris-virginica'],\n",
       "       [b'7.0', b'3.2', b'4.7', b'1.4', b'Iris-versicolor'],\n",
       "       [b'7.1', b'3.0', b'5.9', b'2.1', b'Iris-virginica'],\n",
       "       [b'7.2', b'3.0', b'5.8', b'1.6', b'Iris-virginica'],\n",
       "       [b'7.2', b'3.2', b'6.0', b'1.8', b'Iris-virginica'],\n",
       "       [b'7.2', b'3.6', b'6.1', b'2.5', b'Iris-virginica'],\n",
       "       [b'7.3', b'2.9', b'6.3', b'1.8', b'Iris-virginica'],\n",
       "       [b'7.4', b'2.8', b'6.1', b'1.9', b'Iris-virginica'],\n",
       "       [b'7.6', b'3.0', b'6.6', b'2.1', b'Iris-virginica'],\n",
       "       [b'7.7', b'2.8', b'6.7', b'2.0', b'Iris-virginica'],\n",
       "       [b'7.7', b'2.6', b'6.9', b'2.3', b'Iris-virginica'],\n",
       "       [b'7.7', b'3.8', b'6.7', b'2.2', b'Iris-virginica'],\n",
       "       [b'7.7', b'3.0', b'6.1', b'2.3', b'Iris-virginica'],\n",
       "       [b'7.9', b'3.8', b'6.4', b'2.0', b'Iris-virginica']], dtype=object)"
      ]
     },
     "execution_count": 52,
     "metadata": {},
     "output_type": "execute_result"
    }
   ],
   "source": [
    "#Sort the iris dataset based on sepallength column\n",
    "url = 'https://archive.ics.uci.edu/ml/machine-learning-databases/iris/iris.data'\n",
    "iris = np.genfromtxt(url, delimiter=',', dtype='object')\n",
    "names = ('sepallength', 'sepalwidth', 'petallength', 'petalwidth', 'species')\n",
    "\n",
    "sepal_length = iris[:, 0].astype(float)\n",
    "sorted_idx = np.argsort(sepal_length)\n",
    "np.take(indices = sorted_idx, a = iris, axis = 0)"
   ]
  },
  {
   "cell_type": "code",
   "execution_count": 55,
   "metadata": {
    "ExecuteTime": {
     "end_time": "2019-01-25T06:02:13.038573Z",
     "start_time": "2019-01-25T06:02:13.027721Z"
    }
   },
   "outputs": [
    {
     "data": {
      "text/plain": [
       "1.5"
      ]
     },
     "execution_count": 55,
     "metadata": {},
     "output_type": "execute_result"
    }
   ],
   "source": [
    "#Find the most frequent value of petal length (3rd column) in iris dataset.\n",
    "url = 'https://archive.ics.uci.edu/ml/machine-learning-databases/iris/iris.data'\n",
    "iris = np.genfromtxt(url, delimiter=',', dtype='object')\n",
    "names = ('sepallength', 'sepalwidth', 'petallength', 'petalwidth', 'species')\n",
    "values, counts = np.unique(iris[:, 2].astype(float), return_counts = True)\n",
    "values[np.argmax(counts)]"
   ]
  },
  {
   "cell_type": "code",
   "execution_count": 56,
   "metadata": {
    "ExecuteTime": {
     "end_time": "2019-01-25T06:12:48.985793Z",
     "start_time": "2019-01-25T06:12:48.978912Z"
    }
   },
   "outputs": [],
   "source": [
    "#Find the position of the first occurrence of a value \n",
    "#greater than 1.0 in petalwidth 4th column of iris dataset.\n",
    "url = 'https://archive.ics.uci.edu/ml/machine-learning-databases/iris/iris.data'\n",
    "iris = np.genfromtxt(url, delimiter=',', dtype='object')\n",
    "names = ('sepallength', 'sepalwidth', 'petallength', 'petalwidth', 'species')\n",
    "petal_width = iris[:, 3].astype(float)\n",
    "\n",
    "#np.argwhere\n",
    "np.argwhere(petal_width > 1.0)[0][0]"
   ]
  },
  {
   "cell_type": "markdown",
   "metadata": {},
   "source": [
    "###### How to replace all values greater than a given value to a given cutoff?"
   ]
  },
  {
   "cell_type": "code",
   "execution_count": 71,
   "metadata": {
    "ExecuteTime": {
     "end_time": "2019-01-25T06:46:58.082908Z",
     "start_time": "2019-01-25T06:46:58.072966Z"
    }
   },
   "outputs": [
    {
     "data": {
      "text/plain": [
       "array([27.62684215, 14.64009987, 21.80136195, 30.        , 10.        ,\n",
       "       10.        , 30.        , 30.        , 10.        , 29.17957314,\n",
       "       30.        , 11.25090398, 10.08108276, 10.        , 11.76517714,\n",
       "       30.        , 30.        , 10.        , 30.        , 14.42961361])"
      ]
     },
     "execution_count": 71,
     "metadata": {},
     "output_type": "execute_result"
    }
   ],
   "source": [
    "#From the array a, replace all values greater than 30 to 30 and less than 10 to 10.\n",
    "np.random.seed(100)\n",
    "a = np.random.uniform(1,50, 20)\n",
    "\n",
    "#解法一, np.clip\n",
    "np.clip(a, a_min = 10, a_max = 30)\n",
    "#揭发二, np.where\n",
    "np.where(a < 10, 10, np.where(a > 30, 30, a))"
   ]
  },
  {
   "cell_type": "code",
   "execution_count": 74,
   "metadata": {
    "ExecuteTime": {
     "end_time": "2019-01-25T06:49:42.982179Z",
     "start_time": "2019-01-25T06:49:42.972108Z"
    }
   },
   "outputs": [
    {
     "data": {
      "text/plain": [
       "array([40.99501269, 41.466785  , 42.39403048, 44.67477576, 48.95256545])"
      ]
     },
     "execution_count": 74,
     "metadata": {},
     "output_type": "execute_result"
    }
   ],
   "source": [
    "#Get the positions of top 5 maximum values in a given array a.\n",
    "np.random.seed(100)\n",
    "a = np.random.uniform(1,50, 20)\n",
    "np.unique(np.sort(a))[-5:]"
   ]
  },
  {
   "cell_type": "code",
   "execution_count": 87,
   "metadata": {
    "ExecuteTime": {
     "end_time": "2019-01-25T07:33:50.894006Z",
     "start_time": "2019-01-25T07:33:50.877866Z"
    }
   },
   "outputs": [
    {
     "data": {
      "text/plain": [
       "array([[1., 0., 2., 1., 1., 1., 0., 2., 2., 0.],\n",
       "       [2., 1., 3., 0., 1., 0., 1., 0., 1., 1.],\n",
       "       [0., 3., 0., 2., 3., 1., 0., 1., 0., 0.],\n",
       "       [1., 0., 2., 1., 0., 1., 0., 2., 1., 2.],\n",
       "       [2., 2., 2., 0., 0., 1., 1., 1., 1., 0.],\n",
       "       [1., 1., 1., 1., 1., 2., 0., 0., 2., 1.]])"
      ]
     },
     "execution_count": 87,
     "metadata": {},
     "output_type": "execute_result"
    }
   ],
   "source": [
    "#Compute the counts of unique values row-wise.\n",
    "np.random.seed(100)\n",
    "arr = np.random.randint(1,11,size=(6, 10))\n",
    "#获得数组的值域\n",
    "arr_range = np.unique(arr)\n",
    "#写一个针对行的函数\n",
    "def value_counts(a):\n",
    "    res = np.zeros(len(arr_range))\n",
    "    for x in a:\n",
    "        res[x - 1] +=1\n",
    "    return res\n",
    "#然后apply每一行\n",
    "np.apply_along_axis(func1d = value_counts, arr = arr, axis = 1)"
   ]
  },
  {
   "cell_type": "code",
   "execution_count": 92,
   "metadata": {
    "ExecuteTime": {
     "end_time": "2019-01-25T07:39:31.052672Z",
     "start_time": "2019-01-25T07:39:31.044815Z"
    }
   },
   "outputs": [
    {
     "data": {
      "text/plain": [
       "array([0, 1, 2, 3, 4, 5, 6, 7, 8, 9])"
      ]
     },
     "execution_count": 92,
     "metadata": {},
     "output_type": "execute_result"
    }
   ],
   "source": [
    "#Convert array_of_arrays into a flat linear 1d array.\n",
    "arr1 = np.arange(3)\n",
    "arr2 = np.arange(3,7)\n",
    "arr3 = np.arange(7,10)\n",
    "\n",
    "array_of_arrays = np.array([arr1, arr2, arr3])\n",
    "#用np.concatenate\n",
    "np.concatenate(array_of_arrays)"
   ]
  },
  {
   "cell_type": "markdown",
   "metadata": {},
   "source": [
    "###### How to generate one-hot encodings for an array in numpy?"
   ]
  },
  {
   "cell_type": "code",
   "execution_count": 98,
   "metadata": {
    "ExecuteTime": {
     "end_time": "2019-01-25T08:03:16.549095Z",
     "start_time": "2019-01-25T08:03:16.543549Z"
    }
   },
   "outputs": [],
   "source": [
    "np.random.seed(101) \n",
    "arr = np.random.randint(1,4, size=6)\n",
    "#获取值域\n",
    "arr_range = np.unique(arr)\n",
    "#构造映射\n",
    "one_hot_map = {x : i for i, x in enumerate(arr_range)}\n",
    "\n",
    "res = np.zeros((len(arr), len(arr_range)), dtype = int)\n",
    "for i in range(len(arr)):\n",
    "    res[i, one_hot_map[arr[i]]] = 1"
   ]
  },
  {
   "cell_type": "code",
   "execution_count": 99,
   "metadata": {
    "ExecuteTime": {
     "end_time": "2019-01-25T08:03:17.391098Z",
     "start_time": "2019-01-25T08:03:17.384885Z"
    }
   },
   "outputs": [
    {
     "data": {
      "text/plain": [
       "array([[0, 1, 0],\n",
       "       [0, 0, 1],\n",
       "       [0, 1, 0],\n",
       "       [0, 1, 0],\n",
       "       [0, 1, 0],\n",
       "       [1, 0, 0]])"
      ]
     },
     "execution_count": 99,
     "metadata": {},
     "output_type": "execute_result"
    }
   ],
   "source": [
    "res"
   ]
  },
  {
   "cell_type": "code",
   "execution_count": 107,
   "metadata": {
    "ExecuteTime": {
     "end_time": "2019-01-25T08:07:09.621097Z",
     "start_time": "2019-01-25T08:07:09.614743Z"
    }
   },
   "outputs": [
    {
     "data": {
      "text/plain": [
       "array([[0, 1, 0],\n",
       "       [0, 0, 1],\n",
       "       [0, 1, 0],\n",
       "       [0, 1, 0],\n",
       "       [0, 1, 0],\n",
       "       [1, 0, 0]], dtype=int8)"
      ]
     },
     "execution_count": 107,
     "metadata": {},
     "output_type": "execute_result"
    }
   ],
   "source": [
    "#第二种解法\n",
    "#view不发生复制！！！\n",
    "(arr[:, None] == np.unique(arr)).view(np.int8)"
   ]
  },
  {
   "cell_type": "markdown",
   "metadata": {},
   "source": [
    "###### ?????????"
   ]
  },
  {
   "cell_type": "code",
   "execution_count": 3,
   "metadata": {
    "ExecuteTime": {
     "end_time": "2019-01-27T13:39:30.993132Z",
     "start_time": "2019-01-27T13:39:30.869340Z"
    }
   },
   "outputs": [
    {
     "data": {
      "text/plain": [
       "array(['Iris-setosa', 'Iris-setosa', 'Iris-setosa', 'Iris-setosa',\n",
       "       'Iris-setosa', 'Iris-setosa', 'Iris-setosa', 'Iris-setosa',\n",
       "       'Iris-versicolor', 'Iris-versicolor', 'Iris-versicolor',\n",
       "       'Iris-versicolor', 'Iris-versicolor', 'Iris-versicolor',\n",
       "       'Iris-versicolor', 'Iris-versicolor', 'Iris-virginica',\n",
       "       'Iris-virginica', 'Iris-virginica', 'Iris-virginica'], dtype='<U15')"
      ]
     },
     "execution_count": 3,
     "metadata": {},
     "output_type": "execute_result"
    }
   ],
   "source": [
    "# 52 Create row numbers grouped by a categorical variable. \n",
    "#Use the following sample from iris species as input.\n",
    "url = 'https://archive.ics.uci.edu/ml/machine-learning-databases/iris/iris.data'\n",
    "species = np.genfromtxt(url, delimiter=',', dtype='str', usecols=4)\n",
    "species_small = np.sort(np.random.choice(species, size=20))\n",
    "species_small"
   ]
  },
  {
   "cell_type": "code",
   "execution_count": 11,
   "metadata": {
    "ExecuteTime": {
     "end_time": "2019-01-27T14:00:09.643872Z",
     "start_time": "2019-01-27T14:00:09.630676Z"
    }
   },
   "outputs": [
    {
     "data": {
      "text/plain": [
       "array([0, 0, 0, 0, 0, 0, 0, 1, 1, 1, 1, 1, 2, 2, 2, 2, 2, 2, 2, 2])"
      ]
     },
     "execution_count": 11,
     "metadata": {},
     "output_type": "execute_result"
    }
   ],
   "source": [
    "#Create group ids based on a given categorical variable. \n",
    "url = 'https://archive.ics.uci.edu/ml/machine-learning-databases/iris/iris.data'\n",
    "species = np.genfromtxt(url, delimiter=',', dtype='str', usecols=4)\n",
    "species_small = np.sort(np.random.choice(species, size=20))\n",
    "specie_cat = np.sort(np.unique(species))\n",
    "cat_map = {x : i for i, x in enumerate(specie_cat)}\n",
    "res = np.array([cat_map[x] for x in species_small])\n",
    "res"
   ]
  },
  {
   "cell_type": "code",
   "execution_count": 20,
   "metadata": {
    "ExecuteTime": {
     "end_time": "2019-01-27T14:12:36.922742Z",
     "start_time": "2019-01-27T14:12:36.915093Z"
    }
   },
   "outputs": [
    {
     "data": {
      "text/plain": [
       "array([4, 2, 6, 0, 8, 7, 9, 3, 5, 1])"
      ]
     },
     "execution_count": 20,
     "metadata": {},
     "output_type": "execute_result"
    }
   ],
   "source": [
    "#Create the ranks for the given numeric array a.\n",
    "np.random.seed(10)\n",
    "a = np.random.randint(20, size=10)\n",
    "#连用两次np.argsort得到升序的rank\n",
    "np.argsort(np.argsort(a))"
   ]
  },
  {
   "cell_type": "code",
   "execution_count": 22,
   "metadata": {
    "ExecuteTime": {
     "end_time": "2019-01-27T14:15:54.795826Z",
     "start_time": "2019-01-27T14:15:54.787851Z"
    }
   },
   "outputs": [
    {
     "data": {
      "text/plain": [
       "array([[ 9,  4, 15,  0, 17],\n",
       "       [16, 17,  8,  9,  0]])"
      ]
     },
     "execution_count": 22,
     "metadata": {},
     "output_type": "execute_result"
    }
   ],
   "source": [
    "#Create a rank array of the same shape as a given numeric array a.\n",
    "np.random.seed(10)\n",
    "a = np.random.randint(20, size=[2,5])\n",
    "a\n",
    "\n",
    "np.argsort(np.argsort(a.ravel())).reshape(a.shape)"
   ]
  },
  {
   "cell_type": "code",
   "execution_count": 27,
   "metadata": {
    "ExecuteTime": {
     "end_time": "2019-01-27T14:21:44.885228Z",
     "start_time": "2019-01-27T14:21:44.879318Z"
    }
   },
   "outputs": [
    {
     "data": {
      "text/plain": [
       "array([[9, 9, 4],\n",
       "       [8, 8, 1],\n",
       "       [5, 3, 6],\n",
       "       [3, 3, 3],\n",
       "       [2, 1, 9]])"
      ]
     },
     "execution_count": 27,
     "metadata": {},
     "output_type": "execute_result"
    }
   ],
   "source": [
    " #Compute the min-by-max for each row for given 2d numpy array.\n",
    "np.random.seed(100)\n",
    "a = np.random.randint(1,10, [5,3])\n",
    "a"
   ]
  },
  {
   "cell_type": "code",
   "execution_count": 28,
   "metadata": {
    "ExecuteTime": {
     "end_time": "2019-01-27T14:22:29.988323Z",
     "start_time": "2019-01-27T14:22:29.974382Z"
    }
   },
   "outputs": [
    {
     "data": {
      "text/plain": [
       "array([0.44444444, 0.125     , 0.5       , 1.        , 0.11111111])"
      ]
     },
     "execution_count": 28,
     "metadata": {},
     "output_type": "execute_result"
    }
   ],
   "source": [
    "np.apply_along_axis(axis = 1, arr = a, func1d = lambda x: x.min() / x.max())"
   ]
  },
  {
   "cell_type": "code",
   "execution_count": 13,
   "metadata": {
    "ExecuteTime": {
     "end_time": "2019-01-28T13:46:22.937155Z",
     "start_time": "2019-01-28T13:46:22.929012Z"
    }
   },
   "outputs": [
    {
     "data": {
      "text/plain": [
       "array([False,  True, False,  True, False, False,  True,  True,  True,\n",
       "        True])"
      ]
     },
     "execution_count": 13,
     "metadata": {},
     "output_type": "execute_result"
    }
   ],
   "source": [
    "# Find the duplicate entries (2nd occurrence onwards) in the given numpy array and mark them as True. \n",
    "#First time occurrences should be False.\n",
    "np.random.seed(100)\n",
    "a = np.random.randint(0, 5, 10)\n",
    "\n",
    "unique_value, index = np.unique(a, return_index = True)\n",
    "\n",
    "res = np.ones(a.shape, dtype = bool)\n",
    "res[index] = False\n",
    "\n",
    "res"
   ]
  },
  {
   "cell_type": "code",
   "execution_count": 22,
   "metadata": {
    "ExecuteTime": {
     "end_time": "2019-01-29T04:31:23.791383Z",
     "start_time": "2019-01-29T04:31:23.778691Z"
    }
   },
   "outputs": [],
   "source": [
    "#Find the mean of a numeric column grouped by a categorical column in a 2D numpy array\n",
    "url = 'https://archive.ics.uci.edu/ml/machine-learning-databases/iris/iris.data'\n",
    "iris = np.genfromtxt(url, delimiter=',', dtype='object')\n",
    "names = ('sepallength', 'sepalwidth', 'petallength', 'petalwidth', 'species')\n",
    "\n",
    "iris_ = iris[:, :3].astype(float)\n",
    "unique_specie = np.unique(iris[:, 4])\n",
    "res = np.array([\n",
    "    np.mean(iris_[iris[:, 4] == specie, :], axis = 0)\n",
    "    for specie in unique_specie\n",
    "])"
   ]
  },
  {
   "cell_type": "code",
   "execution_count": 24,
   "metadata": {
    "ExecuteTime": {
     "end_time": "2019-01-29T04:32:05.868450Z",
     "start_time": "2019-01-29T04:32:05.862266Z"
    }
   },
   "outputs": [
    {
     "data": {
      "text/plain": [
       "array([[5.006, 3.418, 1.464],\n",
       "       [5.936, 2.77 , 4.26 ],\n",
       "       [6.588, 2.974, 5.552]])"
      ]
     },
     "execution_count": 24,
     "metadata": {},
     "output_type": "execute_result"
    }
   ],
   "source": [
    "res"
   ]
  },
  {
   "cell_type": "code",
   "execution_count": 21,
   "metadata": {
    "ExecuteTime": {
     "end_time": "2019-01-28T13:54:39.590949Z",
     "start_time": "2019-01-28T13:54:39.582500Z"
    }
   },
   "outputs": [
    {
     "data": {
      "text/plain": [
       "array([1., 2., 3., 5., 6., 7.])"
      ]
     },
     "execution_count": 21,
     "metadata": {},
     "output_type": "execute_result"
    }
   ],
   "source": [
    "#Drop all nan values from a 1D numpy array\n",
    "a = np.array([1,2,3,np.nan,5,6,7,np.nan])\n",
    "a[~np.isnan(a)]"
   ]
  },
  {
   "cell_type": "code",
   "execution_count": 22,
   "metadata": {
    "ExecuteTime": {
     "end_time": "2019-01-28T14:06:17.820787Z",
     "start_time": "2019-01-28T14:06:17.813662Z"
    }
   },
   "outputs": [
    {
     "data": {
      "text/plain": [
       "6.708203932499369"
      ]
     },
     "execution_count": 22,
     "metadata": {},
     "output_type": "execute_result"
    }
   ],
   "source": [
    "# Compute the euclidean distance between two arrays a and b.\n",
    "a = np.array([1,2,3,4,5])\n",
    "b = np.array([4,5,6,7,8])\n",
    "np.sqrt(np.sum((a - b)**2))"
   ]
  },
  {
   "cell_type": "markdown",
   "metadata": {},
   "source": [
    "###### How to find all the local maxima (or peaks) in a 1d array? 好好看"
   ]
  },
  {
   "cell_type": "code",
   "execution_count": 26,
   "metadata": {
    "ExecuteTime": {
     "end_time": "2019-01-29T04:34:30.654580Z",
     "start_time": "2019-01-29T04:34:30.648452Z"
    }
   },
   "outputs": [],
   "source": [
    "a = np.array([1, 3, 7, 1, 2, 6, 0, 1])"
   ]
  },
  {
   "cell_type": "code",
   "execution_count": 30,
   "metadata": {
    "ExecuteTime": {
     "end_time": "2019-01-29T04:35:20.134972Z",
     "start_time": "2019-01-29T04:35:20.127861Z"
    }
   },
   "outputs": [
    {
     "data": {
      "text/plain": [
       "array([ 1,  1, -1,  1,  1, -1,  1])"
      ]
     },
     "execution_count": 30,
     "metadata": {},
     "output_type": "execute_result"
    }
   ],
   "source": [
    "#np.sign\n",
    "np.sign(np.diff(a))"
   ]
  },
  {
   "cell_type": "code",
   "execution_count": 31,
   "metadata": {
    "ExecuteTime": {
     "end_time": "2019-01-29T04:35:49.434258Z",
     "start_time": "2019-01-29T04:35:49.424043Z"
    }
   },
   "outputs": [
    {
     "data": {
      "text/plain": [
       "array([ 0, -2,  2,  0, -2,  2])"
      ]
     },
     "execution_count": 31,
     "metadata": {},
     "output_type": "execute_result"
    }
   ],
   "source": [
    "np.diff(np.sign(np.diff(a)))"
   ]
  },
  {
   "cell_type": "code",
   "execution_count": 33,
   "metadata": {
    "ExecuteTime": {
     "end_time": "2019-01-29T04:39:10.816094Z",
     "start_time": "2019-01-29T04:39:10.810401Z"
    }
   },
   "outputs": [
    {
     "data": {
      "text/plain": [
       "array([2, 5])"
      ]
     },
     "execution_count": 33,
     "metadata": {},
     "output_type": "execute_result"
    }
   ],
   "source": [
    "np.where(np.diff(np.sign(np.diff(a))) == -2)[0] + 1"
   ]
  },
  {
   "cell_type": "code",
   "execution_count": 44,
   "metadata": {
    "ExecuteTime": {
     "end_time": "2019-01-29T05:26:12.574934Z",
     "start_time": "2019-01-29T05:26:12.561521Z"
    }
   },
   "outputs": [
    {
     "data": {
      "text/plain": [
       "array([[2, 2, 2],\n",
       "       [2, 2, 2],\n",
       "       [2, 2, 2]])"
      ]
     },
     "execution_count": 44,
     "metadata": {},
     "output_type": "execute_result"
    }
   ],
   "source": [
    "#Subtract the 1d array b_1d from the 2d array a_2d, such that each item of b_1d \n",
    "#subtracts from respective row of a_2d.\n",
    "a_2d = np.array([[3,3,3],[4,4,4],[5,5,5]])\n",
    "b_1d = np.array([1,2,3])\n",
    "\n",
    "id(b_1d[:, np.newaxis]) == id(b_1d), id(b_1d[:, None]) == id(b_1d)\n",
    "\n",
    "a_2d - b_1d[:, np.newaxis]"
   ]
  },
  {
   "cell_type": "code",
   "execution_count": 45,
   "metadata": {
    "ExecuteTime": {
     "end_time": "2019-01-29T05:27:45.286951Z",
     "start_time": "2019-01-29T05:27:45.283164Z"
    }
   },
   "outputs": [],
   "source": [
    "#Find the index of 5th repetition of number 1 in x\n",
    "x = np.array([1, 2, 1, 1, 3, 4, 3, 1, 1, 2, 1, 1, 2])\n",
    "\n",
    "np.where(x == 1)[0][4]"
   ]
  },
  {
   "cell_type": "markdown",
   "metadata": {},
   "source": [
    "###### 记住这个写法"
   ]
  },
  {
   "cell_type": "code",
   "execution_count": 50,
   "metadata": {
    "ExecuteTime": {
     "end_time": "2019-01-29T05:30:36.758920Z",
     "start_time": "2019-01-29T05:30:36.751111Z"
    }
   },
   "outputs": [
    {
     "data": {
      "text/plain": [
       "[0, 2, 3, 7, 8, 10, 11]"
      ]
     },
     "execution_count": 50,
     "metadata": {},
     "output_type": "execute_result"
    }
   ],
   "source": [
    "[i for i, v in enumerate(x) if v == 1]"
   ]
  },
  {
   "cell_type": "code",
   "execution_count": 57,
   "metadata": {
    "ExecuteTime": {
     "end_time": "2019-01-29T05:47:39.658361Z",
     "start_time": "2019-01-29T05:47:39.650023Z"
    }
   },
   "outputs": [
    {
     "data": {
      "text/plain": [
       "datetime.datetime(2018, 2, 25, 22, 10, 10)"
      ]
     },
     "execution_count": 57,
     "metadata": {},
     "output_type": "execute_result"
    }
   ],
   "source": [
    "#Convert numpy's datetime64 object to datetime's datetime object\n",
    "dt64 = np.datetime64('2018-02-25 22:10:10')\n",
    "from datetime import datetime\n",
    "dt64.astype(datetime)"
   ]
  },
  {
   "cell_type": "markdown",
   "metadata": {
    "ExecuteTime": {
     "end_time": "2019-01-29T05:46:50.763657Z",
     "start_time": "2019-01-29T05:46:50.756826Z"
    }
   },
   "source": [
    "###### How to compute the moving average of a numpy array?"
   ]
  },
  {
   "cell_type": "code",
   "execution_count": 58,
   "metadata": {
    "ExecuteTime": {
     "end_time": "2019-01-29T05:48:21.010349Z",
     "start_time": "2019-01-29T05:48:21.006057Z"
    }
   },
   "outputs": [],
   "source": [
    "np.random.seed(100)\n",
    "Z = np.random.randint(10, size=10)"
   ]
  },
  {
   "cell_type": "code",
   "execution_count": 62,
   "metadata": {
    "ExecuteTime": {
     "end_time": "2019-01-29T05:57:20.358307Z",
     "start_time": "2019-01-29T05:57:20.351234Z"
    }
   },
   "outputs": [
    {
     "data": {
      "text/plain": [
       "array([6.33333333, 6.        , 5.66666667, 4.66666667, 3.66666667,\n",
       "       2.        , 3.66666667, 3.        ])"
      ]
     },
     "execution_count": 62,
     "metadata": {},
     "output_type": "execute_result"
    }
   ],
   "source": [
    "np.convolve(Z, np.ones(3)/3, mode='valid') "
   ]
  },
  {
   "cell_type": "code",
   "execution_count": null,
   "metadata": {},
   "outputs": [],
   "source": [
    "#Create a numpy array of length 10, \n",
    "#starting from 5 and has a step of 3 between consecutive numbers\n"
   ]
  }
 ],
 "metadata": {
  "kernelspec": {
   "display_name": "Python 3",
   "language": "python",
   "name": "python3"
  },
  "language_info": {
   "codemirror_mode": {
    "name": "ipython",
    "version": 3
   },
   "file_extension": ".py",
   "mimetype": "text/x-python",
   "name": "python",
   "nbconvert_exporter": "python",
   "pygments_lexer": "ipython3",
   "version": "3.6.7"
  },
  "toc": {
   "base_numbering": 1,
   "nav_menu": {},
   "number_sections": true,
   "sideBar": true,
   "skip_h1_title": false,
   "title_cell": "Table of Contents",
   "title_sidebar": "Contents",
   "toc_cell": false,
   "toc_position": {},
   "toc_section_display": true,
   "toc_window_display": false
  }
 },
 "nbformat": 4,
 "nbformat_minor": 2
}
