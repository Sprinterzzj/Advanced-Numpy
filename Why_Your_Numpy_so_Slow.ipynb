{
 "cells": [
  {
   "cell_type": "code",
   "execution_count": 7,
   "metadata": {
    "ExecuteTime": {
     "end_time": "2019-01-21T01:13:28.661127Z",
     "start_time": "2019-01-21T01:13:28.657167Z"
    }
   },
   "outputs": [],
   "source": [
    "import numpy as np\n",
    "import time"
   ]
  },
  {
   "cell_type": "markdown",
   "metadata": {},
   "source": [
    "###### 数组在内存中的排列方式"
   ]
  },
  {
   "cell_type": "code",
   "execution_count": 8,
   "metadata": {
    "ExecuteTime": {
     "end_time": "2019-01-21T01:13:29.652979Z",
     "start_time": "2019-01-21T01:13:29.648979Z"
    }
   },
   "outputs": [],
   "source": [
    "row_major = np.zeros((10, 10), order = 'C') # C-type"
   ]
  },
  {
   "cell_type": "code",
   "execution_count": 9,
   "metadata": {
    "ExecuteTime": {
     "end_time": "2019-01-21T01:13:30.189777Z",
     "start_time": "2019-01-21T01:13:30.186004Z"
    }
   },
   "outputs": [],
   "source": [
    "col_major = np.zeros((10, 10), order = 'F') # F-type"
   ]
  },
  {
   "cell_type": "markdown",
   "metadata": {},
   "source": [
    "###### actions on axis: 按需选择 C 或者 F type 的数组"
   ]
  },
  {
   "cell_type": "code",
   "execution_count": 13,
   "metadata": {
    "ExecuteTime": {
     "end_time": "2019-01-21T01:16:42.102492Z",
     "start_time": "2019-01-21T01:16:35.292733Z"
    }
   },
   "outputs": [
    {
     "name": "stdout",
     "output_type": "stream",
     "text": [
      "0.0003237801551818848\n",
      "0.0003559266090393066\n"
     ]
    }
   ],
   "source": [
    "a = np.zeros((500, 500), order = 'C')\n",
    "b = np.zeros((500, 500), order = 'F')\n",
    "N = 10000\n",
    "\n",
    "# np.concatenate 按指定的axis拼接数组\n",
    "def f1(a):\n",
    "    for _ in range(N):\n",
    "        np.concatenate((a, a), axis = 0) \n",
    "def f2(b):\n",
    "    for _ in range(N):\n",
    "        np.concatenate((b, b), axis = 0)\n",
    "\n",
    "t0 = time.time()\n",
    "f1(a)\n",
    "t1 = time.time()\n",
    "f2(b)\n",
    "t2 = time.time()\n",
    "\n",
    "print((t1 - t0) / N)\n",
    "print((t2 - t1) / N)"
   ]
  },
  {
   "cell_type": "markdown",
   "metadata": {},
   "source": [
    "###### np._stack vs np.concatenate: 后者略快"
   ]
  },
  {
   "cell_type": "code",
   "execution_count": 21,
   "metadata": {
    "ExecuteTime": {
     "end_time": "2019-01-21T01:20:33.680617Z",
     "start_time": "2019-01-21T01:20:33.663399Z"
    }
   },
   "outputs": [
    {
     "name": "stdout",
     "output_type": "stream",
     "text": [
      "CPU times: user 2.54 ms, sys: 2.41 ms, total: 4.95 ms\n",
      "Wall time: 4.4 ms\n"
     ]
    },
    {
     "data": {
      "text/plain": [
       "array([[0., 0., 0., ..., 0., 0., 0.],\n",
       "       [0., 0., 0., ..., 0., 0., 0.],\n",
       "       [0., 0., 0., ..., 0., 0., 0.],\n",
       "       ...,\n",
       "       [0., 0., 0., ..., 0., 0., 0.],\n",
       "       [0., 0., 0., ..., 0., 0., 0.],\n",
       "       [0., 0., 0., ..., 0., 0., 0.]])"
      ]
     },
     "execution_count": 21,
     "metadata": {},
     "output_type": "execute_result"
    }
   ],
   "source": [
    "%time np.vstack((a, a))"
   ]
  },
  {
   "cell_type": "code",
   "execution_count": 22,
   "metadata": {
    "ExecuteTime": {
     "end_time": "2019-01-21T01:20:35.744001Z",
     "start_time": "2019-01-21T01:20:35.730010Z"
    }
   },
   "outputs": [
    {
     "name": "stdout",
     "output_type": "stream",
     "text": [
      "CPU times: user 4.32 ms, sys: 764 µs, total: 5.08 ms\n",
      "Wall time: 3.91 ms\n"
     ]
    },
    {
     "data": {
      "text/plain": [
       "array([[0., 0., 0., ..., 0., 0., 0.],\n",
       "       [0., 0., 0., ..., 0., 0., 0.],\n",
       "       [0., 0., 0., ..., 0., 0., 0.],\n",
       "       ...,\n",
       "       [0., 0., 0., ..., 0., 0., 0.],\n",
       "       [0., 0., 0., ..., 0., 0., 0.],\n",
       "       [0., 0., 0., ..., 0., 0., 0.]])"
      ]
     },
     "execution_count": 22,
     "metadata": {},
     "output_type": "execute_result"
    }
   ],
   "source": [
    "%time np.concatenate((a, a), axis = 0)"
   ]
  },
  {
   "cell_type": "code",
   "execution_count": 23,
   "metadata": {
    "ExecuteTime": {
     "end_time": "2019-01-21T01:20:37.174866Z",
     "start_time": "2019-01-21T01:20:37.161032Z"
    }
   },
   "outputs": [
    {
     "name": "stdout",
     "output_type": "stream",
     "text": [
      "CPU times: user 206 µs, sys: 4.89 ms, total: 5.1 ms\n",
      "Wall time: 3.95 ms\n"
     ]
    },
    {
     "data": {
      "text/plain": [
       "array([[0., 0., 0., ..., 0., 0., 0.],\n",
       "       [0., 0., 0., ..., 0., 0., 0.],\n",
       "       [0., 0., 0., ..., 0., 0., 0.],\n",
       "       ...,\n",
       "       [0., 0., 0., ..., 0., 0., 0.],\n",
       "       [0., 0., 0., ..., 0., 0., 0.],\n",
       "       [0., 0., 0., ..., 0., 0., 0.]])"
      ]
     },
     "execution_count": 23,
     "metadata": {},
     "output_type": "execute_result"
    }
   ],
   "source": [
    "%time np.hstack((b, b))"
   ]
  },
  {
   "cell_type": "code",
   "execution_count": 24,
   "metadata": {
    "ExecuteTime": {
     "end_time": "2019-01-21T01:20:39.374594Z",
     "start_time": "2019-01-21T01:20:39.363844Z"
    }
   },
   "outputs": [
    {
     "name": "stdout",
     "output_type": "stream",
     "text": [
      "CPU times: user 3.37 ms, sys: 1.25 ms, total: 4.61 ms\n",
      "Wall time: 3.52 ms\n"
     ]
    },
    {
     "data": {
      "text/plain": [
       "array([[0., 0., 0., ..., 0., 0., 0.],\n",
       "       [0., 0., 0., ..., 0., 0., 0.],\n",
       "       [0., 0., 0., ..., 0., 0., 0.],\n",
       "       ...,\n",
       "       [0., 0., 0., ..., 0., 0., 0.],\n",
       "       [0., 0., 0., ..., 0., 0., 0.],\n",
       "       [0., 0., 0., ..., 0., 0., 0.]])"
      ]
     },
     "execution_count": 24,
     "metadata": {},
     "output_type": "execute_result"
    }
   ],
   "source": [
    "%time np.concatenate((b, b), axis = 1)"
   ]
  },
  {
   "cell_type": "markdown",
   "metadata": {},
   "source": [
    "###### Copy慢, View快"
   ]
  },
  {
   "cell_type": "code",
   "execution_count": 25,
   "metadata": {
    "ExecuteTime": {
     "end_time": "2019-01-21T01:26:46.418481Z",
     "start_time": "2019-01-21T01:26:46.413912Z"
    }
   },
   "outputs": [],
   "source": [
    "a = np.arange(1, 7).reshape((3, 2))"
   ]
  },
  {
   "cell_type": "code",
   "execution_count": 26,
   "metadata": {
    "ExecuteTime": {
     "end_time": "2019-01-21T01:29:08.767634Z",
     "start_time": "2019-01-21T01:29:08.762726Z"
    }
   },
   "outputs": [],
   "source": [
    "a_view = a[:2] #切片操作是view，得到的对象和原对象指向相同的内存"
   ]
  },
  {
   "cell_type": "code",
   "execution_count": 28,
   "metadata": {
    "ExecuteTime": {
     "end_time": "2019-01-21T01:29:55.633872Z",
     "start_time": "2019-01-21T01:29:55.629026Z"
    }
   },
   "outputs": [],
   "source": [
    "a_copy = a[:2].copy() #copy了元对象，二者的内存不同\n",
    "a_copy[1, 1] = 0"
   ]
  },
  {
   "cell_type": "code",
   "execution_count": 29,
   "metadata": {
    "ExecuteTime": {
     "end_time": "2019-01-21T01:30:17.752527Z",
     "start_time": "2019-01-21T01:30:17.735083Z"
    }
   },
   "outputs": [
    {
     "name": "stdout",
     "output_type": "stream",
     "text": [
      "[[1 2]\n",
      " [3 4]\n",
      " [5 6]]\n",
      "[[1 2]\n",
      " [3 0]]\n"
     ]
    }
   ],
   "source": [
    "print(a)\n",
    "print(a_copy)"
   ]
  },
  {
   "cell_type": "code",
   "execution_count": 30,
   "metadata": {
    "ExecuteTime": {
     "end_time": "2019-01-21T01:30:51.970589Z",
     "start_time": "2019-01-21T01:30:51.964137Z"
    }
   },
   "outputs": [
    {
     "name": "stdout",
     "output_type": "stream",
     "text": [
      "[[1 2]\n",
      " [3 0]\n",
      " [5 6]]\n"
     ]
    }
   ],
   "source": [
    "a_view[1, 1] = 0\n",
    "print(a)"
   ]
  },
  {
   "cell_type": "code",
   "execution_count": 34,
   "metadata": {
    "ExecuteTime": {
     "end_time": "2019-01-21T01:49:47.623952Z",
     "start_time": "2019-01-21T01:49:21.146051Z"
    }
   },
   "outputs": [
    {
     "name": "stdout",
     "output_type": "stream",
     "text": [
      "0.001010\n",
      "0.001636\n"
     ]
    }
   ],
   "source": [
    "a = np.zeros((1000, 1000))\n",
    "b = np.zeros((1000, 1000))\n",
    "N = 10000\n",
    "\n",
    "def f1(a):\n",
    "    for _ in range(N):\n",
    "        a *= 2 # same as a[:] *= 2, view后改变其值\n",
    "def f2(b):\n",
    "    for _ in range(N):\n",
    "        b = 2 * b #复制了b之后再赋值！慢！\n",
    "\n",
    "t0 = time.time()\n",
    "f1(a)\n",
    "t1 = time.time()\n",
    "f2(b)\n",
    "t2 = time.time()\n",
    "\n",
    "print('%f' % ((t1 - t0) / N))\n",
    "print('%f' % ((t2 - t1) / N))"
   ]
  },
  {
   "cell_type": "markdown",
   "metadata": {},
   "source": [
    "###### np.flatten vs np.ravel"
   ]
  },
  {
   "cell_type": "code",
   "execution_count": 35,
   "metadata": {
    "ExecuteTime": {
     "end_time": "2019-01-21T02:15:59.378555Z",
     "start_time": "2019-01-21T02:15:49.022144Z"
    }
   },
   "outputs": [
    {
     "name": "stdout",
     "output_type": "stream",
     "text": [
      "0.001034\n",
      "0.000001\n"
     ]
    }
   ],
   "source": [
    "def f1(a):\n",
    "    for _ in range(N):\n",
    "        a.flatten() #flatten总是返回一个copy\n",
    "def f2(b):\n",
    "    for _ in range(N):\n",
    "        b.ravel() #ravel 只会在需要复制的时候复制\n",
    "\n",
    "t0 = time.time()\n",
    "f1(a)\n",
    "t1 = time.time()\n",
    "f2(b)\n",
    "t2 = time.time()\n",
    "\n",
    "print('%f' % ((t1 - t0) / N))\n",
    "print('%f' % ((t2 - t1) / N))"
   ]
  },
  {
   "cell_type": "markdown",
   "metadata": {},
   "source": [
    "###### 选择数据能用view就用view"
   ]
  },
  {
   "cell_type": "code",
   "execution_count": 37,
   "metadata": {
    "ExecuteTime": {
     "end_time": "2019-01-21T02:24:44.854048Z",
     "start_time": "2019-01-21T02:24:44.849072Z"
    }
   },
   "outputs": [],
   "source": [
    "a_view1 = a[1 : 2, 3 : 6] # 切片 slice\n",
    "a_view2 = a[: 100]        # 同上\n",
    "a_view3 = a[::2]          # 跳步切片\n",
    "a_view4 = a.ravel()"
   ]
  },
  {
   "cell_type": "code",
   "execution_count": 40,
   "metadata": {
    "ExecuteTime": {
     "end_time": "2019-01-21T02:31:30.708837Z",
     "start_time": "2019-01-21T02:31:30.705043Z"
    }
   },
   "outputs": [],
   "source": [
    "a_copy1 = a[[1, 4, 6], [2, 4, 6]]        #用index选择而非切片\n",
    "a_copy2 = a[[True, True], [False, True]] #用mask\n",
    "a_copy3 = a[[1, 2], :]                   #虽然1， 2 连在一起了但是这么写也是copy\n",
    "a_copy4 = a[a[1, :] != 0, :]             #fancy indexing\n",
    "a_copy5 = a[np.isnan(a), :]              #fancy indexing"
   ]
  },
  {
   "cell_type": "markdown",
   "metadata": {},
   "source": [
    "###### 加速fancy indexing"
   ]
  },
  {
   "cell_type": "code",
   "execution_count": 46,
   "metadata": {
    "ExecuteTime": {
     "end_time": "2019-01-21T04:04:19.604292Z",
     "start_time": "2019-01-21T04:04:19.377331Z"
    }
   },
   "outputs": [
    {
     "name": "stdout",
     "output_type": "stream",
     "text": [
      "____0.000242\n",
      "____0.000463\n"
     ]
    }
   ],
   "source": [
    "a = np.random.rand(1000000, 10)\n",
    "N = 100\n",
    "indices = np.random.randint(0, 1000000, size= 10000)\n",
    "\n",
    "def f1(a):\n",
    "    for _ in range(N):\n",
    "        _ = np.take(a, indices, axis = 0) # 使用 np.take 速度更快\n",
    "def f2(b):\n",
    "    for _ in range(N):\n",
    "        _ = b[indices, :]\n",
    "\n",
    "\n",
    "t0 = time.time()\n",
    "f1(a)\n",
    "t1 = time.time()\n",
    "f2(a)\n",
    "t2 = time.time()\n",
    "\n",
    "print('____%f' % ((t1 - t0) / N))\n",
    "print('____%f' % ((t2 - t1) / N))"
   ]
  },
  {
   "cell_type": "code",
   "execution_count": 47,
   "metadata": {
    "ExecuteTime": {
     "end_time": "2019-01-21T04:09:03.308295Z",
     "start_time": "2019-01-21T04:08:54.407464Z"
    }
   },
   "outputs": [
    {
     "name": "stdout",
     "output_type": "stream",
     "text": [
      "____0.038728\n",
      "____0.050000\n"
     ]
    }
   ],
   "source": [
    "mask = a[:, 0] < .5\n",
    "\n",
    "def f1(a):\n",
    "    for _ in range(N):\n",
    "        _ = np.compress(mask, a, axis = 0) # np.compress更快\n",
    "def f2(b):\n",
    "    for _ in range(N):\n",
    "        _ = b[mask]\n",
    "\n",
    "t0 = time.time()\n",
    "f1(a)\n",
    "t1 = time.time()\n",
    "f2(a)\n",
    "t2 = time.time()\n",
    "\n",
    "print('____%f' % ((t1 - t0) / N))\n",
    "print('____%f' % ((t2 - t1) / N))"
   ]
  },
  {
   "cell_type": "markdown",
   "metadata": {},
   "source": [
    "###### out参数: https://docs.scipy.org/doc/numpy/reference/ufuncs.html#available-ufuncs"
   ]
  },
  {
   "cell_type": "code",
   "execution_count": 48,
   "metadata": {
    "ExecuteTime": {
     "end_time": "2019-01-21T04:17:58.610942Z",
     "start_time": "2019-01-21T04:17:58.549330Z"
    }
   },
   "outputs": [
    {
     "name": "stdout",
     "output_type": "stream",
     "text": [
      "CPU times: user 21 ms, sys: 37.1 ms, total: 58.1 ms\n",
      "Wall time: 56.4 ms\n"
     ]
    }
   ],
   "source": [
    "%time a = a + 1"
   ]
  },
  {
   "cell_type": "code",
   "execution_count": 49,
   "metadata": {
    "ExecuteTime": {
     "end_time": "2019-01-21T04:18:06.905199Z",
     "start_time": "2019-01-21T04:18:06.886147Z"
    }
   },
   "outputs": [
    {
     "name": "stdout",
     "output_type": "stream",
     "text": [
      "CPU times: user 13.4 ms, sys: 1.6 ms, total: 15 ms\n",
      "Wall time: 13.6 ms\n"
     ]
    }
   ],
   "source": [
    "%time a += 1"
   ]
  },
  {
   "cell_type": "code",
   "execution_count": 50,
   "metadata": {
    "ExecuteTime": {
     "end_time": "2019-01-21T04:18:27.928999Z",
     "start_time": "2019-01-21T04:18:27.904864Z"
    }
   },
   "outputs": [
    {
     "name": "stdout",
     "output_type": "stream",
     "text": [
      "CPU times: user 12.9 ms, sys: 1 ms, total: 13.9 ms\n",
      "Wall time: 12.1 ms\n"
     ]
    },
    {
     "data": {
      "text/plain": [
       "array([[3.54069066, 3.9701559 , 3.02997936, ..., 3.24251098, 3.01782725,\n",
       "        3.82279987],\n",
       "       [3.12372207, 3.19550119, 3.64057795, ..., 3.12862376, 3.01146194,\n",
       "        3.89737635],\n",
       "       [3.11066837, 3.19489798, 3.27089342, ..., 3.16116508, 3.56775441,\n",
       "        3.70456071],\n",
       "       ...,\n",
       "       [3.10498744, 3.65362937, 3.68817647, ..., 3.38307019, 3.71989335,\n",
       "        3.73359843],\n",
       "       [3.75121717, 3.28836679, 3.80950858, ..., 3.83526388, 3.83440426,\n",
       "        3.3321167 ],\n",
       "       [3.44626113, 3.56143754, 3.54740745, ..., 3.13915841, 3.56637279,\n",
       "        3.76211531]])"
      ]
     },
     "execution_count": 50,
     "metadata": {},
     "output_type": "execute_result"
    }
   ],
   "source": [
    "%time np.add(a, 1, out = a) #使用 out参数避免拷贝"
   ]
  },
  {
   "cell_type": "markdown",
   "metadata": {},
   "source": [
    "###### 如pandas那样给列起名字"
   ]
  },
  {
   "cell_type": "code",
   "execution_count": 51,
   "metadata": {
    "ExecuteTime": {
     "end_time": "2019-01-21T04:34:07.662049Z",
     "start_time": "2019-01-21T04:34:05.479488Z"
    }
   },
   "outputs": [],
   "source": [
    "import pandas as pd"
   ]
  },
  {
   "cell_type": "code",
   "execution_count": 53,
   "metadata": {
    "ExecuteTime": {
     "end_time": "2019-01-21T04:36:33.592071Z",
     "start_time": "2019-01-21T04:36:33.547123Z"
    }
   },
   "outputs": [],
   "source": [
    "# numpy 要比 pandas 快得多\n",
    "a = np.zeros(3, dtype = [('foo', np.int32), ('bar', np.float16)]) \n",
    "b = pd.DataFrame(np.zeros((3, 2), dtype = np.int32), columns = ['foo', 'bar'])\n",
    "b['bar'] = b['bar'].astype(np.float16)"
   ]
  },
  {
   "cell_type": "code",
   "execution_count": 57,
   "metadata": {
    "ExecuteTime": {
     "end_time": "2019-01-21T04:38:36.413059Z",
     "start_time": "2019-01-21T04:38:36.319564Z"
    }
   },
   "outputs": [
    {
     "name": "stdout",
     "output_type": "stream",
     "text": [
      "____0.000046\n",
      "____0.000823\n"
     ]
    }
   ],
   "source": [
    "def f1(a):\n",
    "    for _ in range(N):\n",
    "        a['bar'] *= a['foo']\n",
    "def f2(b):\n",
    "    for _ in range(N):\n",
    "        b['bar'] *= b['foo']\n",
    "\n",
    "t0 = time.time()\n",
    "f1(a)\n",
    "t1 = time.time()\n",
    "f2(b)\n",
    "t2 = time.time()\n",
    "\n",
    "print('____%f' % ((t1 - t0) / N))\n",
    "print('____%f' % ((t2 - t1) / N))"
   ]
  },
  {
   "cell_type": "code",
   "execution_count": null,
   "metadata": {},
   "outputs": [],
   "source": []
  }
 ],
 "metadata": {
  "kernelspec": {
   "display_name": "Python 3",
   "language": "python",
   "name": "python3"
  },
  "language_info": {
   "codemirror_mode": {
    "name": "ipython",
    "version": 3
   },
   "file_extension": ".py",
   "mimetype": "text/x-python",
   "name": "python",
   "nbconvert_exporter": "python",
   "pygments_lexer": "ipython3",
   "version": "3.6.7"
  },
  "toc": {
   "base_numbering": 1,
   "nav_menu": {},
   "number_sections": true,
   "sideBar": true,
   "skip_h1_title": false,
   "title_cell": "Table of Contents",
   "title_sidebar": "Contents",
   "toc_cell": false,
   "toc_position": {},
   "toc_section_display": true,
   "toc_window_display": false
  }
 },
 "nbformat": 4,
 "nbformat_minor": 2
}
