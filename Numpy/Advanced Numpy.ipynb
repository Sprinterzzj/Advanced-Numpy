{
 "cells": [
  {
   "cell_type": "markdown",
   "metadata": {},
   "source": [
    "# Advanced Numpy"
   ]
  },
  {
   "cell_type": "code",
   "execution_count": 2,
   "metadata": {
    "ExecuteTime": {
     "end_time": "2019-04-11T07:30:35.872120Z",
     "start_time": "2019-04-11T07:30:35.746696Z"
    }
   },
   "outputs": [],
   "source": [
    "import numpy as np"
   ]
  },
  {
   "cell_type": "markdown",
   "metadata": {},
   "source": [
    "## ndarray 的结构\n",
    "**ndarray** =\n",
    "block of memory + indexing scheme + data type descriptor\n",
    "\n",
    "* raw data\n",
    "* how to locate an element\n",
    "* how to interpret an element\n",
    "\n",
    "<center>\n",
    "    ndarray在内存中的结构<br>\n",
    "    \n",
    "![图片](img/threefundamental.png)\n",
    "</center>   \n",
    "\n",
    "* **memory block**: may be shared, .base, .data\n",
    "* **data type descriptor**: structured data, sub-arrays, byte order, casting, viewing, .astype(), .view()\n",
    "* **strided indexing**: strides, C/F-order, slicing w/ integers, as_strided, broadcasting, stride tricks, diag, CPU cache coherence\n",
    "\n",
    "```C\n",
    "typedef struct PyArrayObject {\n",
    "        PyObject_HEAD\n",
    "\n",
    "        /* Block of memory */\n",
    "        char *data;\n",
    "\n",
    "        /* Data type descriptor */\n",
    "        PyArray_Descr *descr;\n",
    "\n",
    "        /* Indexing scheme */\n",
    "        int nd;\n",
    "        npy_intp *dimensions;\n",
    "        npy_intp *strides;\n",
    "\n",
    "        /* Other stuff */\n",
    "        PyObject *base;\n",
    "        int flags;\n",
    "        PyObject *weakreflist;\n",
    "} PyArrayObject;```\n"
   ]
  },
  {
   "cell_type": "markdown",
   "metadata": {},
   "source": [
    "### np.array的若干属性和方法\n",
    "* shape 数组的形状\n",
    "* dtype 数组元素的types\n",
    "* strides 在每个维度中连续两个元素之间的btye数\n",
    "* data 数据在内存中的表示\n",
    "* \\_\\_array_interface\\_\\_ 包含上面属性的字典\n",
    "* flags 数据在内存中的信息, 如排列方式, 是否只读等"
   ]
  },
  {
   "cell_type": "code",
   "execution_count": 3,
   "metadata": {
    "ExecuteTime": {
     "end_time": "2019-04-11T06:39:11.595408Z",
     "start_time": "2019-04-11T06:39:11.592738Z"
    }
   },
   "outputs": [],
   "source": [
    "arr = np.ones((10, 5), dtype = np.int8)"
   ]
  },
  {
   "cell_type": "code",
   "execution_count": 5,
   "metadata": {
    "ExecuteTime": {
     "end_time": "2019-04-11T06:39:52.665867Z",
     "start_time": "2019-04-11T06:39:52.663169Z"
    }
   },
   "outputs": [
    {
     "name": "stdout",
     "output_type": "stream",
     "text": [
      "(10, 5)\n"
     ]
    }
   ],
   "source": [
    "#1. shape\n",
    "print(arr.shape)"
   ]
  },
  {
   "cell_type": "code",
   "execution_count": 6,
   "metadata": {
    "ExecuteTime": {
     "end_time": "2019-04-11T06:39:59.098914Z",
     "start_time": "2019-04-11T06:39:59.096371Z"
    }
   },
   "outputs": [
    {
     "name": "stdout",
     "output_type": "stream",
     "text": [
      "int8\n"
     ]
    }
   ],
   "source": [
    "#2. dtype\n",
    "print(arr.dtype)"
   ]
  },
  {
   "cell_type": "code",
   "execution_count": 29,
   "metadata": {
    "ExecuteTime": {
     "end_time": "2019-04-11T05:14:02.507732Z",
     "start_time": "2019-04-11T05:14:02.504317Z"
    }
   },
   "outputs": [
    {
     "data": {
      "text/plain": [
       "(5, 1)"
      ]
     },
     "execution_count": 29,
     "metadata": {},
     "output_type": "execute_result"
    }
   ],
   "source": [
    "#3. strides\n",
    "arr.strides\n",
    "#一般来说 某个维度的stride数目越高, 那么在该维度上计算开销越大"
   ]
  },
  {
   "cell_type": "code",
   "execution_count": 7,
   "metadata": {
    "ExecuteTime": {
     "end_time": "2019-04-11T06:40:08.759983Z",
     "start_time": "2019-04-11T06:40:08.757568Z"
    }
   },
   "outputs": [
    {
     "name": "stdout",
     "output_type": "stream",
     "text": [
      "b'\\x01\\x01\\x01\\x01\\x01\\x01\\x01\\x01\\x01\\x01\\x01\\x01\\x01\\x01\\x01\\x01\\x01\\x01\\x01\\x01\\x01\\x01\\x01\\x01\\x01\\x01\\x01\\x01\\x01\\x01\\x01\\x01\\x01\\x01\\x01\\x01\\x01\\x01\\x01\\x01\\x01\\x01\\x01\\x01\\x01\\x01\\x01\\x01\\x01\\x01'\n"
     ]
    }
   ],
   "source": [
    "#4. data\n",
    "print(bytes(arr.data))"
   ]
  },
  {
   "cell_type": "code",
   "execution_count": 8,
   "metadata": {
    "ExecuteTime": {
     "end_time": "2019-04-11T06:40:16.407504Z",
     "start_time": "2019-04-11T06:40:16.404742Z"
    }
   },
   "outputs": [
    {
     "name": "stdout",
     "output_type": "stream",
     "text": [
      "{'data': (140320362750720, False), 'strides': None, 'descr': [('', '|i1')], 'typestr': '|i1', 'shape': (10, 5), 'version': 3}\n"
     ]
    }
   ],
   "source": [
    "#全部信息: __array_interface__, flags\n",
    "print(arr.__array_interface__)"
   ]
  },
  {
   "cell_type": "code",
   "execution_count": 9,
   "metadata": {
    "ExecuteTime": {
     "end_time": "2019-04-11T06:40:26.056547Z",
     "start_time": "2019-04-11T06:40:26.054222Z"
    }
   },
   "outputs": [
    {
     "name": "stdout",
     "output_type": "stream",
     "text": [
      "  C_CONTIGUOUS : True\n",
      "  F_CONTIGUOUS : False\n",
      "  OWNDATA : True\n",
      "  WRITEABLE : True\n",
      "  ALIGNED : True\n",
      "  WRITEBACKIFCOPY : False\n",
      "  UPDATEIFCOPY : False\n"
     ]
    }
   ],
   "source": [
    "print(arr.flags)"
   ]
  },
  {
   "cell_type": "markdown",
   "metadata": {},
   "source": [
    "#### dytpe\n",
    "dtype 的三个属性\n",
    "* type\n",
    "* itemsize <u>返回单个数据的字节数</u>\n",
    "* byteorder"
   ]
  },
  {
   "cell_type": "code",
   "execution_count": 13,
   "metadata": {
    "ExecuteTime": {
     "end_time": "2019-04-11T06:44:12.195199Z",
     "start_time": "2019-04-11T06:44:12.192115Z"
    }
   },
   "outputs": [
    {
     "name": "stdout",
     "output_type": "stream",
     "text": [
      "<class 'numpy.int64'>\n",
      "<class 'numpy.float64'>\n",
      "<class 'numpy.int8'>\n"
     ]
    }
   ],
   "source": [
    "#type\n",
    "print(np.dtype(int).type)\n",
    "print(np.dtype(float).type)\n",
    "print(np.dtype(np.int8).type)"
   ]
  },
  {
   "cell_type": "code",
   "execution_count": 14,
   "metadata": {
    "ExecuteTime": {
     "end_time": "2019-04-11T06:45:02.599506Z",
     "start_time": "2019-04-11T06:45:02.596797Z"
    }
   },
   "outputs": [
    {
     "name": "stdout",
     "output_type": "stream",
     "text": [
      "8\n"
     ]
    }
   ],
   "source": [
    "#itemsize\n",
    "print(np.dtype(float).itemsize)"
   ]
  },
  {
   "cell_type": "code",
   "execution_count": 15,
   "metadata": {
    "ExecuteTime": {
     "end_time": "2019-04-11T06:47:23.471205Z",
     "start_time": "2019-04-11T06:47:23.468629Z"
    }
   },
   "outputs": [
    {
     "name": "stdout",
     "output_type": "stream",
     "text": [
      "=\n"
     ]
    }
   ],
   "source": [
    "#byteorder\n",
    "print(np.dtype(float).byteorder)"
   ]
  },
  {
   "cell_type": "markdown",
   "metadata": {},
   "source": [
    "###### dtype有很多, 但是它们是由几个基类派生来的"
   ]
  },
  {
   "cell_type": "code",
   "execution_count": 19,
   "metadata": {
    "ExecuteTime": {
     "end_time": "2019-04-11T06:50:10.470087Z",
     "start_time": "2019-04-11T06:50:10.466424Z"
    }
   },
   "outputs": [
    {
     "name": "stdout",
     "output_type": "stream",
     "text": [
      "True\n",
      "True\n"
     ]
    }
   ],
   "source": [
    "ints = np.ones(10, dtype = np.uint16)\n",
    "floats = np.ones(10, dtype = np.float32)\n",
    "#用 np.issubdtype函数来判断一个dtype是不是另外一个dtype的派生\n",
    "print(np.issubdtype(ints.dtype, np.integer))\n",
    "print(np.issubdtype(floats.dtype, np.floating))"
   ]
  },
  {
   "cell_type": "code",
   "execution_count": 20,
   "metadata": {
    "ExecuteTime": {
     "end_time": "2019-04-11T06:50:57.808188Z",
     "start_time": "2019-04-11T06:50:57.805446Z"
    }
   },
   "outputs": [
    {
     "name": "stdout",
     "output_type": "stream",
     "text": [
      "[<class 'numpy.float64'>, <class 'numpy.floating'>, <class 'numpy.inexact'>, <class 'numpy.number'>, <class 'numpy.generic'>, <class 'float'>, <class 'object'>]\n"
     ]
    }
   ],
   "source": [
    "#用 mro()方法可以查看一个dtype的所有父类\n",
    "print(np.float64.mro())"
   ]
  },
  {
   "cell_type": "markdown",
   "metadata": {},
   "source": [
    "##### astype 和 view\n",
    "* <u>astype 返回数组的copy 但是 view不会</u>\n",
    "* astype recast了数组, 通过改变dtype\n",
    "* view只是改变数组在内存中的寻址方式"
   ]
  },
  {
   "cell_type": "code",
   "execution_count": 25,
   "metadata": {
    "ExecuteTime": {
     "end_time": "2019-04-11T06:59:21.559207Z",
     "start_time": "2019-04-11T06:59:21.554481Z"
    },
    "run_control": {
     "marked": true
    }
   },
   "outputs": [
    {
     "data": {
      "text/plain": [
       "(False, True)"
      ]
     },
     "execution_count": 25,
     "metadata": {},
     "output_type": "execute_result"
    }
   ],
   "source": [
    "x = np.array([1,2,3,4], dtype = np.float32)\n",
    "#astype recast了array\n",
    "y = x.astype(np.int8)\n",
    "#view不会返回copy\n",
    "z = x.view(np.int8)\n",
    "#用base函数判断两个数组是否来自同一块内存\n",
    "y.base is x, z.base is x"
   ]
  },
  {
   "cell_type": "markdown",
   "metadata": {},
   "source": [
    "#### order(数组在内存中的存储方式)\n",
    "* C: last dimensions vary fastest (= smaller strides)\n",
    "* F: first dimensions vary fastest"
   ]
  },
  {
   "cell_type": "code",
   "execution_count": 44,
   "metadata": {
    "ExecuteTime": {
     "end_time": "2019-04-11T07:15:17.920176Z",
     "start_time": "2019-04-11T07:15:17.916311Z"
    }
   },
   "outputs": [
    {
     "name": "stdout",
     "output_type": "stream",
     "text": [
      "(6, 2)\n",
      "(2, 4)\n"
     ]
    }
   ],
   "source": [
    "#C-order， 按行存储\n",
    "x = np.array([[1, 2, 3],\n",
    "              [4, 5, 6]], dtype=np.int16, order='C')\n",
    "#F-order， 按列存储\n",
    "y = np.array([[1, 2, 3],\n",
    "              [4, 5, 6]], dtype=np.int16, order='F')\n",
    "\n",
    "print(x.strides)\n",
    "print(y.strides)\n",
    "\n",
    "# print(bytes(x.data))\n",
    "# print(bytes(y.data))"
   ]
  },
  {
   "cell_type": "markdown",
   "metadata": {},
   "source": [
    "## array 基本操作"
   ]
  },
  {
   "cell_type": "markdown",
   "metadata": {},
   "source": [
    "### 索引"
   ]
  },
  {
   "cell_type": "code",
   "execution_count": 29,
   "metadata": {
    "ExecuteTime": {
     "end_time": "2019-04-11T07:03:45.813078Z",
     "start_time": "2019-04-11T07:03:45.810169Z"
    }
   },
   "outputs": [],
   "source": [
    "x = np.array([[1, 2, 3],\n",
    "              [4, 5, 6],\n",
    "              [7, 8, 9]], dtype=np.int8)"
   ]
  },
  {
   "cell_type": "code",
   "execution_count": 34,
   "metadata": {
    "ExecuteTime": {
     "end_time": "2019-04-11T07:04:38.989104Z",
     "start_time": "2019-04-11T07:04:38.985870Z"
    }
   },
   "outputs": [
    {
     "name": "stdout",
     "output_type": "stream",
     "text": [
      "6\n",
      "6\n"
     ]
    }
   ],
   "source": [
    "#正常索引, 访问第一行第二列的元素\n",
    "print(x[1, 2])\n",
    "\n",
    "#你也可以计算byte offset, 移动指针那样索引\n",
    "print(x.flat[x.strides[0] * 1 + x.strides[1] * 2])"
   ]
  },
  {
   "cell_type": "markdown",
   "metadata": {},
   "source": [
    "###### slicing返回数组的view"
   ]
  },
  {
   "cell_type": "code",
   "execution_count": 16,
   "metadata": {
    "ExecuteTime": {
     "end_time": "2019-04-11T07:41:44.066324Z",
     "start_time": "2019-04-11T07:41:44.061346Z"
    }
   },
   "outputs": [
    {
     "name": "stdout",
     "output_type": "stream",
     "text": [
      "x: [1 2 3 4 5 6]\n",
      "y: [6 5 4 3 2 1]\n",
      "True\n",
      "stride of x: (4,)\n",
      "stride of y: (-4,)\n",
      "8\n"
     ]
    }
   ],
   "source": [
    "x = np.array([1,2,3,4,5,6], dtype = np.int32)\n",
    "y = x[::-1]\n",
    "print('x:', x)\n",
    "print('y:', y)\n",
    "#查看而这是否来自同一块内存\n",
    "print(y.base is x)\n",
    "print('stride of x:', x.strides)\n",
    "print('stride of y:', y.strides)\n",
    "\n",
    "y = x[2:]\n",
    "#np.int32占 4个字节, 因此二者内存首地址差了8个字节\n",
    "print(y.__array_interface__['data'][0] - x.__array_interface__['data'][0])"
   ]
  },
  {
   "cell_type": "markdown",
   "metadata": {},
   "source": [
    "###### fake dimensions with strides\n",
    "indexing最终要转换成 byte_offset:<br>\n",
    "$byte\\_offset = stride[0]*index[0] + stride[1]*index[1] + ...$<br>\n",
    "因此,通过改变strides和shape可以\"看上去\"改变数组的形状"
   ]
  },
  {
   "cell_type": "code",
   "execution_count": 21,
   "metadata": {
    "ExecuteTime": {
     "end_time": "2019-04-11T07:49:14.331982Z",
     "start_time": "2019-04-11T07:49:14.328263Z"
    }
   },
   "outputs": [
    {
     "name": "stdout",
     "output_type": "stream",
     "text": [
      "[1 3]\n"
     ]
    }
   ],
   "source": [
    "from numpy.lib.stride_tricks import as_strided\n",
    "#help(as_strided)\n",
    "x = np.array([1,2,3,4], dtype = np.int16)\n",
    "#as_strided 函数给数组分配新的shape和stride\n",
    "print(as_strided(x, strides = (2*2, ), shape = (2, )))"
   ]
  },
  {
   "cell_type": "code",
   "execution_count": 42,
   "metadata": {
    "ExecuteTime": {
     "end_time": "2019-04-11T08:24:38.469910Z",
     "start_time": "2019-04-11T08:24:38.465775Z"
    }
   },
   "outputs": [
    {
     "name": "stdout",
     "output_type": "stream",
     "text": [
      "[[1 2 3 4]\n",
      " [1 2 3 4]\n",
      " [1 2 3 4]]\n",
      "[[10  2  3  4]\n",
      " [10  2  3  4]\n",
      " [10  2  3  4]]\n"
     ]
    }
   ],
   "source": [
    "# a little trick, 注意该函数只返回view\n",
    "arr = np.array([1, 2, 3, 4], dtype=np.int8)\n",
    "#第一个维度的stride为0\n",
    "new_arr = as_strided(arr, shape = (3, 4),strides=(0,1))\n",
    "\n",
    "print(new_arr)\n",
    "arr[0] = 10\n",
    "print(new_arr)"
   ]
  },
  {
   "cell_type": "code",
   "execution_count": null,
   "metadata": {},
   "outputs": [],
   "source": [
    "# "
   ]
  },
  {
   "cell_type": "markdown",
   "metadata": {},
   "source": [
    "### reshape\n",
    "* arange\n",
    "* .T\n",
    "* flatten 和 ravel"
   ]
  },
  {
   "cell_type": "code",
   "execution_count": 6,
   "metadata": {
    "ExecuteTime": {
     "end_time": "2019-04-11T07:32:10.244423Z",
     "start_time": "2019-04-11T07:32:10.238622Z"
    }
   },
   "outputs": [
    {
     "name": "stdout",
     "output_type": "stream",
     "text": [
      "原始数组:\n",
      " [0 1 2 3 4 5 6 7]\n",
      "改变形状后:\n",
      " [[0 1]\n",
      " [2 3]\n",
      " [4 5]\n",
      " [6 7]]\n",
      "改变形状后:\n",
      " [[0 1 2 3]\n",
      " [4 5 6 7]]\n",
      "reshape((4, 2))后转至:\n",
      " [[0 2 4 6]\n",
      " [1 3 5 7]]\n",
      "[0 1 2 3 4 5 6 7]\n",
      "[0 1 2 3 4 5 6 7]\n"
     ]
    }
   ],
   "source": [
    "arr = np.arange(8)\n",
    "print('原始数组:\\n',arr)\n",
    "\n",
    "#reshape\n",
    "print('改变形状后:\\n',arr.reshape((4, 2)))\n",
    "#第二个参数为 -1, 那么按照第一个参数reshape\n",
    "print('改变形状后:\\n',arr.reshape((2, -1)))\n",
    "\n",
    "#reshape返回copy\n",
    "#转置返回view(仅仅交换了stride)\n",
    "print('reshape((4, 2))后转至:\\n',arr.reshape((4, 2)).T)\n",
    "\n",
    "#flatten, 展开数组, 返回copy\n",
    "print(arr.reshape((2, -1)).flatten())\n",
    "\n",
    "#ravel 返回一个view\n",
    "print(arr.reshape((2, -1)).ravel())"
   ]
  },
  {
   "cell_type": "markdown",
   "metadata": {},
   "source": [
    "#### array的两种存储方式"
   ]
  },
  {
   "cell_type": "code",
   "execution_count": 31,
   "metadata": {
    "ExecuteTime": {
     "end_time": "2019-04-11T05:17:24.986996Z",
     "start_time": "2019-04-11T05:17:24.983167Z"
    }
   },
   "outputs": [],
   "source": [
    "arr_1 = np.arange(12).reshape((3, 4), order = 'C')\n",
    "arr_2 = np.arange(12).reshape((3, 4), order = 'F')"
   ]
  },
  {
   "cell_type": "code",
   "execution_count": 32,
   "metadata": {
    "ExecuteTime": {
     "end_time": "2019-04-11T05:17:42.989151Z",
     "start_time": "2019-04-11T05:17:42.985133Z"
    }
   },
   "outputs": [
    {
     "data": {
      "text/plain": [
       "((32, 8), (8, 24))"
      ]
     },
     "execution_count": 32,
     "metadata": {},
     "output_type": "execute_result"
    }
   ],
   "source": [
    "arr_1.strides, arr_2.strides"
   ]
  },
  {
   "cell_type": "code",
   "execution_count": 33,
   "metadata": {
    "ExecuteTime": {
     "end_time": "2019-04-11T05:18:10.835145Z",
     "start_time": "2019-04-11T05:18:10.833100Z"
    }
   },
   "outputs": [],
   "source": [
    "#C: last dimensions vary fastest (= smaller strides)\n",
    "#F: first dimensions vary fastest"
   ]
  },
  {
   "cell_type": "code",
   "execution_count": 30,
   "metadata": {},
   "outputs": [
    {
     "data": {
      "text/plain": [
       "array([ 0,  1,  2,  3,  4,  5,  6,  7,  8,  9, 10, 11])"
      ]
     },
     "execution_count": 30,
     "metadata": {},
     "output_type": "execute_result"
    }
   ],
   "source": [
    "#row-major\n",
    "#ravel默认按行展开\n",
    "arr.ravel()"
   ]
  },
  {
   "cell_type": "code",
   "execution_count": 31,
   "metadata": {},
   "outputs": [
    {
     "data": {
      "text/plain": [
       "array([ 0,  4,  8,  1,  5,  9,  2,  6, 10,  3,  7, 11])"
      ]
     },
     "execution_count": 31,
     "metadata": {},
     "output_type": "execute_result"
    }
   ],
   "source": [
    "#按列展开\n",
    "arr.ravel('F')"
   ]
  },
  {
   "cell_type": "markdown",
   "metadata": {},
   "source": [
    "### array的拼接和分割"
   ]
  },
  {
   "cell_type": "code",
   "execution_count": 33,
   "metadata": {},
   "outputs": [],
   "source": [
    "#array的拼接\n",
    "arr1 = np.array([[1,2,3], [4, 5,6]])\n",
    "arr2 = np.array([[7,8,9], [10, 11, 12]])"
   ]
  },
  {
   "cell_type": "code",
   "execution_count": 34,
   "metadata": {},
   "outputs": [
    {
     "data": {
      "text/plain": [
       "array([[ 1,  2,  3],\n",
       "       [ 4,  5,  6],\n",
       "       [ 7,  8,  9],\n",
       "       [10, 11, 12]])"
      ]
     },
     "execution_count": 34,
     "metadata": {},
     "output_type": "execute_result"
    }
   ],
   "source": [
    "#按行拼接\n",
    "np.concatenate([arr1, arr2], axis = 0)"
   ]
  },
  {
   "cell_type": "code",
   "execution_count": 35,
   "metadata": {},
   "outputs": [
    {
     "data": {
      "text/plain": [
       "array([[ 1,  2,  3,  7,  8,  9],\n",
       "       [ 4,  5,  6, 10, 11, 12]])"
      ]
     },
     "execution_count": 35,
     "metadata": {},
     "output_type": "execute_result"
    }
   ],
   "source": [
    "#按列拼接\n",
    "np.concatenate([arr1, arr2], axis = 1)"
   ]
  },
  {
   "cell_type": "code",
   "execution_count": 37,
   "metadata": {},
   "outputs": [
    {
     "data": {
      "text/plain": [
       "array([[ 1,  2,  3],\n",
       "       [ 4,  5,  6],\n",
       "       [ 7,  8,  9],\n",
       "       [10, 11, 12]])"
      ]
     },
     "execution_count": 37,
     "metadata": {},
     "output_type": "execute_result"
    }
   ],
   "source": [
    "#vstack 按行拼接\n",
    "np.vstack((arr1, arr2))"
   ]
  },
  {
   "cell_type": "code",
   "execution_count": 38,
   "metadata": {},
   "outputs": [
    {
     "data": {
      "text/plain": [
       "array([[ 1,  2,  3,  7,  8,  9],\n",
       "       [ 4,  5,  6, 10, 11, 12]])"
      ]
     },
     "execution_count": 38,
     "metadata": {},
     "output_type": "execute_result"
    }
   ],
   "source": [
    "#hstack 按列拼接\n",
    "np.hstack((arr1, arr2))"
   ]
  },
  {
   "cell_type": "code",
   "execution_count": 41,
   "metadata": {},
   "outputs": [],
   "source": [
    "#array的分割\n",
    "arr = np.random.randn(5, 2)"
   ]
  },
  {
   "cell_type": "code",
   "execution_count": 45,
   "metadata": {},
   "outputs": [
    {
     "data": {
      "text/plain": [
       "[array([[-0.75936684,  0.94663469]]), array([[-0.32441202, -0.54957551],\n",
       "        [ 0.16795239,  0.48218596]]), array([[-0.59554603,  0.64038069],\n",
       "        [-1.1933533 , -0.22507649]])]"
      ]
     },
     "execution_count": 45,
     "metadata": {},
     "output_type": "execute_result"
    }
   ],
   "source": [
    "#arr[0:1,:], arr[1:3,:], arr[3:5,:]\n",
    "np.split(arr, [1, 3], axis = 0)"
   ]
  },
  {
   "cell_type": "markdown",
   "metadata": {},
   "source": [
    "#### stacking helpers r_和 c_"
   ]
  },
  {
   "cell_type": "code",
   "execution_count": 46,
   "metadata": {},
   "outputs": [],
   "source": [
    "arr1 = np.arange(6).reshape((3, 2))\n",
    "arr2 = np.random.randn(3, 2)"
   ]
  },
  {
   "cell_type": "code",
   "execution_count": 47,
   "metadata": {},
   "outputs": [
    {
     "data": {
      "text/plain": [
       "array([[ 0.        ,  1.        ],\n",
       "       [ 2.        ,  3.        ],\n",
       "       [ 4.        ,  5.        ],\n",
       "       [-0.26846236,  1.0869589 ],\n",
       "       [-0.54866666,  1.62292246],\n",
       "       [ 0.90965311,  0.25423043]])"
      ]
     },
     "execution_count": 47,
     "metadata": {},
     "output_type": "execute_result"
    }
   ],
   "source": [
    "np.r_[arr1, arr2]"
   ]
  },
  {
   "cell_type": "code",
   "execution_count": 48,
   "metadata": {},
   "outputs": [
    {
     "data": {
      "text/plain": [
       "array([[ 0.        ,  1.        , -0.26846236,  1.0869589 ],\n",
       "       [ 2.        ,  3.        , -0.54866666,  1.62292246],\n",
       "       [ 4.        ,  5.        ,  0.90965311,  0.25423043]])"
      ]
     },
     "execution_count": 48,
     "metadata": {},
     "output_type": "execute_result"
    }
   ],
   "source": [
    "np.c_[arr1, arr2]"
   ]
  },
  {
   "cell_type": "markdown",
   "metadata": {},
   "source": [
    "###### c_和r_转化切片为array"
   ]
  },
  {
   "cell_type": "code",
   "execution_count": 51,
   "metadata": {},
   "outputs": [
    {
     "data": {
      "text/plain": [
       "array([  1,   2,   3,   4,   5, -10,  -9,  -8,  -7,  -6])"
      ]
     },
     "execution_count": 51,
     "metadata": {},
     "output_type": "execute_result"
    }
   ],
   "source": [
    "np.r_[1:6, -10:-5]"
   ]
  },
  {
   "cell_type": "code",
   "execution_count": 52,
   "metadata": {},
   "outputs": [
    {
     "data": {
      "text/plain": [
       "array([[  1, -10],\n",
       "       [  2,  -9],\n",
       "       [  3,  -8],\n",
       "       [  4,  -7],\n",
       "       [  5,  -6]])"
      ]
     },
     "execution_count": 52,
     "metadata": {},
     "output_type": "execute_result"
    }
   ],
   "source": [
    "np.c_[1:6, -10:-5]"
   ]
  },
  {
   "cell_type": "markdown",
   "metadata": {},
   "source": [
    "### 重复数组的元素: tile 和 repeat"
   ]
  },
  {
   "cell_type": "code",
   "execution_count": 53,
   "metadata": {},
   "outputs": [],
   "source": [
    "arr = np.arange(3)"
   ]
  },
  {
   "cell_type": "code",
   "execution_count": 55,
   "metadata": {},
   "outputs": [
    {
     "data": {
      "text/plain": [
       "array([0, 0, 0, 1, 1, 1, 2, 2, 2])"
      ]
     },
     "execution_count": 55,
     "metadata": {},
     "output_type": "execute_result"
    }
   ],
   "source": [
    "arr.repeat(3)"
   ]
  },
  {
   "cell_type": "code",
   "execution_count": 56,
   "metadata": {},
   "outputs": [
    {
     "data": {
      "text/plain": [
       "array([0, 0, 1, 1, 1, 2, 2, 2, 2])"
      ]
     },
     "execution_count": 56,
     "metadata": {},
     "output_type": "execute_result"
    }
   ],
   "source": [
    "arr.repeat([2, 3, 4])"
   ]
  },
  {
   "cell_type": "code",
   "execution_count": 60,
   "metadata": {},
   "outputs": [
    {
     "data": {
      "text/plain": [
       "array([[ 0.41527045,  1.41827071],\n",
       "       [ 0.41527045,  1.41827071],\n",
       "       [-0.82058695, -0.17713913],\n",
       "       [-0.82058695, -0.17713913]])"
      ]
     },
     "execution_count": 60,
     "metadata": {},
     "output_type": "execute_result"
    }
   ],
   "source": [
    "#注意对多维数组你需要传递axis否则它会先展开再repeat\n",
    "arr = np.random.randn(2, 2)\n",
    "arr.repeat(2, axis = 0)"
   ]
  },
  {
   "cell_type": "code",
   "execution_count": 61,
   "metadata": {},
   "outputs": [
    {
     "data": {
      "text/plain": [
       "array([[ 0.41527045,  0.41527045,  1.41827071,  1.41827071],\n",
       "       [-0.82058695, -0.82058695, -0.17713913, -0.17713913]])"
      ]
     },
     "execution_count": 61,
     "metadata": {},
     "output_type": "execute_result"
    }
   ],
   "source": [
    "arr.repeat(2, axis = 1)"
   ]
  },
  {
   "cell_type": "code",
   "execution_count": 62,
   "metadata": {},
   "outputs": [
    {
     "data": {
      "text/plain": [
       "array([[ 0.41527045,  1.41827071],\n",
       "       [ 0.41527045,  1.41827071],\n",
       "       [-0.82058695, -0.17713913],\n",
       "       [-0.82058695, -0.17713913],\n",
       "       [-0.82058695, -0.17713913]])"
      ]
     },
     "execution_count": 62,
     "metadata": {},
     "output_type": "execute_result"
    }
   ],
   "source": [
    "arr.repeat([2, 3], axis = 0)"
   ]
  },
  {
   "cell_type": "code",
   "execution_count": 63,
   "metadata": {},
   "outputs": [
    {
     "data": {
      "text/plain": [
       "array([ 0.41527045,  0.41527045,  1.41827071,  1.41827071, -0.82058695,\n",
       "       -0.82058695, -0.17713913, -0.17713913])"
      ]
     },
     "execution_count": 63,
     "metadata": {},
     "output_type": "execute_result"
    }
   ],
   "source": [
    "arr.repeat(2)"
   ]
  },
  {
   "cell_type": "code",
   "execution_count": 66,
   "metadata": {},
   "outputs": [],
   "source": [
    "#title用来进行块状重复"
   ]
  },
  {
   "cell_type": "code",
   "execution_count": 64,
   "metadata": {},
   "outputs": [
    {
     "data": {
      "text/plain": [
       "array([[ 0.41527045,  1.41827071,  0.41527045,  1.41827071],\n",
       "       [-0.82058695, -0.17713913, -0.82058695, -0.17713913]])"
      ]
     },
     "execution_count": 64,
     "metadata": {},
     "output_type": "execute_result"
    }
   ],
   "source": [
    "np.tile(arr, 2)"
   ]
  },
  {
   "cell_type": "code",
   "execution_count": 65,
   "metadata": {},
   "outputs": [
    {
     "data": {
      "text/plain": [
       "array([[ 0.41527045,  1.41827071,  0.41527045,  1.41827071],\n",
       "       [-0.82058695, -0.17713913, -0.82058695, -0.17713913],\n",
       "       [ 0.41527045,  1.41827071,  0.41527045,  1.41827071],\n",
       "       [-0.82058695, -0.17713913, -0.82058695, -0.17713913],\n",
       "       [ 0.41527045,  1.41827071,  0.41527045,  1.41827071],\n",
       "       [-0.82058695, -0.17713913, -0.82058695, -0.17713913]])"
      ]
     },
     "execution_count": 65,
     "metadata": {},
     "output_type": "execute_result"
    }
   ],
   "source": [
    "np.tile(arr, (3, 2))"
   ]
  },
  {
   "cell_type": "markdown",
   "metadata": {},
   "source": [
    "### Fancy Indexing: take and put\n",
    "注意 fancy indexing和切片不同。"
   ]
  },
  {
   "cell_type": "code",
   "execution_count": 74,
   "metadata": {},
   "outputs": [
    {
     "data": {
      "text/plain": [
       "array([700, 100, 200, 600])"
      ]
     },
     "execution_count": 74,
     "metadata": {},
     "output_type": "execute_result"
    }
   ],
   "source": [
    "arr = np.arange(10) * 100\n",
    "inds = [7, 1, 2, 6]\n",
    "arr[inds]"
   ]
  },
  {
   "cell_type": "code",
   "execution_count": 76,
   "metadata": {},
   "outputs": [
    {
     "data": {
      "text/plain": [
       "array([700, 100, 200, 600])"
      ]
     },
     "execution_count": 76,
     "metadata": {},
     "output_type": "execute_result"
    }
   ],
   "source": [
    "#用take来fancy indexing\n",
    "arr.take(inds)"
   ]
  },
  {
   "cell_type": "code",
   "execution_count": 79,
   "metadata": {},
   "outputs": [
    {
     "data": {
      "text/plain": [
       "array([  0, 100, 100, 300, 400, 500, 100, 100, 800, 900])"
      ]
     },
     "execution_count": 79,
     "metadata": {},
     "output_type": "execute_result"
    }
   ],
   "source": [
    "#用 put来fancy assign\n",
    "#put不接受axis他按照数组在内存中的存储方式来assign\n",
    "arr.put(inds, 100)\n",
    "arr"
   ]
  },
  {
   "cell_type": "code",
   "execution_count": 81,
   "metadata": {},
   "outputs": [
    {
     "data": {
      "text/plain": [
       "array([  0,  41,  42, 300, 400, 500,  43,  40, 800, 900])"
      ]
     },
     "execution_count": 81,
     "metadata": {},
     "output_type": "execute_result"
    }
   ],
   "source": [
    "arr.put(inds, [40, 41,42,43])\n",
    "arr"
   ]
  },
  {
   "cell_type": "code",
   "execution_count": 83,
   "metadata": {},
   "outputs": [
    {
     "data": {
      "text/plain": [
       "array([[-0.98892398, -0.67543966, -0.98892398, -1.2678341 ],\n",
       "       [-1.31775201,  1.22510303, -1.31775201, -0.21922061]])"
      ]
     },
     "execution_count": 83,
     "metadata": {},
     "output_type": "execute_result"
    }
   ],
   "source": [
    "#take也可以用来在其他维度indexing\n",
    "arr = np.random.randn(2, 4)\n",
    "inds = [2, 0, 2, 1]\n",
    "arr.take(inds, axis = 1)"
   ]
  },
  {
   "cell_type": "code",
   "execution_count": 84,
   "metadata": {},
   "outputs": [
    {
     "data": {
      "text/plain": [
       "array([[-0.67543966, -1.2678341 , -0.98892398,  2.20214449],\n",
       "       [ 1.22510303, -0.21922061, -1.31775201, -0.94948468]])"
      ]
     },
     "execution_count": 84,
     "metadata": {},
     "output_type": "execute_result"
    }
   ],
   "source": [
    "arr"
   ]
  },
  {
   "cell_type": "markdown",
   "metadata": {},
   "source": [
    "### 数组广播"
   ]
  },
  {
   "cell_type": "markdown",
   "metadata": {},
   "source": [
    "#### 广播计算: 两个数组的 trailing dimension matches 或者 有一个维度是1"
   ]
  },
  {
   "cell_type": "code",
   "execution_count": 31,
   "metadata": {
    "ExecuteTime": {
     "end_time": "2019-04-11T08:05:02.273114Z",
     "start_time": "2019-04-11T08:05:02.268675Z"
    }
   },
   "outputs": [
    {
     "name": "stdout",
     "output_type": "stream",
     "text": [
      "原始数组: [0 1 2 3 4]\n",
      "arr * 5: [ 0  5 10 15 20]\n"
     ]
    }
   ],
   "source": [
    "#一维广播计算\n",
    "arr = np.arange(5)\n",
    "print('原始数组:', arr)\n",
    "print('arr * 5:',arr * 5)"
   ]
  },
  {
   "cell_type": "code",
   "execution_count": 33,
   "metadata": {
    "ExecuteTime": {
     "end_time": "2019-04-11T08:07:20.888927Z",
     "start_time": "2019-04-11T08:07:20.884097Z"
    }
   },
   "outputs": [
    {
     "name": "stdout",
     "output_type": "stream",
     "text": [
      "原始数组:\n",
      " [[-0.62612816 -1.99816655 -0.55176233]\n",
      " [-1.52698824 -0.2903179  -0.55939064]\n",
      " [ 1.06678615 -1.46225826  1.31608609]\n",
      " [-0.21542459 -0.51429887 -0.48430183]]\n",
      "按行广播计算:\n",
      " [[-0.30068945 -0.93190615 -0.48192015]\n",
      " [-1.20154953  0.77594249 -0.48954847]\n",
      " [ 1.39222486 -0.39599787  1.38592827]\n",
      " [ 0.11001412  0.55196152 -0.41445965]]\n",
      "按列广播计算:\n",
      " [[ 0.43255752 -0.93948087  0.50692335]\n",
      " [-0.73475598  0.50191436  0.23284162]\n",
      " [ 0.75991483 -1.76912959  1.00921476]\n",
      " [ 0.18925051 -0.10962378 -0.07962673]]\n"
     ]
    }
   ],
   "source": [
    "#二维广播计算\n",
    "arr = np.random.randn(4, 3)\n",
    "arr.mean(axis = 0)\n",
    "print('原始数组:\\n',arr)\n",
    "#广播计算, 按行计算\n",
    "print('按行广播计算:\\n',arr - arr.mean(axis = 0))\n",
    "#广播计算, 按列计算。注意必须让减数的列维度为1\n",
    "print('按列广播计算:\\n',arr - arr.mean(axis = 1)[:, np.newaxis])"
   ]
  },
  {
   "cell_type": "markdown",
   "metadata": {},
   "source": [
    "###### np.newaxis"
   ]
  },
  {
   "cell_type": "code",
   "execution_count": 35,
   "metadata": {
    "ExecuteTime": {
     "end_time": "2019-04-11T08:14:02.776491Z",
     "start_time": "2019-04-11T08:14:02.771064Z"
    }
   },
   "outputs": [
    {
     "name": "stdout",
     "output_type": "stream",
     "text": [
      "原始数组:\n",
      " [[0. 0. 0. 0.]\n",
      " [0. 0. 0. 0.]\n",
      " [0. 0. 0. 0.]\n",
      " [0. 0. 0. 0.]]\n",
      "arr[:, np.newaxis, :]\n",
      " [[[0. 0. 0. 0.]]\n",
      "\n",
      " [[0. 0. 0. 0.]]\n",
      "\n",
      " [[0. 0. 0. 0.]]\n",
      "\n",
      " [[0. 0. 0. 0.]]]\n",
      "arr[:,:, np.newaxis]\n",
      " [[[0.]\n",
      "  [0.]\n",
      "  [0.]\n",
      "  [0.]]\n",
      "\n",
      " [[0.]\n",
      "  [0.]\n",
      "  [0.]\n",
      "  [0.]]\n",
      "\n",
      " [[0.]\n",
      "  [0.]\n",
      "  [0.]\n",
      "  [0.]]\n",
      "\n",
      " [[0.]\n",
      "  [0.]\n",
      "  [0.]\n",
      "  [0.]]]\n",
      "arr[np.newaxis,:,:]\n",
      " [[[0. 0. 0. 0.]\n",
      "  [0. 0. 0. 0.]\n",
      "  [0. 0. 0. 0.]\n",
      "  [0. 0. 0. 0.]]]\n"
     ]
    }
   ],
   "source": [
    "arr = np.zeros((4, 4))\n",
    "print('原始数组:\\n', arr)\n",
    "arr_3d = arr[:, np.newaxis, :]\n",
    "print('arr[:, np.newaxis, :]\\n', arr_3d)\n",
    "arr_3d = arr[:,:, np.newaxis]\n",
    "print('arr[:,:, np.newaxis]\\n', arr_3d)\n",
    "arr_3d = arr[np.newaxis,:,:]\n",
    "print('arr[np.newaxis,:,:]\\n', arr_3d)\n",
    "# arr_1d = np.random.normal(size = 3)\n",
    "\n",
    "# arr_1d[:, np.newaxis]\n",
    "\n",
    "# arr_1d[np.newaxis, :]"
   ]
  },
  {
   "cell_type": "markdown",
   "metadata": {},
   "source": [
    "###### 广播计算与 as_strided"
   ]
  },
  {
   "cell_type": "code",
   "execution_count": 41,
   "metadata": {
    "ExecuteTime": {
     "end_time": "2019-04-11T08:22:00.895907Z",
     "start_time": "2019-04-11T08:22:00.887966Z"
    }
   },
   "outputs": [
    {
     "name": "stdout",
     "output_type": "stream",
     "text": [
      "x2:\n",
      " [[1 2 3 4]\n",
      " [1 2 3 4]\n",
      " [1 2 3 4]]\n",
      "y2:\n",
      " [[5 5 5 5]\n",
      " [6 6 6 6]\n",
      " [7 7 7 7]]\n",
      "实际上是一个外积运算:\n",
      " [[ 5 10 15 20]\n",
      " [ 6 12 18 24]\n",
      " [ 7 14 21 28]]\n"
     ]
    },
    {
     "data": {
      "text/plain": [
       "array([[ 5, 10, 15, 20],\n",
       "       [ 6, 12, 18, 24],\n",
       "       [ 7, 14, 21, 28]], dtype=int16)"
      ]
     },
     "execution_count": 41,
     "metadata": {},
     "output_type": "execute_result"
    }
   ],
   "source": [
    "x = np.array([1,2,3,4], dtype = np.int16)\n",
    "x2 = as_strided(x, strides=(0, 1*2), shape = (3, 4))\n",
    "y = np.array([5,6,7], dtype = np.int16)\n",
    "y2 = as_strided(y, strides=(1*2, 0), shape = (3, 4))\n",
    "print('x2:\\n', x2)\n",
    "print('y2:\\n', y2)\n",
    "print('实际上是一个外积运算:\\n', x2 * y2)\n",
    "#等价于如下的广播计算:\n",
    "x[np.newaxis, :] * y[:, np.newaxis]"
   ]
  },
  {
   "cell_type": "markdown",
   "metadata": {},
   "source": [
    "###### 三维的广播计算"
   ]
  },
  {
   "cell_type": "code",
   "execution_count": 107,
   "metadata": {},
   "outputs": [],
   "source": [
    "arr = np.random.randn(3, 4, 5)"
   ]
  },
  {
   "cell_type": "code",
   "execution_count": 109,
   "metadata": {},
   "outputs": [
    {
     "data": {
      "text/plain": [
       "array([[-0.39314189, -0.53168205,  0.12120555, -0.5114491 ],\n",
       "       [-0.4899763 , -0.51777506,  0.11691964,  0.42450305],\n",
       "       [-0.23595574,  0.1202386 , -0.05738313, -0.11191177]])"
      ]
     },
     "execution_count": 109,
     "metadata": {},
     "output_type": "execute_result"
    }
   ],
   "source": [
    "#按照最后一个维度取均值\n",
    "arr.mean(axis = 2)"
   ]
  },
  {
   "cell_type": "code",
   "execution_count": 110,
   "metadata": {},
   "outputs": [
    {
     "data": {
      "text/plain": [
       "array([[-0.39314189, -0.53168205,  0.12120555, -0.5114491 ],\n",
       "       [-0.4899763 , -0.51777506,  0.11691964,  0.42450305],\n",
       "       [-0.23595574,  0.1202386 , -0.05738313, -0.11191177]])"
      ]
     },
     "execution_count": 110,
     "metadata": {},
     "output_type": "execute_result"
    }
   ],
   "source": [
    "#上面的操作等价于\n",
    "(arr[:, :, 0] + arr[:, :, 1] +\\\n",
    " arr[:, :, 2] + arr[:, :, 3] +\\\n",
    " arr[:, :, 4]) / 5"
   ]
  },
  {
   "cell_type": "code",
   "execution_count": 111,
   "metadata": {},
   "outputs": [
    {
     "data": {
      "text/plain": [
       "array([[ 0.11006853, -0.50117318, -0.24429238, -0.68163187, -0.32680547],\n",
       "       [ 0.0905641 , -0.58144725,  0.7889928 , -0.81321404, -0.06780644],\n",
       "       [-0.39950116,  0.15316767, -0.36932333,  0.28486338, -0.02547163]])"
      ]
     },
     "execution_count": 111,
     "metadata": {},
     "output_type": "execute_result"
    }
   ],
   "source": [
    "#按照中间的维度取平均值\n",
    "arr.mean(axis = 1)"
   ]
  },
  {
   "cell_type": "code",
   "execution_count": 114,
   "metadata": {},
   "outputs": [
    {
     "data": {
      "text/plain": [
       "array([[ 0.11676297, -1.44261496, -0.17017801, -1.43704082,  0.96736137],\n",
       "       [ 0.68599173, -2.035222  , -0.16604593, -1.19799388,  0.26338857],\n",
       "       [ 0.02739841, -0.45373621, -0.78833031, -0.02116913,  0.05605854]])"
      ]
     },
     "execution_count": 114,
     "metadata": {},
     "output_type": "execute_result"
    }
   ],
   "source": [
    "#对arr的每一页, 取第零行的长度为5的数组\n",
    "arr[:, 0, :]"
   ]
  },
  {
   "cell_type": "code",
   "execution_count": 115,
   "metadata": {},
   "outputs": [
    {
     "data": {
      "text/plain": [
       "array([[[ 0.50990486, -1.04947307,  0.22296388, -1.04389893,\n",
       "          1.36050326],\n",
       "        [-0.36458632, -0.43387666,  0.42019347, -0.29861833,\n",
       "          0.67688784],\n",
       "        [ 0.82521565,  0.77830089, -1.56661309, -0.64535477,\n",
       "          0.60845133],\n",
       "        [ 0.78480743,  0.01542363,  1.2613537 ,  0.57641206,\n",
       "         -2.63799681]],\n",
       "\n",
       "       [[ 1.17596803, -1.5452457 ,  0.32393038, -0.70801758,\n",
       "          0.75336487],\n",
       "        [-0.49574748, -1.50209639,  1.7906608 ,  0.05034505,\n",
       "          0.15683801],\n",
       "        [-0.12219346, -0.66922359,  1.33673868, -1.18591766,\n",
       "          0.64059603],\n",
       "        [ 0.27055798,  1.85710533,  0.17096999, -0.9429373 ,\n",
       "         -1.35569601]],\n",
       "\n",
       "       [[ 0.26335414, -0.21778047, -0.55237457,  0.21478661,\n",
       "          0.29201428],\n",
       "        [ 0.2123344 ,  0.58851885, -0.67958476,  0.57719597,\n",
       "         -0.69846447],\n",
       "        [-0.86654433,  1.27610114, -1.06500836, -0.19677213,\n",
       "          0.85222368],\n",
       "        [-0.92213681, -0.74915681,  1.10468643,  0.82925513,\n",
       "         -0.26264795]]])"
      ]
     },
     "execution_count": 115,
     "metadata": {},
     "output_type": "execute_result"
    }
   ],
   "source": [
    "#注意最后的维度必须是1\n",
    "arr - arr.mean(axis = 2)[:, :, np.newaxis]"
   ]
  },
  {
   "cell_type": "markdown",
   "metadata": {},
   "source": [
    "###### np.newaxis 返回copy, 下面的方法不损耗性能"
   ]
  },
  {
   "cell_type": "code",
   "execution_count": 129,
   "metadata": {},
   "outputs": [],
   "source": [
    "indexer = [slice(None)] * arr.ndim"
   ]
  },
  {
   "cell_type": "code",
   "execution_count": 130,
   "metadata": {},
   "outputs": [
    {
     "data": {
      "text/plain": [
       "[slice(None, None, None), slice(None, None, None), slice(None, None, None)]"
      ]
     },
     "execution_count": 130,
     "metadata": {},
     "output_type": "execute_result"
    }
   ],
   "source": [
    "indexer"
   ]
  },
  {
   "cell_type": "code",
   "execution_count": 131,
   "metadata": {},
   "outputs": [],
   "source": [
    "indexer[1] = np.newaxis"
   ]
  },
  {
   "cell_type": "code",
   "execution_count": 132,
   "metadata": {},
   "outputs": [
    {
     "data": {
      "text/plain": [
       "array([[[ 0.00669444, -0.94144178,  0.07411437, -0.75540895,\n",
       "          1.29416684],\n",
       "        [-1.0063369 , -0.46438553,  0.1328038 , -0.14866852,\n",
       "          0.47201126],\n",
       "        [ 0.83635267,  1.40067962, -1.20111515,  0.15748264,\n",
       "          1.05646234],\n",
       "        [ 0.16328979,  0.0051477 ,  0.99419698,  0.74659483,\n",
       "         -2.82264044]],\n",
       "\n",
       "       [[ 0.59542762, -1.45377475, -0.95503872, -0.38477984,\n",
       "          0.33119501],\n",
       "        [-1.10408664, -1.43842419,  0.48389295,  0.34578403,\n",
       "         -0.2931306 ],\n",
       "        [-0.09583792,  0.0291433 ,  0.66466553, -0.25578398,\n",
       "          0.82532211],\n",
       "        [ 0.60449693,  2.86305563, -0.19351976,  0.29477979,\n",
       "         -0.86338651]],\n",
       "\n",
       "       [[ 0.42689957, -0.60690387, -0.41900698, -0.30603251,\n",
       "          0.08153017],\n",
       "        [ 0.73207416,  0.55558978, -0.19002284,  0.41257119,\n",
       "         -0.55275424],\n",
       "        [-0.5244263 ,  1.06555034, -0.75306817, -0.53901865,\n",
       "          0.82031217],\n",
       "        [-0.63454742, -1.01423625,  1.36209799,  0.43247997,\n",
       "         -0.3490881 ]]])"
      ]
     },
     "execution_count": 132,
     "metadata": {},
     "output_type": "execute_result"
    }
   ],
   "source": [
    "#这样不生成copy\n",
    "arr - arr.mean(1)[tuple(indexer)]"
   ]
  },
  {
   "cell_type": "markdown",
   "metadata": {},
   "source": [
    "#### 广播赋值"
   ]
  },
  {
   "cell_type": "code",
   "execution_count": 133,
   "metadata": {},
   "outputs": [],
   "source": [
    "arr = np.zeros((4, 3))"
   ]
  },
  {
   "cell_type": "code",
   "execution_count": 134,
   "metadata": {},
   "outputs": [],
   "source": [
    "arr[:] = 5"
   ]
  },
  {
   "cell_type": "code",
   "execution_count": 135,
   "metadata": {},
   "outputs": [
    {
     "data": {
      "text/plain": [
       "array([[5., 5., 5.],\n",
       "       [5., 5., 5.],\n",
       "       [5., 5., 5.],\n",
       "       [5., 5., 5.]])"
      ]
     },
     "execution_count": 135,
     "metadata": {},
     "output_type": "execute_result"
    }
   ],
   "source": [
    "arr"
   ]
  },
  {
   "cell_type": "code",
   "execution_count": 137,
   "metadata": {},
   "outputs": [],
   "source": [
    "col = np.array([1, 2, 3, -4])\n",
    "arr[:] = col[:, np.newaxis]"
   ]
  },
  {
   "cell_type": "code",
   "execution_count": 139,
   "metadata": {},
   "outputs": [
    {
     "data": {
      "text/plain": [
       "array([[ 1.,  1.,  1.],\n",
       "       [ 2.,  2.,  2.],\n",
       "       [ 3.,  3.,  3.],\n",
       "       [-4., -4., -4.]])"
      ]
     },
     "execution_count": 139,
     "metadata": {},
     "output_type": "execute_result"
    }
   ],
   "source": [
    "arr"
   ]
  },
  {
   "cell_type": "code",
   "execution_count": 142,
   "metadata": {},
   "outputs": [],
   "source": [
    "arr[:2, :] = np.array([[1.37], [0.5]])"
   ]
  },
  {
   "cell_type": "code",
   "execution_count": 143,
   "metadata": {},
   "outputs": [
    {
     "data": {
      "text/plain": [
       "array([[1.37, 1.37, 1.37],\n",
       "       [0.5 , 0.5 , 0.5 ]])"
      ]
     },
     "execution_count": 143,
     "metadata": {},
     "output_type": "execute_result"
    }
   ],
   "source": [
    "arr[:2, :]"
   ]
  },
  {
   "cell_type": "code",
   "execution_count": 144,
   "metadata": {},
   "outputs": [
    {
     "data": {
      "text/plain": [
       "array([[1.37],\n",
       "       [0.5 ]])"
      ]
     },
     "execution_count": 144,
     "metadata": {},
     "output_type": "execute_result"
    }
   ],
   "source": [
    "np.array([[1.37], [0.5]])"
   ]
  },
  {
   "cell_type": "markdown",
   "metadata": {},
   "source": [
    "### Numpy ufunc"
   ]
  },
  {
   "cell_type": "code",
   "execution_count": 145,
   "metadata": {},
   "outputs": [],
   "source": [
    "#reduce\n",
    "arr = np.arange(10).reshape((5, -1))"
   ]
  },
  {
   "cell_type": "code",
   "execution_count": 146,
   "metadata": {},
   "outputs": [
    {
     "data": {
      "text/plain": [
       "array([[0, 1],\n",
       "       [2, 3],\n",
       "       [4, 5],\n",
       "       [6, 7],\n",
       "       [8, 9]])"
      ]
     },
     "execution_count": 146,
     "metadata": {},
     "output_type": "execute_result"
    }
   ],
   "source": [
    "arr"
   ]
  },
  {
   "cell_type": "code",
   "execution_count": 147,
   "metadata": {},
   "outputs": [
    {
     "data": {
      "text/plain": [
       "array([20, 25])"
      ]
     },
     "execution_count": 147,
     "metadata": {},
     "output_type": "execute_result"
    }
   ],
   "source": [
    "np.add.reduce(arr, axis = 0)"
   ]
  },
  {
   "cell_type": "code",
   "execution_count": 148,
   "metadata": {},
   "outputs": [
    {
     "data": {
      "text/plain": [
       "array([ 1,  5,  9, 13, 17])"
      ]
     },
     "execution_count": 148,
     "metadata": {},
     "output_type": "execute_result"
    }
   ],
   "source": [
    "np.add.reduce(arr, axis = 1)"
   ]
  },
  {
   "cell_type": "code",
   "execution_count": 151,
   "metadata": {},
   "outputs": [],
   "source": [
    "arr = np.random.randn(5, 5)\n",
    "arr[::2, :].sort(1)"
   ]
  },
  {
   "cell_type": "code",
   "execution_count": 152,
   "metadata": {},
   "outputs": [
    {
     "data": {
      "text/plain": [
       "array([[ True,  True,  True,  True],\n",
       "       [ True, False, False, False],\n",
       "       [ True,  True,  True,  True],\n",
       "       [ True, False,  True,  True],\n",
       "       [ True,  True,  True,  True]])"
      ]
     },
     "execution_count": 152,
     "metadata": {},
     "output_type": "execute_result"
    }
   ],
   "source": [
    "arr[:, :-1]< arr[:, 1:]"
   ]
  },
  {
   "cell_type": "code",
   "execution_count": 153,
   "metadata": {},
   "outputs": [
    {
     "data": {
      "text/plain": [
       "array([ True, False,  True, False,  True])"
      ]
     },
     "execution_count": 153,
     "metadata": {},
     "output_type": "execute_result"
    }
   ],
   "source": [
    "np.logical_and.reduce(arr[:, :-1]< arr[:, 1:], axis = 1)"
   ]
  },
  {
   "cell_type": "code",
   "execution_count": 154,
   "metadata": {},
   "outputs": [],
   "source": [
    "#accumulate\n",
    "arr = np.arange(15).reshape((3, -1))"
   ]
  },
  {
   "cell_type": "code",
   "execution_count": 156,
   "metadata": {},
   "outputs": [
    {
     "data": {
      "text/plain": [
       "array([[ 0,  1,  2,  3,  4],\n",
       "       [ 5,  6,  7,  8,  9],\n",
       "       [10, 11, 12, 13, 14]])"
      ]
     },
     "execution_count": 156,
     "metadata": {},
     "output_type": "execute_result"
    }
   ],
   "source": [
    "arr"
   ]
  },
  {
   "cell_type": "code",
   "execution_count": 157,
   "metadata": {},
   "outputs": [
    {
     "data": {
      "text/plain": [
       "array([[ 0,  1,  3,  6, 10],\n",
       "       [ 5, 11, 18, 26, 35],\n",
       "       [10, 21, 33, 46, 60]])"
      ]
     },
     "execution_count": 157,
     "metadata": {},
     "output_type": "execute_result"
    }
   ],
   "source": [
    "#相当于np.cumsum\n",
    "np.add.accumulate(arr, axis = 1)"
   ]
  },
  {
   "cell_type": "code",
   "execution_count": 161,
   "metadata": {},
   "outputs": [],
   "source": [
    "#outer,外积运算\n",
    "arr = np.arange(3).repeat([1, 2, 2])"
   ]
  },
  {
   "cell_type": "code",
   "execution_count": 162,
   "metadata": {},
   "outputs": [
    {
     "data": {
      "text/plain": [
       "array([0, 1, 1, 2, 2])"
      ]
     },
     "execution_count": 162,
     "metadata": {},
     "output_type": "execute_result"
    }
   ],
   "source": [
    "arr"
   ]
  },
  {
   "cell_type": "code",
   "execution_count": 163,
   "metadata": {},
   "outputs": [
    {
     "data": {
      "text/plain": [
       "array([[0, 0, 0, 0, 0],\n",
       "       [0, 1, 2, 3, 4],\n",
       "       [0, 1, 2, 3, 4],\n",
       "       [0, 2, 4, 6, 8],\n",
       "       [0, 2, 4, 6, 8]])"
      ]
     },
     "execution_count": 163,
     "metadata": {},
     "output_type": "execute_result"
    }
   ],
   "source": [
    "np.multiply.outer(arr, np.arange(5))"
   ]
  },
  {
   "cell_type": "code",
   "execution_count": 168,
   "metadata": {},
   "outputs": [],
   "source": [
    "#outer结果的维度是两个输入维度的笛卡尔积\n",
    "x, y = np.random.randn(3, 4), np.random.randn(5)"
   ]
  },
  {
   "cell_type": "code",
   "execution_count": 165,
   "metadata": {},
   "outputs": [],
   "source": [
    "result = np.subtract.outer(x, y)"
   ]
  },
  {
   "cell_type": "code",
   "execution_count": 167,
   "metadata": {},
   "outputs": [
    {
     "data": {
      "text/plain": [
       "(3, 4, 5)"
      ]
     },
     "execution_count": 167,
     "metadata": {},
     "output_type": "execute_result"
    }
   ],
   "source": [
    "result.shape"
   ]
  },
  {
   "cell_type": "code",
   "execution_count": 169,
   "metadata": {},
   "outputs": [],
   "source": [
    "#reduceat \"local reduce\"或者说groupby reduce"
   ]
  },
  {
   "cell_type": "code",
   "execution_count": 171,
   "metadata": {},
   "outputs": [
    {
     "data": {
      "text/plain": [
       "array([10, 18, 17])"
      ]
     },
     "execution_count": 171,
     "metadata": {},
     "output_type": "execute_result"
    }
   ],
   "source": [
    "#sum on arr[0:5], arr[5:8], arr[8:]\n",
    "arr = np.arange(10)\n",
    "np.add.reduceat(arr, [0, 5, 8])"
   ]
  },
  {
   "cell_type": "code",
   "execution_count": 172,
   "metadata": {},
   "outputs": [],
   "source": [
    "arr = np.multiply.outer(np.arange(4), np.arange(5))"
   ]
  },
  {
   "cell_type": "code",
   "execution_count": 173,
   "metadata": {},
   "outputs": [
    {
     "data": {
      "text/plain": [
       "array([[ 0,  0,  0,  0,  0],\n",
       "       [ 0,  1,  2,  3,  4],\n",
       "       [ 0,  2,  4,  6,  8],\n",
       "       [ 0,  3,  6,  9, 12]])"
      ]
     },
     "execution_count": 173,
     "metadata": {},
     "output_type": "execute_result"
    }
   ],
   "source": [
    "arr"
   ]
  },
  {
   "cell_type": "code",
   "execution_count": 174,
   "metadata": {},
   "outputs": [
    {
     "data": {
      "text/plain": [
       "array([[ 0,  0,  0],\n",
       "       [ 1,  5,  4],\n",
       "       [ 2, 10,  8],\n",
       "       [ 3, 15, 12]])"
      ]
     },
     "execution_count": 174,
     "metadata": {},
     "output_type": "execute_result"
    }
   ],
   "source": [
    "np.add.reduceat(arr, [0, 2, 4], axis = 1)"
   ]
  },
  {
   "cell_type": "markdown",
   "metadata": {},
   "source": [
    "### 定义自己的 ufunc"
   ]
  },
  {
   "cell_type": "code",
   "execution_count": 175,
   "metadata": {},
   "outputs": [],
   "source": [
    "#这需要用到 numpy的 C-api"
   ]
  },
  {
   "cell_type": "code",
   "execution_count": 177,
   "metadata": {},
   "outputs": [],
   "source": [
    "#你也可以用 np.vectorize\n",
    "\n",
    "def add_elements(x, y):\n",
    "    return x + y\n",
    "add_them = np.vectorize(add_elements, otypes = [np.float64])"
   ]
  },
  {
   "cell_type": "markdown",
   "metadata": {},
   "source": [
    "#### 但是速度会变慢！"
   ]
  },
  {
   "cell_type": "code",
   "execution_count": 178,
   "metadata": {},
   "outputs": [
    {
     "name": "stdout",
     "output_type": "stream",
     "text": [
      "CPU times: user 516 µs, sys: 181 µs, total: 697 µs\n",
      "Wall time: 676 µs\n"
     ]
    },
    {
     "data": {
      "text/plain": [
       "array([ 0.,  2.,  4.,  6.,  8., 10., 12., 14.])"
      ]
     },
     "execution_count": 178,
     "metadata": {},
     "output_type": "execute_result"
    }
   ],
   "source": [
    "%time add_them(np.arange(8), np.arange(8))"
   ]
  },
  {
   "cell_type": "code",
   "execution_count": 179,
   "metadata": {},
   "outputs": [
    {
     "name": "stdout",
     "output_type": "stream",
     "text": [
      "CPU times: user 113 µs, sys: 39 µs, total: 152 µs\n",
      "Wall time: 109 µs\n"
     ]
    },
    {
     "data": {
      "text/plain": [
       "array([ 0,  2,  4,  6,  8, 10, 12, 14])"
      ]
     },
     "execution_count": 179,
     "metadata": {},
     "output_type": "execute_result"
    }
   ],
   "source": [
    "%time np.add(np.arange(8), np.arange(8))"
   ]
  },
  {
   "cell_type": "markdown",
   "metadata": {},
   "source": [
    "### 结构数组"
   ]
  },
  {
   "cell_type": "code",
   "execution_count": 180,
   "metadata": {},
   "outputs": [],
   "source": [
    "dtypes = [('x', np.float64), ('y', np.int32)]\n",
    "s_arr = np.array([(1.5, 6), (np.pi, -2)], dtype = dtypes)"
   ]
  },
  {
   "cell_type": "code",
   "execution_count": 181,
   "metadata": {},
   "outputs": [
    {
     "data": {
      "text/plain": [
       "array([(1.5       ,  6), (3.14159265, -2)],\n",
       "      dtype=[('x', '<f8'), ('y', '<i4')])"
      ]
     },
     "execution_count": 181,
     "metadata": {},
     "output_type": "execute_result"
    }
   ],
   "source": [
    "s_arr"
   ]
  },
  {
   "cell_type": "code",
   "execution_count": 182,
   "metadata": {},
   "outputs": [
    {
     "data": {
      "text/plain": [
       "array([1.5       , 3.14159265])"
      ]
     },
     "execution_count": 182,
     "metadata": {},
     "output_type": "execute_result"
    }
   ],
   "source": [
    "s_arr['x']"
   ]
  },
  {
   "cell_type": "code",
   "execution_count": 188,
   "metadata": {},
   "outputs": [],
   "source": [
    "#每一个tuple代表一行, 其中每个元素有自己的名字和dtype\n",
    "s_arr = np.array([(1, 2), (3, 4)],\n",
    "                 dtype = [('foo', np.int32), ('bar', np.float16)])"
   ]
  },
  {
   "cell_type": "code",
   "execution_count": 189,
   "metadata": {},
   "outputs": [
    {
     "data": {
      "text/plain": [
       "array([1, 3], dtype=int32)"
      ]
     },
     "execution_count": 189,
     "metadata": {},
     "output_type": "execute_result"
    }
   ],
   "source": [
    "s_arr['foo']"
   ]
  },
  {
   "cell_type": "code",
   "execution_count": 190,
   "metadata": {},
   "outputs": [],
   "source": [
    "#你可以指定每个名字的元素数目，即nested dtypes\n",
    "dtypes = [('x', np.int64, 3), ('y', np.int32)]\n",
    "arr = np.zeros(4, dtype = dtypes)"
   ]
  },
  {
   "cell_type": "code",
   "execution_count": 192,
   "metadata": {},
   "outputs": [
    {
     "data": {
      "text/plain": [
       "array([[0, 0, 0],\n",
       "       [0, 0, 0],\n",
       "       [0, 0, 0],\n",
       "       [0, 0, 0]])"
      ]
     },
     "execution_count": 192,
     "metadata": {},
     "output_type": "execute_result"
    }
   ],
   "source": [
    "#按元素名字访问\n",
    "arr['x']"
   ]
  },
  {
   "cell_type": "code",
   "execution_count": 194,
   "metadata": {},
   "outputs": [
    {
     "data": {
      "text/plain": [
       "([0, 0, 0], 0)"
      ]
     },
     "execution_count": 194,
     "metadata": {},
     "output_type": "execute_result"
    }
   ],
   "source": [
    "#按行访问\n",
    "arr[0]"
   ]
  },
  {
   "cell_type": "code",
   "execution_count": 195,
   "metadata": {},
   "outputs": [],
   "source": [
    "#你也可以指定 nested array的dtype\n",
    "dtype = [('x', [('a', 'f8'), ('b', 'f4')]), ('y', np.int32)]\n",
    "data = np.array([((1, 2), 5), ((3, 4), 6)], dtype = dtype)"
   ]
  },
  {
   "cell_type": "code",
   "execution_count": 196,
   "metadata": {},
   "outputs": [
    {
     "data": {
      "text/plain": [
       "array([((1., 2.), 5), ((3., 4.), 6)],\n",
       "      dtype=[('x', [('a', '<f8'), ('b', '<f4')]), ('y', '<i4')])"
      ]
     },
     "execution_count": 196,
     "metadata": {},
     "output_type": "execute_result"
    }
   ],
   "source": [
    "data"
   ]
  },
  {
   "cell_type": "code",
   "execution_count": 198,
   "metadata": {},
   "outputs": [
    {
     "data": {
      "text/plain": [
       "array([(1., 2.), (3., 4.)], dtype=[('a', '<f8'), ('b', '<f4')])"
      ]
     },
     "execution_count": 198,
     "metadata": {},
     "output_type": "execute_result"
    }
   ],
   "source": [
    "data['x']"
   ]
  },
  {
   "cell_type": "code",
   "execution_count": 199,
   "metadata": {},
   "outputs": [
    {
     "data": {
      "text/plain": [
       "array([5, 6], dtype=int32)"
      ]
     },
     "execution_count": 199,
     "metadata": {},
     "output_type": "execute_result"
    }
   ],
   "source": [
    "data['y']"
   ]
  },
  {
   "cell_type": "markdown",
   "metadata": {},
   "source": [
    "### 数组排序"
   ]
  },
  {
   "cell_type": "code",
   "execution_count": 200,
   "metadata": {},
   "outputs": [],
   "source": [
    "arr = np.random.randn(6)"
   ]
  },
  {
   "cell_type": "code",
   "execution_count": 201,
   "metadata": {},
   "outputs": [
    {
     "data": {
      "text/plain": [
       "array([-0.94081852,  0.34049241,  0.28475865, -1.28492955, -0.11694657,\n",
       "        0.5735146 ])"
      ]
     },
     "execution_count": 201,
     "metadata": {},
     "output_type": "execute_result"
    }
   ],
   "source": [
    "arr"
   ]
  },
  {
   "cell_type": "code",
   "execution_count": 204,
   "metadata": {},
   "outputs": [],
   "source": [
    "#inplace sort\n",
    "arr.sort()"
   ]
  },
  {
   "cell_type": "code",
   "execution_count": 205,
   "metadata": {},
   "outputs": [
    {
     "data": {
      "text/plain": [
       "array([-1.28492955, -0.94081852, -0.11694657,  0.28475865,  0.34049241,\n",
       "        0.5735146 ])"
      ]
     },
     "execution_count": 205,
     "metadata": {},
     "output_type": "execute_result"
    }
   ],
   "source": [
    "arr"
   ]
  },
  {
   "cell_type": "code",
   "execution_count": 214,
   "metadata": {},
   "outputs": [
    {
     "name": "stdout",
     "output_type": "stream",
     "text": [
      "[[ 0.14617944 -1.33583336 -0.52761219 -0.3499025  -0.74057631]\n",
      " [ 0.81289131  1.47274876  1.43594851 -1.13274329  0.93751369]\n",
      " [-0.89498026  0.35595642 -0.58033673  1.1295538  -1.35060811]]\n"
     ]
    }
   ],
   "source": [
    "#注意排序是 in-place的\n",
    "arr = np.random.randn(3, 5)\n",
    "print(arr)\n",
    "#arr[:, 0]这是view,因而会改变原数组\n",
    "arr[:, 0].sort()"
   ]
  },
  {
   "cell_type": "code",
   "execution_count": 215,
   "metadata": {},
   "outputs": [
    {
     "data": {
      "text/plain": [
       "array([[-0.89498026, -1.33583336, -0.52761219, -0.3499025 , -0.74057631],\n",
       "       [ 0.14617944,  1.47274876,  1.43594851, -1.13274329,  0.93751369],\n",
       "       [ 0.81289131,  0.35595642, -0.58033673,  1.1295538 , -1.35060811]])"
      ]
     },
     "execution_count": 215,
     "metadata": {},
     "output_type": "execute_result"
    }
   ],
   "source": [
    "arr"
   ]
  },
  {
   "cell_type": "markdown",
   "metadata": {},
   "source": [
    "#### 与arr.sort()不同, np.sort返回copy"
   ]
  },
  {
   "cell_type": "code",
   "execution_count": 216,
   "metadata": {},
   "outputs": [],
   "source": [
    "arr = np.random.randn(5)"
   ]
  },
  {
   "cell_type": "code",
   "execution_count": 217,
   "metadata": {},
   "outputs": [
    {
     "data": {
      "text/plain": [
       "array([-0.0930514 , -0.36358344,  0.02492301,  1.20568625,  0.20781697])"
      ]
     },
     "execution_count": 217,
     "metadata": {},
     "output_type": "execute_result"
    }
   ],
   "source": [
    "arr"
   ]
  },
  {
   "cell_type": "code",
   "execution_count": 218,
   "metadata": {},
   "outputs": [
    {
     "data": {
      "text/plain": [
       "array([-0.36358344, -0.0930514 ,  0.02492301,  0.20781697,  1.20568625])"
      ]
     },
     "execution_count": 218,
     "metadata": {},
     "output_type": "execute_result"
    }
   ],
   "source": [
    "np.sort(arr)"
   ]
  },
  {
   "cell_type": "code",
   "execution_count": 219,
   "metadata": {},
   "outputs": [],
   "source": [
    "#上面的两种sort函数都可以传递axis\n",
    "arr = np.random.randn(3, 5)"
   ]
  },
  {
   "cell_type": "code",
   "execution_count": 220,
   "metadata": {},
   "outputs": [
    {
     "data": {
      "text/plain": [
       "array([[-0.18670167, -0.0155297 , -0.74630543, -0.52168106, -1.94763642],\n",
       "       [-0.99297076, -0.46536017, -1.30190459,  0.42981291, -0.49313265],\n",
       "       [ 0.35163803, -1.09103965,  0.41796421, -0.56048864, -0.94452473]])"
      ]
     },
     "execution_count": 220,
     "metadata": {},
     "output_type": "execute_result"
    }
   ],
   "source": [
    "arr"
   ]
  },
  {
   "cell_type": "code",
   "execution_count": 221,
   "metadata": {},
   "outputs": [
    {
     "data": {
      "text/plain": [
       "array([[-1.94763642, -0.74630543, -0.52168106, -0.18670167, -0.0155297 ],\n",
       "       [-1.30190459, -0.99297076, -0.49313265, -0.46536017,  0.42981291],\n",
       "       [-1.09103965, -0.94452473, -0.56048864,  0.35163803,  0.41796421]])"
      ]
     },
     "execution_count": 221,
     "metadata": {},
     "output_type": "execute_result"
    }
   ],
   "source": [
    "#按列排序\n",
    "np.sort(arr, axis = 1)"
   ]
  },
  {
   "cell_type": "code",
   "execution_count": 223,
   "metadata": {},
   "outputs": [
    {
     "data": {
      "text/plain": [
       "array([[-0.99297076, -1.09103965, -1.30190459, -0.56048864, -1.94763642],\n",
       "       [-0.18670167, -0.46536017, -0.74630543, -0.52168106, -0.94452473],\n",
       "       [ 0.35163803, -0.0155297 ,  0.41796421,  0.42981291, -0.49313265]])"
      ]
     },
     "execution_count": 223,
     "metadata": {},
     "output_type": "execute_result"
    }
   ],
   "source": [
    "#按行排序\n",
    "np.sort(arr, axis = 0)"
   ]
  },
  {
   "cell_type": "markdown",
   "metadata": {},
   "source": [
    "#### 注意上面的排序都只产生升序序列, 在实际中 用[::-1]来得到数组的逆序"
   ]
  },
  {
   "cell_type": "code",
   "execution_count": 224,
   "metadata": {},
   "outputs": [
    {
     "data": {
      "text/plain": [
       "array([[-0.18670167, -0.0155297 , -0.74630543, -0.52168106, -1.94763642],\n",
       "       [-0.99297076, -0.46536017, -1.30190459,  0.42981291, -0.49313265],\n",
       "       [ 0.35163803, -1.09103965,  0.41796421, -0.56048864, -0.94452473]])"
      ]
     },
     "execution_count": 224,
     "metadata": {},
     "output_type": "execute_result"
    }
   ],
   "source": [
    "arr"
   ]
  },
  {
   "cell_type": "code",
   "execution_count": 225,
   "metadata": {},
   "outputs": [
    {
     "data": {
      "text/plain": [
       "array([[-1.94763642, -0.52168106, -0.74630543, -0.0155297 , -0.18670167],\n",
       "       [-0.49313265,  0.42981291, -1.30190459, -0.46536017, -0.99297076],\n",
       "       [-0.94452473, -0.56048864,  0.41796421, -1.09103965,  0.35163803]])"
      ]
     },
     "execution_count": 225,
     "metadata": {},
     "output_type": "execute_result"
    }
   ],
   "source": [
    "arr[:, ::-1]"
   ]
  },
  {
   "cell_type": "markdown",
   "metadata": {},
   "source": [
    "#### 间接排序 argsort lexsort"
   ]
  },
  {
   "cell_type": "code",
   "execution_count": 226,
   "metadata": {},
   "outputs": [],
   "source": [
    "values = np.array([5, 0, 1, 3, 2])\n",
    "indexer = values.argsort()"
   ]
  },
  {
   "cell_type": "code",
   "execution_count": 227,
   "metadata": {},
   "outputs": [
    {
     "data": {
      "text/plain": [
       "array([1, 2, 4, 3, 0])"
      ]
     },
     "execution_count": 227,
     "metadata": {},
     "output_type": "execute_result"
    }
   ],
   "source": [
    "indexer"
   ]
  },
  {
   "cell_type": "code",
   "execution_count": 228,
   "metadata": {},
   "outputs": [
    {
     "data": {
      "text/plain": [
       "array([0, 1, 2, 3, 5])"
      ]
     },
     "execution_count": 228,
     "metadata": {},
     "output_type": "execute_result"
    }
   ],
   "source": [
    "values.take(indexer)"
   ]
  },
  {
   "cell_type": "code",
   "execution_count": 233,
   "metadata": {},
   "outputs": [],
   "source": [
    "##argsort用于二维数组"
   ]
  },
  {
   "cell_type": "code",
   "execution_count": 229,
   "metadata": {},
   "outputs": [],
   "source": [
    "arr = np.random.randn(3, 5)\n",
    "arr[0] = values"
   ]
  },
  {
   "cell_type": "code",
   "execution_count": 230,
   "metadata": {},
   "outputs": [
    {
     "data": {
      "text/plain": [
       "array([[ 5.        ,  0.        ,  1.        ,  3.        ,  2.        ],\n",
       "       [-0.89456983,  0.1434465 , -0.10867673,  0.27256812,  0.86537811],\n",
       "       [-0.65625343, -0.71521695, -0.2810707 , -0.30994412,  2.05698238]])"
      ]
     },
     "execution_count": 230,
     "metadata": {},
     "output_type": "execute_result"
    }
   ],
   "source": [
    "arr"
   ]
  },
  {
   "cell_type": "code",
   "execution_count": 231,
   "metadata": {},
   "outputs": [
    {
     "data": {
      "text/plain": [
       "array([5., 0., 1., 3., 2.])"
      ]
     },
     "execution_count": 231,
     "metadata": {},
     "output_type": "execute_result"
    }
   ],
   "source": [
    "arr[0]"
   ]
  },
  {
   "cell_type": "code",
   "execution_count": 232,
   "metadata": {},
   "outputs": [
    {
     "data": {
      "text/plain": [
       "array([[ 0.        ,  1.        ,  2.        ,  3.        ,  5.        ],\n",
       "       [ 0.1434465 , -0.10867673,  0.86537811,  0.27256812, -0.89456983],\n",
       "       [-0.71521695, -0.2810707 ,  2.05698238, -0.30994412, -0.65625343]])"
      ]
     },
     "execution_count": 232,
     "metadata": {},
     "output_type": "execute_result"
    }
   ],
   "source": [
    "arr[:, arr[0].argsort()]"
   ]
  },
  {
   "cell_type": "code",
   "execution_count": 238,
   "metadata": {},
   "outputs": [],
   "source": [
    "#下面演示lexsort\n",
    "#lexsort执行字典排序,注意last_name是第一序!!!!"
   ]
  },
  {
   "cell_type": "code",
   "execution_count": 235,
   "metadata": {},
   "outputs": [],
   "source": [
    "first_name = np.array(['Bob', 'Jane', 'Steve', 'Bill', 'Barbara'])\n",
    "last_name = np.array(['Jones', 'Arnold', 'Arnold', 'Jones', 'Walters'])"
   ]
  },
  {
   "cell_type": "code",
   "execution_count": 236,
   "metadata": {},
   "outputs": [],
   "source": [
    "sorter = np.lexsort((first_name, last_name))"
   ]
  },
  {
   "cell_type": "code",
   "execution_count": 237,
   "metadata": {},
   "outputs": [
    {
     "data": {
      "text/plain": [
       "array([1, 2, 3, 0, 4])"
      ]
     },
     "execution_count": 237,
     "metadata": {},
     "output_type": "execute_result"
    }
   ],
   "source": [
    "sorter"
   ]
  },
  {
   "cell_type": "code",
   "execution_count": 239,
   "metadata": {},
   "outputs": [
    {
     "data": {
      "text/plain": [
       "array(['Arnold', 'Arnold', 'Jones', 'Jones', 'Walters'], dtype='<U7')"
      ]
     },
     "execution_count": 239,
     "metadata": {},
     "output_type": "execute_result"
    }
   ],
   "source": [
    "last_name[sorter]"
   ]
  },
  {
   "cell_type": "code",
   "execution_count": 240,
   "metadata": {},
   "outputs": [
    {
     "data": {
      "text/plain": [
       "array(['Jane', 'Steve', 'Bill', 'Bob', 'Barbara'], dtype='<U7')"
      ]
     },
     "execution_count": 240,
     "metadata": {},
     "output_type": "execute_result"
    }
   ],
   "source": [
    "first_name[sorter]"
   ]
  },
  {
   "cell_type": "markdown",
   "metadata": {},
   "source": [
    "#### 其他排序算法"
   ]
  },
  {
   "cell_type": "code",
   "execution_count": 241,
   "metadata": {},
   "outputs": [],
   "source": [
    "values = np.array(['2:first', '2:second', '1:first',\n",
    "                   '1:second', '1:third'])\n",
    "keys = np.array([2, 2, 1, 1, 1])"
   ]
  },
  {
   "cell_type": "code",
   "execution_count": 245,
   "metadata": {},
   "outputs": [],
   "source": [
    "#唯一的稳定的排序算法: 归并排序"
   ]
  },
  {
   "cell_type": "code",
   "execution_count": 242,
   "metadata": {},
   "outputs": [],
   "source": [
    "indexer = keys.argsort(kind = 'mergesort')"
   ]
  },
  {
   "cell_type": "code",
   "execution_count": 243,
   "metadata": {},
   "outputs": [
    {
     "data": {
      "text/plain": [
       "array([2, 3, 4, 0, 1])"
      ]
     },
     "execution_count": 243,
     "metadata": {},
     "output_type": "execute_result"
    }
   ],
   "source": [
    "indexer"
   ]
  },
  {
   "cell_type": "code",
   "execution_count": 244,
   "metadata": {},
   "outputs": [
    {
     "data": {
      "text/plain": [
       "array(['1:first', '1:second', '1:third', '2:first', '2:second'],\n",
       "      dtype='<U8')"
      ]
     },
     "execution_count": 244,
     "metadata": {},
     "output_type": "execute_result"
    }
   ],
   "source": [
    "values.take(indexer)"
   ]
  },
  {
   "cell_type": "markdown",
   "metadata": {},
   "source": [
    "#### 部分排序算法"
   ]
  },
  {
   "cell_type": "code",
   "execution_count": 246,
   "metadata": {},
   "outputs": [],
   "source": [
    "arr = np.random.randn(20)"
   ]
  },
  {
   "cell_type": "code",
   "execution_count": 247,
   "metadata": {},
   "outputs": [
    {
     "data": {
      "text/plain": [
       "array([ 0.92652057,  0.44722123,  0.2036894 ,  0.58230657, -0.44776536,\n",
       "       -0.8188305 , -0.62248695,  0.28561771,  1.9441149 , -1.10004785,\n",
       "       -0.56424707,  0.21446351,  1.82571748,  1.29800435, -0.23814031,\n",
       "        0.16192258,  1.44152247, -0.01066425,  0.8598674 , -0.37920316])"
      ]
     },
     "execution_count": 247,
     "metadata": {},
     "output_type": "execute_result"
    }
   ],
   "source": [
    "arr"
   ]
  },
  {
   "cell_type": "code",
   "execution_count": 249,
   "metadata": {},
   "outputs": [
    {
     "data": {
      "text/plain": [
       "array([-0.62248695, -0.8188305 , -1.10004785, -0.56424707, -0.44776536,\n",
       "       -0.37920316,  0.58230657,  0.28561771,  1.9441149 ,  0.44722123,\n",
       "        0.2036894 ,  0.21446351,  1.82571748,  1.29800435, -0.23814031,\n",
       "        0.16192258,  1.44152247, -0.01066425,  0.8598674 ,  0.92652057])"
      ]
     },
     "execution_count": 249,
     "metadata": {},
     "output_type": "execute_result"
    }
   ],
   "source": [
    "#返回的数组中前三个元素是top3 smallest\n",
    "np.partition(arr, 3)"
   ]
  },
  {
   "cell_type": "code",
   "execution_count": 254,
   "metadata": {},
   "outputs": [],
   "source": [
    "#返回index, 其中前三个索引是top3 smallest的索引\n",
    "index = np.argpartition(arr, 3)"
   ]
  },
  {
   "cell_type": "code",
   "execution_count": 255,
   "metadata": {},
   "outputs": [
    {
     "data": {
      "text/plain": [
       "array([ 6,  5,  9, 10,  4, 19,  3,  7,  8,  1,  2, 11, 12, 13, 14, 15, 16,\n",
       "       17, 18,  0])"
      ]
     },
     "execution_count": 255,
     "metadata": {},
     "output_type": "execute_result"
    }
   ],
   "source": [
    "index"
   ]
  },
  {
   "cell_type": "code",
   "execution_count": 256,
   "metadata": {},
   "outputs": [
    {
     "data": {
      "text/plain": [
       "array([-0.62248695, -0.8188305 , -1.10004785, -0.56424707, -0.44776536,\n",
       "       -0.37920316,  0.58230657,  0.28561771,  1.9441149 ,  0.44722123,\n",
       "        0.2036894 ,  0.21446351,  1.82571748,  1.29800435, -0.23814031,\n",
       "        0.16192258,  1.44152247, -0.01066425,  0.8598674 ,  0.92652057])"
      ]
     },
     "execution_count": 256,
     "metadata": {},
     "output_type": "execute_result"
    }
   ],
   "source": [
    "np.take(arr, index)"
   ]
  },
  {
   "cell_type": "code",
   "execution_count": 257,
   "metadata": {},
   "outputs": [],
   "source": [
    "# np.searchsorted"
   ]
  },
  {
   "cell_type": "code",
   "execution_count": 258,
   "metadata": {},
   "outputs": [],
   "source": [
    "arr = np.array([0, 1, 7, 12, 15])"
   ]
  },
  {
   "cell_type": "code",
   "execution_count": 260,
   "metadata": {},
   "outputs": [
    {
     "data": {
      "text/plain": [
       "2"
      ]
     },
     "execution_count": 260,
     "metadata": {},
     "output_type": "execute_result"
    }
   ],
   "source": [
    "#顾名思义, 此方法在一个已经排序的数组上\n",
    "#执行二分搜索, 返回被搜索元素的下标\n",
    "arr.searchsorted(7)"
   ]
  },
  {
   "cell_type": "code",
   "execution_count": 261,
   "metadata": {},
   "outputs": [],
   "source": [
    "arr = np.array([0,0,0,1,1,1,1])"
   ]
  },
  {
   "cell_type": "code",
   "execution_count": 263,
   "metadata": {},
   "outputs": [
    {
     "data": {
      "text/plain": [
       "array([0, 3])"
      ]
     },
     "execution_count": 263,
     "metadata": {},
     "output_type": "execute_result"
    }
   ],
   "source": [
    "#返回左起第一个匹配的元素的下标\n",
    "arr.searchsorted([0, 1])"
   ]
  },
  {
   "cell_type": "code",
   "execution_count": 264,
   "metadata": {},
   "outputs": [
    {
     "data": {
      "text/plain": [
       "array([3, 7])"
      ]
     },
     "execution_count": 264,
     "metadata": {},
     "output_type": "execute_result"
    }
   ],
   "source": [
    "#你也可以改变匹配策略\n",
    "arr.searchsorted([0, 1], side = 'right')"
   ]
  },
  {
   "cell_type": "code",
   "execution_count": 273,
   "metadata": {},
   "outputs": [],
   "source": [
    "#一个简单的例子\n",
    "#这个用法要牢记！！！"
   ]
  },
  {
   "cell_type": "code",
   "execution_count": 268,
   "metadata": {},
   "outputs": [],
   "source": [
    "data = np.floor(np.random.uniform(0, 10000, size = 50))"
   ]
  },
  {
   "cell_type": "code",
   "execution_count": 269,
   "metadata": {},
   "outputs": [
    {
     "data": {
      "text/plain": [
       "array([2877., 7349., 4782., 9269.,  388., 6024.,  977., 7085., 2368.,\n",
       "       2405., 1869., 6930., 6549., 1394., 5041., 2459., 8893., 1952.,\n",
       "       6484., 4525., 7604., 9988.,   74., 4010., 5005., 1903., 9651.,\n",
       "       5161., 9744., 6802., 3043., 7187., 3258.,  693., 3293.,  284.,\n",
       "       4751., 3673., 7120., 4640., 6006., 7446., 3249., 9279., 6793.,\n",
       "        798., 3291., 4643., 2476., 5324.])"
      ]
     },
     "execution_count": 269,
     "metadata": {},
     "output_type": "execute_result"
    }
   ],
   "source": [
    "data"
   ]
  },
  {
   "cell_type": "code",
   "execution_count": 270,
   "metadata": {},
   "outputs": [],
   "source": [
    "bins = np.array([0, 100, 1000, 5000, 10000])"
   ]
  },
  {
   "cell_type": "code",
   "execution_count": 276,
   "metadata": {},
   "outputs": [],
   "source": [
    "#返回值 3意味着, 2877 在 1000到5000之间\n",
    "labels = bins.searchsorted(data)"
   ]
  },
  {
   "cell_type": "code",
   "execution_count": 277,
   "metadata": {},
   "outputs": [
    {
     "data": {
      "text/plain": [
       "array([3, 4, 3, 4, 2, 4, 2, 4, 3, 3, 3, 4, 4, 3, 4, 3, 4, 3, 4, 3, 4, 4,\n",
       "       1, 3, 4, 3, 4, 4, 4, 4, 3, 4, 3, 2, 3, 2, 3, 3, 4, 3, 4, 4, 3, 4,\n",
       "       4, 2, 3, 3, 3, 4])"
      ]
     },
     "execution_count": 277,
     "metadata": {},
     "output_type": "execute_result"
    }
   ],
   "source": [
    "labels"
   ]
  },
  {
   "cell_type": "code",
   "execution_count": 278,
   "metadata": {},
   "outputs": [
    {
     "data": {
      "text/plain": [
       "1      74.000000\n",
       "2     628.000000\n",
       "3    3183.857143\n",
       "4    7249.304348\n",
       "dtype: float64"
      ]
     },
     "execution_count": 278,
     "metadata": {},
     "output_type": "execute_result"
    }
   ],
   "source": [
    "import pandas as pd\n",
    "pd.Series(data).groupby(labels).mean()"
   ]
  },
  {
   "cell_type": "markdown",
   "metadata": {},
   "source": [
    "### 数组输入输出"
   ]
  },
  {
   "cell_type": "code",
   "execution_count": 279,
   "metadata": {},
   "outputs": [],
   "source": [
    "#memory-mapped files"
   ]
  },
  {
   "cell_type": "code",
   "execution_count": 282,
   "metadata": {},
   "outputs": [],
   "source": [
    "#create a new memory map\n",
    "mmap = np.memmap('mymap', dtype = np.float64,\n",
    "                 mode = 'w+', shape = (10000, 10000))"
   ]
  },
  {
   "cell_type": "code",
   "execution_count": 283,
   "metadata": {},
   "outputs": [
    {
     "data": {
      "text/plain": [
       "memmap([[0., 0., 0., ..., 0., 0., 0.],\n",
       "        [0., 0., 0., ..., 0., 0., 0.],\n",
       "        [0., 0., 0., ..., 0., 0., 0.],\n",
       "        ...,\n",
       "        [0., 0., 0., ..., 0., 0., 0.],\n",
       "        [0., 0., 0., ..., 0., 0., 0.],\n",
       "        [0., 0., 0., ..., 0., 0., 0.]])"
      ]
     },
     "execution_count": 283,
     "metadata": {},
     "output_type": "execute_result"
    }
   ],
   "source": [
    "mmap"
   ]
  },
  {
   "cell_type": "code",
   "execution_count": 284,
   "metadata": {},
   "outputs": [],
   "source": [
    "#切片 memmap返回一个view on disk\n",
    "section = mmap[:5, :]"
   ]
  },
  {
   "cell_type": "code",
   "execution_count": 285,
   "metadata": {},
   "outputs": [
    {
     "data": {
      "text/plain": [
       "memmap([[0., 0., 0., ..., 0., 0., 0.],\n",
       "        [0., 0., 0., ..., 0., 0., 0.],\n",
       "        [0., 0., 0., ..., 0., 0., 0.],\n",
       "        [0., 0., 0., ..., 0., 0., 0.],\n",
       "        [0., 0., 0., ..., 0., 0., 0.]])"
      ]
     },
     "execution_count": 285,
     "metadata": {},
     "output_type": "execute_result"
    }
   ],
   "source": [
    "section"
   ]
  },
  {
   "cell_type": "code",
   "execution_count": 286,
   "metadata": {},
   "outputs": [],
   "source": [
    "#对这个view写入会buffered到memory里\n",
    "section[:] = np.random.randn(5, 10000)"
   ]
  },
  {
   "cell_type": "code",
   "execution_count": 287,
   "metadata": {},
   "outputs": [],
   "source": [
    "#通过flush操作, 写入磁盘中"
   ]
  },
  {
   "cell_type": "code",
   "execution_count": 290,
   "metadata": {},
   "outputs": [],
   "source": [
    "mmap.flush()"
   ]
  },
  {
   "cell_type": "code",
   "execution_count": 292,
   "metadata": {},
   "outputs": [],
   "source": [
    "del mmap"
   ]
  },
  {
   "cell_type": "code",
   "execution_count": null,
   "metadata": {},
   "outputs": [],
   "source": []
  }
 ],
 "metadata": {
  "kernelspec": {
   "display_name": "Python 3",
   "language": "python",
   "name": "python3"
  },
  "language_info": {
   "codemirror_mode": {
    "name": "ipython",
    "version": 3
   },
   "file_extension": ".py",
   "mimetype": "text/x-python",
   "name": "python",
   "nbconvert_exporter": "python",
   "pygments_lexer": "ipython3",
   "version": "3.6.7"
  },
  "toc": {
   "base_numbering": 1,
   "nav_menu": {},
   "number_sections": true,
   "sideBar": true,
   "skip_h1_title": false,
   "title_cell": "Table of Contents",
   "title_sidebar": "Contents",
   "toc_cell": false,
   "toc_position": {},
   "toc_section_display": true,
   "toc_window_display": false
  }
 },
 "nbformat": 4,
 "nbformat_minor": 2
}
