{
 "cells": [
  {
   "cell_type": "code",
   "execution_count": 1,
   "metadata": {
    "ExecuteTime": {
     "end_time": "2019-04-23T05:44:26.323633Z",
     "start_time": "2019-04-23T05:44:24.003573Z"
    }
   },
   "outputs": [],
   "source": [
    "import pandas as pd\n",
    "import numpy as np"
   ]
  },
  {
   "cell_type": "markdown",
   "metadata": {},
   "source": [
    "### 类别数据"
   ]
  },
  {
   "cell_type": "markdown",
   "metadata": {},
   "source": [
    "![tupian](img/categorical_methods.png)"
   ]
  },
  {
   "cell_type": "markdown",
   "metadata": {},
   "source": [
    "#### 类别数据基础\n",
    "类别数据的元素是不可变类型"
   ]
  },
  {
   "cell_type": "code",
   "execution_count": 3,
   "metadata": {
    "ExecuteTime": {
     "end_time": "2019-04-21T11:55:08.053455Z",
     "start_time": "2019-04-21T11:55:07.943653Z"
    }
   },
   "outputs": [],
   "source": [
    "fruits = ['apple', 'orange', 'apple', 'orange'] * 2\n",
    "N = len(fruits)\n",
    "df = pd.DataFrame({\n",
    "    'fruit':fruits,\n",
    "    'basket_id': np.arange(N),\n",
    "    'count': np.random.randint(3, 16, size = N),\n",
    "    'weight': np.random.uniform(0, 4, size = N)\n",
    "})"
   ]
  },
  {
   "cell_type": "code",
   "execution_count": 5,
   "metadata": {
    "ExecuteTime": {
     "end_time": "2019-04-21T11:55:16.439937Z",
     "start_time": "2019-04-21T11:55:16.430413Z"
    }
   },
   "outputs": [
    {
     "data": {
      "text/html": [
       "<div>\n",
       "<style scoped>\n",
       "    .dataframe tbody tr th:only-of-type {\n",
       "        vertical-align: middle;\n",
       "    }\n",
       "\n",
       "    .dataframe tbody tr th {\n",
       "        vertical-align: top;\n",
       "    }\n",
       "\n",
       "    .dataframe thead th {\n",
       "        text-align: right;\n",
       "    }\n",
       "</style>\n",
       "<table border=\"1\" class=\"dataframe\">\n",
       "  <thead>\n",
       "    <tr style=\"text-align: right;\">\n",
       "      <th></th>\n",
       "      <th>fruit</th>\n",
       "      <th>basket_id</th>\n",
       "      <th>count</th>\n",
       "      <th>weight</th>\n",
       "    </tr>\n",
       "  </thead>\n",
       "  <tbody>\n",
       "    <tr>\n",
       "      <th>0</th>\n",
       "      <td>apple</td>\n",
       "      <td>0</td>\n",
       "      <td>9</td>\n",
       "      <td>1.253358</td>\n",
       "    </tr>\n",
       "    <tr>\n",
       "      <th>1</th>\n",
       "      <td>orange</td>\n",
       "      <td>1</td>\n",
       "      <td>13</td>\n",
       "      <td>2.147703</td>\n",
       "    </tr>\n",
       "    <tr>\n",
       "      <th>2</th>\n",
       "      <td>apple</td>\n",
       "      <td>2</td>\n",
       "      <td>7</td>\n",
       "      <td>3.861117</td>\n",
       "    </tr>\n",
       "    <tr>\n",
       "      <th>3</th>\n",
       "      <td>orange</td>\n",
       "      <td>3</td>\n",
       "      <td>8</td>\n",
       "      <td>1.910231</td>\n",
       "    </tr>\n",
       "    <tr>\n",
       "      <th>4</th>\n",
       "      <td>apple</td>\n",
       "      <td>4</td>\n",
       "      <td>8</td>\n",
       "      <td>0.907262</td>\n",
       "    </tr>\n",
       "    <tr>\n",
       "      <th>5</th>\n",
       "      <td>orange</td>\n",
       "      <td>5</td>\n",
       "      <td>14</td>\n",
       "      <td>3.718478</td>\n",
       "    </tr>\n",
       "    <tr>\n",
       "      <th>6</th>\n",
       "      <td>apple</td>\n",
       "      <td>6</td>\n",
       "      <td>4</td>\n",
       "      <td>0.797509</td>\n",
       "    </tr>\n",
       "    <tr>\n",
       "      <th>7</th>\n",
       "      <td>orange</td>\n",
       "      <td>7</td>\n",
       "      <td>9</td>\n",
       "      <td>0.391720</td>\n",
       "    </tr>\n",
       "  </tbody>\n",
       "</table>\n",
       "</div>"
      ],
      "text/plain": [
       "    fruit  basket_id  count    weight\n",
       "0   apple          0      9  1.253358\n",
       "1  orange          1     13  2.147703\n",
       "2   apple          2      7  3.861117\n",
       "3  orange          3      8  1.910231\n",
       "4   apple          4      8  0.907262\n",
       "5  orange          5     14  3.718478\n",
       "6   apple          6      4  0.797509\n",
       "7  orange          7      9  0.391720"
      ]
     },
     "execution_count": 5,
     "metadata": {},
     "output_type": "execute_result"
    }
   ],
   "source": [
    "df"
   ]
  },
  {
   "cell_type": "markdown",
   "metadata": {},
   "source": [
    "###### convert to categorical"
   ]
  },
  {
   "cell_type": "code",
   "execution_count": 14,
   "metadata": {
    "ExecuteTime": {
     "end_time": "2019-04-21T12:03:41.259659Z",
     "start_time": "2019-04-21T12:03:41.252118Z"
    }
   },
   "outputs": [
    {
     "name": "stdout",
     "output_type": "stream",
     "text": [
      "0     apple\n",
      "1    orange\n",
      "2     apple\n",
      "3    orange\n",
      "4     apple\n",
      "5    orange\n",
      "6     apple\n",
      "7    orange\n",
      "Name: fruit, dtype: category\n",
      "Categories (2, object): [apple, orange]\n",
      "[foo, bar, baz, foo]\n",
      "Categories (3, object): [bar, baz, foo]\n"
     ]
    }
   ],
   "source": [
    "fruit_cat = df['fruit'].astype('category')\n",
    "print(fruit_cat)\n",
    "#你也可用pd.Categorical\n",
    "my_categorical = pd.Categorical(['foo', 'bar', 'baz', 'foo'])\n",
    "print(my_categorical)"
   ]
  },
  {
   "cell_type": "code",
   "execution_count": 20,
   "metadata": {
    "ExecuteTime": {
     "end_time": "2019-04-21T12:15:16.158262Z",
     "start_time": "2019-04-21T12:15:16.151275Z"
    }
   },
   "outputs": [
    {
     "name": "stdout",
     "output_type": "stream",
     "text": [
      "<class 'pandas.core.arrays.categorical.Categorical'>\n",
      "[apple, orange, apple, orange, apple, orange, apple, orange]\n",
      "Categories (2, object): [apple, orange]\n",
      "Index(['apple', 'orange'], dtype='object')\n",
      "[0 1 0 1 0 1 0 1]\n"
     ]
    }
   ],
   "source": [
    "#categorical对象的属性\n",
    "c = fruit_cat.values\n",
    "print(type(c))\n",
    "print(c)\n",
    "print(c.categories)\n",
    "print(c.codes)"
   ]
  },
  {
   "cell_type": "markdown",
   "metadata": {},
   "source": [
    "###### 从categories和codes中恢复数据"
   ]
  },
  {
   "cell_type": "code",
   "execution_count": 18,
   "metadata": {
    "ExecuteTime": {
     "end_time": "2019-04-21T12:09:31.233221Z",
     "start_time": "2019-04-21T12:09:31.222594Z"
    }
   },
   "outputs": [
    {
     "name": "stdout",
     "output_type": "stream",
     "text": [
      "[foo, bar, baz, foo, foo, bar]\n",
      "Categories (3, object): [foo < bar < baz]\n"
     ]
    },
    {
     "data": {
      "text/plain": [
       "[foo, bar, baz, foo]\n",
       "Categories (3, object): [bar < baz < foo]"
      ]
     },
     "execution_count": 18,
     "metadata": {},
     "output_type": "execute_result"
    }
   ],
   "source": [
    "categories = ['foo', 'bar', 'baz']\n",
    "codes = [0, 1, 2, 0, 0, 1]\n",
    "#用pd.Categorical.from_codes, 通过ordered参数决定是否有顺序\n",
    "print(pd.Categorical.from_codes(codes, categories, ordered=True))\n",
    "#你可以为没有顺序的categorical增加顺序\n",
    "my_categorical.as_ordered()"
   ]
  },
  {
   "cell_type": "markdown",
   "metadata": {},
   "source": [
    "#### 用类别数据计算"
   ]
  },
  {
   "cell_type": "code",
   "execution_count": 28,
   "metadata": {
    "ExecuteTime": {
     "end_time": "2019-04-21T12:28:43.149343Z",
     "start_time": "2019-04-21T12:28:43.127042Z"
    }
   },
   "outputs": [
    {
     "name": "stdout",
     "output_type": "stream",
     "text": [
      "[1 2 1 1 3]\n",
      "[Q2, Q3, Q2, Q2, Q4, ..., Q3, Q2, Q1, Q3, Q4]\n",
      "Length: 1000\n",
      "Categories (4, object): [Q1 < Q2 < Q3 < Q4]\n",
      "  quartile  count       max       min\n",
      "0       Q1    250 -0.685484 -2.949343\n",
      "1       Q2    250 -0.010115 -0.683066\n",
      "2       Q3    250  0.628894 -0.010032\n",
      "3       Q4    250  3.927528  0.634238\n",
      "0    Q1\n",
      "1    Q2\n",
      "2    Q3\n",
      "3    Q4\n",
      "Name: quartile, dtype: category\n",
      "Categories (4, object): [Q1 < Q2 < Q3 < Q4]\n"
     ]
    }
   ],
   "source": [
    "np.random.seed(12345)\n",
    "draws = np.random.randn(1000)\n",
    "bins = pd.qcut(x=draws, q=4, labels=['Q1', 'Q2', 'Q3', 'Q4'])\n",
    "print(bins.codes[:5])\n",
    "print(bins)\n",
    "\n",
    "#use categorical with groupby\n",
    "bins = pd.Series(bins, name='quartile')\n",
    "results = (pd.Series(draws)\n",
    "          .groupby(bins)\n",
    "          .agg(['count', 'max', 'min'])\n",
    "          .reset_index())\n",
    "print(results)\n",
    "\n",
    "print(results['quartile'])"
   ]
  },
  {
   "cell_type": "code",
   "execution_count": 34,
   "metadata": {
    "ExecuteTime": {
     "end_time": "2019-04-21T12:34:24.447955Z",
     "start_time": "2019-04-21T12:34:23.032598Z"
    }
   },
   "outputs": [
    {
     "name": "stdout",
     "output_type": "stream",
     "text": [
      "80000080\n",
      "10000272\n"
     ]
    }
   ],
   "source": [
    "#categorical的两个好处:\n",
    "#1.性能提升, groupby操作用到categorical上会更快\n",
    "#2.更少的内存\n",
    "N = int(10e6)\n",
    "draws = pd.Series(np.random.randn(N))\n",
    "labels = pd.Series(['foo', 'bar', 'baz', 'qux'] * (N // 4))\n",
    "categories = labels.astype('category')\n",
    "#查看转换前后的内存占用\n",
    "print(labels.memory_usage())\n",
    "print(categories.memory_usage())"
   ]
  },
  {
   "cell_type": "code",
   "execution_count": 35,
   "metadata": {
    "ExecuteTime": {
     "end_time": "2019-04-21T12:35:38.715199Z",
     "start_time": "2019-04-21T12:35:38.182624Z"
    }
   },
   "outputs": [
    {
     "name": "stdout",
     "output_type": "stream",
     "text": [
      "CPU times: user 385 ms, sys: 145 ms, total: 530 ms\n",
      "Wall time: 528 ms\n"
     ]
    }
   ],
   "source": [
    "#当然转换的过程耗时\n",
    "%time _ = labels.astype('category')"
   ]
  },
  {
   "cell_type": "markdown",
   "metadata": {},
   "source": [
    "#### 一些其他操作"
   ]
  },
  {
   "cell_type": "code",
   "execution_count": 37,
   "metadata": {
    "ExecuteTime": {
     "end_time": "2019-04-21T12:41:17.616441Z",
     "start_time": "2019-04-21T12:41:17.609511Z"
    }
   },
   "outputs": [
    {
     "name": "stdout",
     "output_type": "stream",
     "text": [
      "0    a\n",
      "1    b\n",
      "2    c\n",
      "3    d\n",
      "4    a\n",
      "5    b\n",
      "6    c\n",
      "7    d\n",
      "dtype: category\n",
      "Categories (4, object): [a, b, c, d]\n"
     ]
    }
   ],
   "source": [
    "s = pd.Series(list('abcd') * 2)\n",
    "cats_s = s.astype('category')\n",
    "print(cats_s)"
   ]
  },
  {
   "cell_type": "code",
   "execution_count": 39,
   "metadata": {
    "ExecuteTime": {
     "end_time": "2019-04-21T12:42:11.109967Z",
     "start_time": "2019-04-21T12:42:11.104130Z"
    }
   },
   "outputs": [
    {
     "name": "stdout",
     "output_type": "stream",
     "text": [
      "0    0\n",
      "1    1\n",
      "2    2\n",
      "3    3\n",
      "4    0\n",
      "5    1\n",
      "6    2\n",
      "7    3\n",
      "dtype: int8\n",
      "Index(['a', 'b', 'c', 'd'], dtype='object')\n"
     ]
    }
   ],
   "source": [
    "print(cats_s.cat.codes)\n",
    "print(cats_s.cat.categories)"
   ]
  },
  {
   "cell_type": "code",
   "execution_count": 40,
   "metadata": {
    "ExecuteTime": {
     "end_time": "2019-04-21T12:47:05.345043Z",
     "start_time": "2019-04-21T12:47:05.334527Z"
    }
   },
   "outputs": [
    {
     "name": "stdout",
     "output_type": "stream",
     "text": [
      "d    2\n",
      "c    2\n",
      "b    2\n",
      "a    2\n",
      "dtype: int64\n",
      "d    2\n",
      "c    2\n",
      "b    2\n",
      "a    2\n",
      "e    0\n",
      "dtype: int64\n"
     ]
    }
   ],
   "source": [
    "#扩展categorical\n",
    "actual_categories = list('abcde')\n",
    "cats_s2 = cats_s.cat.set_categories(actual_categories)\n",
    "print(cats_s.value_counts())\n",
    "print(cats_s2.value_counts())"
   ]
  },
  {
   "cell_type": "code",
   "execution_count": 41,
   "metadata": {
    "ExecuteTime": {
     "end_time": "2019-04-21T12:48:43.621551Z",
     "start_time": "2019-04-21T12:48:43.610842Z"
    }
   },
   "outputs": [
    {
     "data": {
      "text/plain": [
       "0    a\n",
       "1    b\n",
       "4    a\n",
       "5    b\n",
       "dtype: category\n",
       "Categories (2, object): [a, b]"
      ]
     },
     "execution_count": 41,
     "metadata": {},
     "output_type": "execute_result"
    }
   ],
   "source": [
    "#缩小categorical\n",
    "cats_s3 = cats_s[cats_s.isin(['a', 'b'])]\n",
    "cats_s3.cat.remove_unused_categories()"
   ]
  },
  {
   "cell_type": "markdown",
   "metadata": {},
   "source": [
    "#### to dummies"
   ]
  },
  {
   "cell_type": "code",
   "execution_count": 45,
   "metadata": {
    "ExecuteTime": {
     "end_time": "2019-04-21T12:59:55.449187Z",
     "start_time": "2019-04-21T12:59:55.431730Z"
    }
   },
   "outputs": [
    {
     "data": {
      "text/html": [
       "<div>\n",
       "<style scoped>\n",
       "    .dataframe tbody tr th:only-of-type {\n",
       "        vertical-align: middle;\n",
       "    }\n",
       "\n",
       "    .dataframe tbody tr th {\n",
       "        vertical-align: top;\n",
       "    }\n",
       "\n",
       "    .dataframe thead th {\n",
       "        text-align: right;\n",
       "    }\n",
       "</style>\n",
       "<table border=\"1\" class=\"dataframe\">\n",
       "  <thead>\n",
       "    <tr style=\"text-align: right;\">\n",
       "      <th></th>\n",
       "      <th>a</th>\n",
       "      <th>b</th>\n",
       "      <th>c</th>\n",
       "      <th>d</th>\n",
       "    </tr>\n",
       "  </thead>\n",
       "  <tbody>\n",
       "    <tr>\n",
       "      <th>0</th>\n",
       "      <td>1</td>\n",
       "      <td>0</td>\n",
       "      <td>0</td>\n",
       "      <td>0</td>\n",
       "    </tr>\n",
       "    <tr>\n",
       "      <th>1</th>\n",
       "      <td>0</td>\n",
       "      <td>1</td>\n",
       "      <td>0</td>\n",
       "      <td>0</td>\n",
       "    </tr>\n",
       "    <tr>\n",
       "      <th>2</th>\n",
       "      <td>0</td>\n",
       "      <td>0</td>\n",
       "      <td>1</td>\n",
       "      <td>0</td>\n",
       "    </tr>\n",
       "    <tr>\n",
       "      <th>3</th>\n",
       "      <td>0</td>\n",
       "      <td>0</td>\n",
       "      <td>0</td>\n",
       "      <td>1</td>\n",
       "    </tr>\n",
       "    <tr>\n",
       "      <th>4</th>\n",
       "      <td>1</td>\n",
       "      <td>0</td>\n",
       "      <td>0</td>\n",
       "      <td>0</td>\n",
       "    </tr>\n",
       "    <tr>\n",
       "      <th>5</th>\n",
       "      <td>0</td>\n",
       "      <td>1</td>\n",
       "      <td>0</td>\n",
       "      <td>0</td>\n",
       "    </tr>\n",
       "    <tr>\n",
       "      <th>6</th>\n",
       "      <td>0</td>\n",
       "      <td>0</td>\n",
       "      <td>1</td>\n",
       "      <td>0</td>\n",
       "    </tr>\n",
       "    <tr>\n",
       "      <th>7</th>\n",
       "      <td>0</td>\n",
       "      <td>0</td>\n",
       "      <td>0</td>\n",
       "      <td>1</td>\n",
       "    </tr>\n",
       "  </tbody>\n",
       "</table>\n",
       "</div>"
      ],
      "text/plain": [
       "   a  b  c  d\n",
       "0  1  0  0  0\n",
       "1  0  1  0  0\n",
       "2  0  0  1  0\n",
       "3  0  0  0  1\n",
       "4  1  0  0  0\n",
       "5  0  1  0  0\n",
       "6  0  0  1  0\n",
       "7  0  0  0  1"
      ]
     },
     "execution_count": 45,
     "metadata": {},
     "output_type": "execute_result"
    }
   ],
   "source": [
    "pd.get_dummies(cats_s)"
   ]
  },
  {
   "cell_type": "markdown",
   "metadata": {},
   "source": [
    "### assign and chaining methods"
   ]
  },
  {
   "cell_type": "code",
   "execution_count": 2,
   "metadata": {
    "ExecuteTime": {
     "end_time": "2019-04-23T06:19:15.207339Z",
     "start_time": "2019-04-23T06:19:15.071364Z"
    }
   },
   "outputs": [],
   "source": [
    "#我们用之前的例子\n",
    "fruits = ['apple', 'orange', 'apple', 'orange'] * 2\n",
    "N = len(fruits)\n",
    "df = pd.DataFrame({\n",
    "    'fruit':fruits,\n",
    "    'basket_id': np.arange(N),\n",
    "    'count': np.random.randint(3, 16, size = N),\n",
    "    'weight': np.random.uniform(0, 4, size = N)\n",
    "})"
   ]
  },
  {
   "cell_type": "code",
   "execution_count": 4,
   "metadata": {
    "ExecuteTime": {
     "end_time": "2019-04-23T06:19:41.114596Z",
     "start_time": "2019-04-23T06:19:41.097300Z"
    }
   },
   "outputs": [
    {
     "data": {
      "text/html": [
       "<div>\n",
       "<style scoped>\n",
       "    .dataframe tbody tr th:only-of-type {\n",
       "        vertical-align: middle;\n",
       "    }\n",
       "\n",
       "    .dataframe tbody tr th {\n",
       "        vertical-align: top;\n",
       "    }\n",
       "\n",
       "    .dataframe thead th {\n",
       "        text-align: right;\n",
       "    }\n",
       "</style>\n",
       "<table border=\"1\" class=\"dataframe\">\n",
       "  <thead>\n",
       "    <tr style=\"text-align: right;\">\n",
       "      <th></th>\n",
       "      <th>fruit</th>\n",
       "      <th>basket_id</th>\n",
       "      <th>count</th>\n",
       "      <th>weight</th>\n",
       "    </tr>\n",
       "  </thead>\n",
       "  <tbody>\n",
       "    <tr>\n",
       "      <th>0</th>\n",
       "      <td>apple</td>\n",
       "      <td>0</td>\n",
       "      <td>11</td>\n",
       "      <td>1.669587</td>\n",
       "    </tr>\n",
       "    <tr>\n",
       "      <th>1</th>\n",
       "      <td>orange</td>\n",
       "      <td>1</td>\n",
       "      <td>3</td>\n",
       "      <td>3.151583</td>\n",
       "    </tr>\n",
       "    <tr>\n",
       "      <th>2</th>\n",
       "      <td>apple</td>\n",
       "      <td>2</td>\n",
       "      <td>4</td>\n",
       "      <td>1.704342</td>\n",
       "    </tr>\n",
       "    <tr>\n",
       "      <th>3</th>\n",
       "      <td>orange</td>\n",
       "      <td>3</td>\n",
       "      <td>5</td>\n",
       "      <td>3.146927</td>\n",
       "    </tr>\n",
       "    <tr>\n",
       "      <th>4</th>\n",
       "      <td>apple</td>\n",
       "      <td>4</td>\n",
       "      <td>13</td>\n",
       "      <td>0.507562</td>\n",
       "    </tr>\n",
       "    <tr>\n",
       "      <th>5</th>\n",
       "      <td>orange</td>\n",
       "      <td>5</td>\n",
       "      <td>15</td>\n",
       "      <td>2.653627</td>\n",
       "    </tr>\n",
       "    <tr>\n",
       "      <th>6</th>\n",
       "      <td>apple</td>\n",
       "      <td>6</td>\n",
       "      <td>5</td>\n",
       "      <td>1.625252</td>\n",
       "    </tr>\n",
       "    <tr>\n",
       "      <th>7</th>\n",
       "      <td>orange</td>\n",
       "      <td>7</td>\n",
       "      <td>7</td>\n",
       "      <td>2.234013</td>\n",
       "    </tr>\n",
       "  </tbody>\n",
       "</table>\n",
       "</div>"
      ],
      "text/plain": [
       "    fruit  basket_id  count    weight\n",
       "0   apple          0     11  1.669587\n",
       "1  orange          1      3  3.151583\n",
       "2   apple          2      4  1.704342\n",
       "3  orange          3      5  3.146927\n",
       "4   apple          4     13  0.507562\n",
       "5  orange          5     15  2.653627\n",
       "6   apple          6      5  1.625252\n",
       "7  orange          7      7  2.234013"
      ]
     },
     "execution_count": 4,
     "metadata": {},
     "output_type": "execute_result"
    }
   ],
   "source": [
    "df"
   ]
  },
  {
   "cell_type": "markdown",
   "metadata": {},
   "source": [
    "#### 用assign方法来新建列"
   ]
  },
  {
   "cell_type": "code",
   "execution_count": 5,
   "metadata": {
    "ExecuteTime": {
     "end_time": "2019-04-23T06:22:54.688908Z",
     "start_time": "2019-04-23T06:22:54.585712Z"
    }
   },
   "outputs": [],
   "source": [
    "result = (df.assign(total_weight = df['count'] * df['weight'])\n",
    "         .groupby('fruit')['total_weight']\n",
    "         .mean())"
   ]
  },
  {
   "cell_type": "markdown",
   "metadata": {},
   "source": [
    "#### 在使用chaining method的时候, 我们无法直接访问“中间变量”"
   ]
  },
  {
   "cell_type": "code",
   "execution_count": 7,
   "metadata": {
    "ExecuteTime": {
     "end_time": "2019-04-23T06:26:06.788730Z",
     "start_time": "2019-04-23T06:26:06.782285Z"
    }
   },
   "outputs": [],
   "source": [
    "#比如如下的方法无法连接起来\n",
    "df_2 = df.loc[0: 5, :]\n",
    "df_3 = df_2[df_2['count'] >=5]"
   ]
  },
  {
   "cell_type": "code",
   "execution_count": 9,
   "metadata": {
    "ExecuteTime": {
     "end_time": "2019-04-23T06:28:27.192088Z",
     "start_time": "2019-04-23T06:28:27.185272Z"
    }
   },
   "outputs": [],
   "source": [
    "#解决方案, 使用匿名函数\n",
    "result = (df.loc[0:5, :]\n",
    "         [lambda x: x['count']>=5])"
   ]
  },
  {
   "cell_type": "code",
   "execution_count": 10,
   "metadata": {
    "ExecuteTime": {
     "end_time": "2019-04-23T06:28:29.831832Z",
     "start_time": "2019-04-23T06:28:29.821945Z"
    }
   },
   "outputs": [
    {
     "data": {
      "text/html": [
       "<div>\n",
       "<style scoped>\n",
       "    .dataframe tbody tr th:only-of-type {\n",
       "        vertical-align: middle;\n",
       "    }\n",
       "\n",
       "    .dataframe tbody tr th {\n",
       "        vertical-align: top;\n",
       "    }\n",
       "\n",
       "    .dataframe thead th {\n",
       "        text-align: right;\n",
       "    }\n",
       "</style>\n",
       "<table border=\"1\" class=\"dataframe\">\n",
       "  <thead>\n",
       "    <tr style=\"text-align: right;\">\n",
       "      <th></th>\n",
       "      <th>fruit</th>\n",
       "      <th>basket_id</th>\n",
       "      <th>count</th>\n",
       "      <th>weight</th>\n",
       "    </tr>\n",
       "  </thead>\n",
       "  <tbody>\n",
       "    <tr>\n",
       "      <th>0</th>\n",
       "      <td>apple</td>\n",
       "      <td>0</td>\n",
       "      <td>11</td>\n",
       "      <td>1.669587</td>\n",
       "    </tr>\n",
       "    <tr>\n",
       "      <th>3</th>\n",
       "      <td>orange</td>\n",
       "      <td>3</td>\n",
       "      <td>5</td>\n",
       "      <td>3.146927</td>\n",
       "    </tr>\n",
       "    <tr>\n",
       "      <th>4</th>\n",
       "      <td>apple</td>\n",
       "      <td>4</td>\n",
       "      <td>13</td>\n",
       "      <td>0.507562</td>\n",
       "    </tr>\n",
       "    <tr>\n",
       "      <th>5</th>\n",
       "      <td>orange</td>\n",
       "      <td>5</td>\n",
       "      <td>15</td>\n",
       "      <td>2.653627</td>\n",
       "    </tr>\n",
       "  </tbody>\n",
       "</table>\n",
       "</div>"
      ],
      "text/plain": [
       "    fruit  basket_id  count    weight\n",
       "0   apple          0     11  1.669587\n",
       "3  orange          3      5  3.146927\n",
       "4   apple          4     13  0.507562\n",
       "5  orange          5     15  2.653627"
      ]
     },
     "execution_count": 10,
     "metadata": {},
     "output_type": "execute_result"
    }
   ],
   "source": [
    "result"
   ]
  },
  {
   "cell_type": "markdown",
   "metadata": {},
   "source": [
    "#### pipe函数\n",
    "1. f(df, arg = a) 等价于 df.pipe(f, arg = a)\n",
    "2. pipe函数顾名思义是可以chain的"
   ]
  },
  {
   "cell_type": "code",
   "execution_count": null,
   "metadata": {},
   "outputs": [],
   "source": []
  }
 ],
 "metadata": {
  "kernelspec": {
   "display_name": "Python 3",
   "language": "python",
   "name": "python3"
  },
  "language_info": {
   "codemirror_mode": {
    "name": "ipython",
    "version": 3
   },
   "file_extension": ".py",
   "mimetype": "text/x-python",
   "name": "python",
   "nbconvert_exporter": "python",
   "pygments_lexer": "ipython3",
   "version": "3.6.7"
  },
  "toc": {
   "base_numbering": 1,
   "nav_menu": {},
   "number_sections": true,
   "sideBar": false,
   "skip_h1_title": false,
   "title_cell": "Table of Contents",
   "title_sidebar": "Contents",
   "toc_cell": false,
   "toc_position": {},
   "toc_section_display": true,
   "toc_window_display": false
  },
  "varInspector": {
   "cols": {
    "lenName": 16,
    "lenType": 16,
    "lenVar": 40
   },
   "kernels_config": {
    "python": {
     "delete_cmd_postfix": "",
     "delete_cmd_prefix": "del ",
     "library": "var_list.py",
     "varRefreshCmd": "print(var_dic_list())"
    },
    "r": {
     "delete_cmd_postfix": ") ",
     "delete_cmd_prefix": "rm(",
     "library": "var_list.r",
     "varRefreshCmd": "cat(var_dic_list()) "
    }
   },
   "types_to_exclude": [
    "module",
    "function",
    "builtin_function_or_method",
    "instance",
    "_Feature"
   ],
   "window_display": false
  }
 },
 "nbformat": 4,
 "nbformat_minor": 2
}
