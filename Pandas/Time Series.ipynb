{
 "cells": [
  {
   "cell_type": "code",
   "execution_count": 35,
   "metadata": {
    "ExecuteTime": {
     "end_time": "2019-04-23T07:48:59.045094Z",
     "start_time": "2019-04-23T07:48:59.040379Z"
    }
   },
   "outputs": [],
   "source": [
    "import pandas as pd\n",
    "import numpy as np"
   ]
  },
  {
   "cell_type": "markdown",
   "metadata": {},
   "source": [
    "#### string to time"
   ]
  },
  {
   "cell_type": "code",
   "execution_count": 6,
   "metadata": {
    "ExecuteTime": {
     "end_time": "2019-04-23T06:50:29.602799Z",
     "start_time": "2019-04-23T06:50:29.598303Z"
    }
   },
   "outputs": [
    {
     "name": "stdout",
     "output_type": "stream",
     "text": [
      "Help on function to_datetime in module pandas.core.tools.datetimes:\n",
      "\n",
      "to_datetime(arg, errors='raise', dayfirst=False, yearfirst=False, utc=None, box=True, format=None, exact=True, unit=None, infer_datetime_format=False, origin='unix', cache=False)\n",
      "    Convert argument to datetime.\n",
      "    \n",
      "    Parameters\n",
      "    ----------\n",
      "    arg : integer, float, string, datetime, list, tuple, 1-d array, Series\n",
      "    \n",
      "        .. versionadded:: 0.18.1\n",
      "    \n",
      "           or DataFrame/dict-like\n",
      "    \n",
      "    errors : {'ignore', 'raise', 'coerce'}, default 'raise'\n",
      "    \n",
      "        - If 'raise', then invalid parsing will raise an exception\n",
      "        - If 'coerce', then invalid parsing will be set as NaT\n",
      "        - If 'ignore', then invalid parsing will return the input\n",
      "    dayfirst : boolean, default False\n",
      "        Specify a date parse order if `arg` is str or its list-likes.\n",
      "        If True, parses dates with the day first, eg 10/11/12 is parsed as\n",
      "        2012-11-10.\n",
      "        Warning: dayfirst=True is not strict, but will prefer to parse\n",
      "        with day first (this is a known bug, based on dateutil behavior).\n",
      "    yearfirst : boolean, default False\n",
      "        Specify a date parse order if `arg` is str or its list-likes.\n",
      "    \n",
      "        - If True parses dates with the year first, eg 10/11/12 is parsed as\n",
      "          2010-11-12.\n",
      "        - If both dayfirst and yearfirst are True, yearfirst is preceded (same\n",
      "          as dateutil).\n",
      "    \n",
      "        Warning: yearfirst=True is not strict, but will prefer to parse\n",
      "        with year first (this is a known bug, based on dateutil beahavior).\n",
      "    \n",
      "        .. versionadded:: 0.16.1\n",
      "    \n",
      "    utc : boolean, default None\n",
      "        Return UTC DatetimeIndex if True (converting any tz-aware\n",
      "        datetime.datetime objects as well).\n",
      "    box : boolean, default True\n",
      "    \n",
      "        - If True returns a DatetimeIndex\n",
      "        - If False returns ndarray of values.\n",
      "    format : string, default None\n",
      "        strftime to parse time, eg \"%d/%m/%Y\", note that \"%f\" will parse\n",
      "        all the way up to nanoseconds.\n",
      "    exact : boolean, True by default\n",
      "    \n",
      "        - If True, require an exact format match.\n",
      "        - If False, allow the format to match anywhere in the target string.\n",
      "    \n",
      "    unit : string, default 'ns'\n",
      "        unit of the arg (D,s,ms,us,ns) denote the unit, which is an\n",
      "        integer or float number. This will be based off the origin.\n",
      "        Example, with unit='ms' and origin='unix' (the default), this\n",
      "        would calculate the number of milliseconds to the unix epoch start.\n",
      "    infer_datetime_format : boolean, default False\n",
      "        If True and no `format` is given, attempt to infer the format of the\n",
      "        datetime strings, and if it can be inferred, switch to a faster\n",
      "        method of parsing them. In some cases this can increase the parsing\n",
      "        speed by ~5-10x.\n",
      "    origin : scalar, default is 'unix'\n",
      "        Define the reference date. The numeric values would be parsed as number\n",
      "        of units (defined by `unit`) since this reference date.\n",
      "    \n",
      "        - If 'unix' (or POSIX) time; origin is set to 1970-01-01.\n",
      "        - If 'julian', unit must be 'D', and origin is set to beginning of\n",
      "          Julian Calendar. Julian day number 0 is assigned to the day starting\n",
      "          at noon on January 1, 4713 BC.\n",
      "        - If Timestamp convertible, origin is set to Timestamp identified by\n",
      "          origin.\n",
      "    \n",
      "        .. versionadded:: 0.20.0\n",
      "    cache : boolean, default False\n",
      "        If True, use a cache of unique, converted dates to apply the datetime\n",
      "        conversion. May produce sigificant speed-up when parsing duplicate date\n",
      "        strings, especially ones with timezone offsets.\n",
      "    \n",
      "        .. versionadded:: 0.23.0\n",
      "    \n",
      "    Returns\n",
      "    -------\n",
      "    ret : datetime if parsing succeeded.\n",
      "        Return type depends on input:\n",
      "    \n",
      "        - list-like: DatetimeIndex\n",
      "        - Series: Series of datetime64 dtype\n",
      "        - scalar: Timestamp\n",
      "    \n",
      "        In case when it is not possible to return designated types (e.g. when\n",
      "        any element of input is before Timestamp.min or after Timestamp.max)\n",
      "        return will have datetime.datetime type (or corresponding\n",
      "        array/Series).\n",
      "    \n",
      "    Examples\n",
      "    --------\n",
      "    Assembling a datetime from multiple columns of a DataFrame. The keys can be\n",
      "    common abbreviations like ['year', 'month', 'day', 'minute', 'second',\n",
      "    'ms', 'us', 'ns']) or plurals of the same\n",
      "    \n",
      "    >>> df = pd.DataFrame({'year': [2015, 2016],\n",
      "                           'month': [2, 3],\n",
      "                           'day': [4, 5]})\n",
      "    >>> pd.to_datetime(df)\n",
      "    0   2015-02-04\n",
      "    1   2016-03-05\n",
      "    dtype: datetime64[ns]\n",
      "    \n",
      "    If a date does not meet the `timestamp limitations\n",
      "    <http://pandas.pydata.org/pandas-docs/stable/timeseries.html\n",
      "    #timeseries-timestamp-limits>`_, passing errors='ignore'\n",
      "    will return the original input instead of raising any exception.\n",
      "    \n",
      "    Passing errors='coerce' will force an out-of-bounds date to NaT,\n",
      "    in addition to forcing non-dates (or non-parseable dates) to NaT.\n",
      "    \n",
      "    >>> pd.to_datetime('13000101', format='%Y%m%d', errors='ignore')\n",
      "    datetime.datetime(1300, 1, 1, 0, 0)\n",
      "    >>> pd.to_datetime('13000101', format='%Y%m%d', errors='coerce')\n",
      "    NaT\n",
      "    \n",
      "    Passing infer_datetime_format=True can often-times speedup a parsing\n",
      "    if its not an ISO8601 format exactly, but in a regular format.\n",
      "    \n",
      "    >>> s = pd.Series(['3/11/2000', '3/12/2000', '3/13/2000']*1000)\n",
      "    \n",
      "    >>> s.head()\n",
      "    0    3/11/2000\n",
      "    1    3/12/2000\n",
      "    2    3/13/2000\n",
      "    3    3/11/2000\n",
      "    4    3/12/2000\n",
      "    dtype: object\n",
      "    \n",
      "    >>> %timeit pd.to_datetime(s,infer_datetime_format=True)\n",
      "    100 loops, best of 3: 10.4 ms per loop\n",
      "    \n",
      "    >>> %timeit pd.to_datetime(s,infer_datetime_format=False)\n",
      "    1 loop, best of 3: 471 ms per loop\n",
      "    \n",
      "    Using a unix epoch time\n",
      "    \n",
      "    >>> pd.to_datetime(1490195805, unit='s')\n",
      "    Timestamp('2017-03-22 15:16:45')\n",
      "    >>> pd.to_datetime(1490195805433502912, unit='ns')\n",
      "    Timestamp('2017-03-22 15:16:45.433502912')\n",
      "    \n",
      "    .. warning:: For float arg, precision rounding might happen. To prevent\n",
      "        unexpected behavior use a fixed-width exact type.\n",
      "    \n",
      "    Using a non-unix epoch origin\n",
      "    \n",
      "    >>> pd.to_datetime([1, 2, 3], unit='D',\n",
      "                       origin=pd.Timestamp('1960-01-01'))\n",
      "    0    1960-01-02\n",
      "    1    1960-01-03\n",
      "    2    1960-01-04\n",
      "    \n",
      "    See also\n",
      "    --------\n",
      "    pandas.DataFrame.astype : Cast argument to a specified dtype.\n",
      "    pandas.to_timedelta : Convert argument to timedelta.\n",
      "\n"
     ]
    }
   ],
   "source": [
    "#可以接受array作为参数！\n",
    "help(pd.to_datetime)"
   ]
  },
  {
   "cell_type": "code",
   "execution_count": 7,
   "metadata": {
    "ExecuteTime": {
     "end_time": "2019-04-23T06:51:17.503083Z",
     "start_time": "2019-04-23T06:51:17.498034Z"
    }
   },
   "outputs": [
    {
     "name": "stdout",
     "output_type": "stream",
     "text": [
      "Help on function parse in module dateutil.parser._parser:\n",
      "\n",
      "parse(timestr, parserinfo=None, **kwargs)\n",
      "    Parse a string in one of the supported formats, using the\n",
      "    ``parserinfo`` parameters.\n",
      "    \n",
      "    :param timestr:\n",
      "        A string containing a date/time stamp.\n",
      "    \n",
      "    :param parserinfo:\n",
      "        A :class:`parserinfo` object containing parameters for the parser.\n",
      "        If ``None``, the default arguments to the :class:`parserinfo`\n",
      "        constructor are used.\n",
      "    \n",
      "    The ``**kwargs`` parameter takes the following keyword arguments:\n",
      "    \n",
      "    :param default:\n",
      "        The default datetime object, if this is a datetime object and not\n",
      "        ``None``, elements specified in ``timestr`` replace elements in the\n",
      "        default object.\n",
      "    \n",
      "    :param ignoretz:\n",
      "        If set ``True``, time zones in parsed strings are ignored and a naive\n",
      "        :class:`datetime` object is returned.\n",
      "    \n",
      "    :param tzinfos:\n",
      "        Additional time zone names / aliases which may be present in the\n",
      "        string. This argument maps time zone names (and optionally offsets\n",
      "        from those time zones) to time zones. This parameter can be a\n",
      "        dictionary with timezone aliases mapping time zone names to time\n",
      "        zones or a function taking two parameters (``tzname`` and\n",
      "        ``tzoffset``) and returning a time zone.\n",
      "    \n",
      "        The timezones to which the names are mapped can be an integer\n",
      "        offset from UTC in seconds or a :class:`tzinfo` object.\n",
      "    \n",
      "        .. doctest::\n",
      "           :options: +NORMALIZE_WHITESPACE\n",
      "    \n",
      "            >>> from dateutil.parser import parse\n",
      "            >>> from dateutil.tz import gettz\n",
      "            >>> tzinfos = {\"BRST\": -7200, \"CST\": gettz(\"America/Chicago\")}\n",
      "            >>> parse(\"2012-01-19 17:21:00 BRST\", tzinfos=tzinfos)\n",
      "            datetime.datetime(2012, 1, 19, 17, 21, tzinfo=tzoffset(u'BRST', -7200))\n",
      "            >>> parse(\"2012-01-19 17:21:00 CST\", tzinfos=tzinfos)\n",
      "            datetime.datetime(2012, 1, 19, 17, 21,\n",
      "                              tzinfo=tzfile('/usr/share/zoneinfo/America/Chicago'))\n",
      "    \n",
      "        This parameter is ignored if ``ignoretz`` is set.\n",
      "    \n",
      "    :param dayfirst:\n",
      "        Whether to interpret the first value in an ambiguous 3-integer date\n",
      "        (e.g. 01/05/09) as the day (``True``) or month (``False``). If\n",
      "        ``yearfirst`` is set to ``True``, this distinguishes between YDM and\n",
      "        YMD. If set to ``None``, this value is retrieved from the current\n",
      "        :class:`parserinfo` object (which itself defaults to ``False``).\n",
      "    \n",
      "    :param yearfirst:\n",
      "        Whether to interpret the first value in an ambiguous 3-integer date\n",
      "        (e.g. 01/05/09) as the year. If ``True``, the first number is taken to\n",
      "        be the year, otherwise the last number is taken to be the year. If\n",
      "        this is set to ``None``, the value is retrieved from the current\n",
      "        :class:`parserinfo` object (which itself defaults to ``False``).\n",
      "    \n",
      "    :param fuzzy:\n",
      "        Whether to allow fuzzy parsing, allowing for string like \"Today is\n",
      "        January 1, 2047 at 8:21:00AM\".\n",
      "    \n",
      "    :param fuzzy_with_tokens:\n",
      "        If ``True``, ``fuzzy`` is automatically set to True, and the parser\n",
      "        will return a tuple where the first element is the parsed\n",
      "        :class:`datetime.datetime` datetimestamp and the second element is\n",
      "        a tuple containing the portions of the string which were ignored:\n",
      "    \n",
      "        .. doctest::\n",
      "    \n",
      "            >>> from dateutil.parser import parse\n",
      "            >>> parse(\"Today is January 1, 2047 at 8:21:00AM\", fuzzy_with_tokens=True)\n",
      "            (datetime.datetime(2047, 1, 1, 8, 21), (u'Today is ', u' ', u'at '))\n",
      "    \n",
      "    :return:\n",
      "        Returns a :class:`datetime.datetime` object or, if the\n",
      "        ``fuzzy_with_tokens`` option is ``True``, returns a tuple, the\n",
      "        first element being a :class:`datetime.datetime` object, the second\n",
      "        a tuple containing the fuzzy tokens.\n",
      "    \n",
      "    :raises ValueError:\n",
      "        Raised for invalid or unknown string format, if the provided\n",
      "        :class:`tzinfo` is not in a valid format, or if an invalid date\n",
      "        would be created.\n",
      "    \n",
      "    :raises OverflowError:\n",
      "        Raised if the parsed date exceeds the largest valid C integer on\n",
      "        your system.\n",
      "\n"
     ]
    }
   ],
   "source": [
    "from dateutil.parser import parse\n",
    "help(parse)"
   ]
  },
  {
   "cell_type": "markdown",
   "metadata": {},
   "source": [
    "#### time series basic"
   ]
  },
  {
   "cell_type": "code",
   "execution_count": 16,
   "metadata": {
    "ExecuteTime": {
     "end_time": "2019-04-23T07:03:36.369405Z",
     "start_time": "2019-04-23T07:03:36.360896Z"
    }
   },
   "outputs": [],
   "source": [
    "dates = pd.date_range(start='2000/1/1', periods=100, freq='W-WED')\n",
    "long_df = pd.DataFrame(np.random.randn(100, 4),\n",
    "                      index=dates,\n",
    "                      columns=['Colorado', 'Texas',\n",
    "                               'New York', 'Ohio'])"
   ]
  },
  {
   "cell_type": "code",
   "execution_count": 18,
   "metadata": {
    "ExecuteTime": {
     "end_time": "2019-04-23T07:04:17.196043Z",
     "start_time": "2019-04-23T07:04:17.147444Z"
    }
   },
   "outputs": [
    {
     "data": {
      "text/html": [
       "<div>\n",
       "<style scoped>\n",
       "    .dataframe tbody tr th:only-of-type {\n",
       "        vertical-align: middle;\n",
       "    }\n",
       "\n",
       "    .dataframe tbody tr th {\n",
       "        vertical-align: top;\n",
       "    }\n",
       "\n",
       "    .dataframe thead th {\n",
       "        text-align: right;\n",
       "    }\n",
       "</style>\n",
       "<table border=\"1\" class=\"dataframe\">\n",
       "  <thead>\n",
       "    <tr style=\"text-align: right;\">\n",
       "      <th></th>\n",
       "      <th>Colorado</th>\n",
       "      <th>Texas</th>\n",
       "      <th>New York</th>\n",
       "      <th>Ohio</th>\n",
       "    </tr>\n",
       "  </thead>\n",
       "  <tbody>\n",
       "    <tr>\n",
       "      <th>2001-05-02</th>\n",
       "      <td>-0.302907</td>\n",
       "      <td>0.588677</td>\n",
       "      <td>-1.640485</td>\n",
       "      <td>0.273731</td>\n",
       "    </tr>\n",
       "    <tr>\n",
       "      <th>2001-05-09</th>\n",
       "      <td>-0.743850</td>\n",
       "      <td>-1.718399</td>\n",
       "      <td>0.481137</td>\n",
       "      <td>-0.452213</td>\n",
       "    </tr>\n",
       "    <tr>\n",
       "      <th>2001-05-16</th>\n",
       "      <td>1.919083</td>\n",
       "      <td>1.506956</td>\n",
       "      <td>-0.492534</td>\n",
       "      <td>-0.362583</td>\n",
       "    </tr>\n",
       "    <tr>\n",
       "      <th>2001-05-23</th>\n",
       "      <td>0.940581</td>\n",
       "      <td>-0.305602</td>\n",
       "      <td>1.168225</td>\n",
       "      <td>0.228228</td>\n",
       "    </tr>\n",
       "    <tr>\n",
       "      <th>2001-05-30</th>\n",
       "      <td>-0.232412</td>\n",
       "      <td>-0.494634</td>\n",
       "      <td>-0.097365</td>\n",
       "      <td>-2.724059</td>\n",
       "    </tr>\n",
       "  </tbody>\n",
       "</table>\n",
       "</div>"
      ],
      "text/plain": [
       "            Colorado     Texas  New York      Ohio\n",
       "2001-05-02 -0.302907  0.588677 -1.640485  0.273731\n",
       "2001-05-09 -0.743850 -1.718399  0.481137 -0.452213\n",
       "2001-05-16  1.919083  1.506956 -0.492534 -0.362583\n",
       "2001-05-23  0.940581 -0.305602  1.168225  0.228228\n",
       "2001-05-30 -0.232412 -0.494634 -0.097365 -2.724059"
      ]
     },
     "execution_count": 18,
     "metadata": {},
     "output_type": "execute_result"
    }
   ],
   "source": [
    "#你可以直接选择年月, 返回所有匹配的日期\n",
    "long_df.loc['2001-5']"
   ]
  },
  {
   "cell_type": "code",
   "execution_count": 20,
   "metadata": {
    "ExecuteTime": {
     "end_time": "2019-04-23T07:11:03.615396Z",
     "start_time": "2019-04-23T07:11:03.610240Z"
    }
   },
   "outputs": [
    {
     "name": "stdout",
     "output_type": "stream",
     "text": [
      "Help on method truncate in module pandas.core.generic:\n",
      "\n",
      "truncate(before=None, after=None, axis=None, copy=True) method of pandas.core.frame.DataFrame instance\n",
      "    Truncate a Series or DataFrame before and after some index value.\n",
      "    \n",
      "    This is a useful shorthand for boolean indexing based on index\n",
      "    values above or below certain thresholds.\n",
      "    \n",
      "    Parameters\n",
      "    ----------\n",
      "    before : date, string, int\n",
      "        Truncate all rows before this index value.\n",
      "    after : date, string, int\n",
      "        Truncate all rows after this index value.\n",
      "    axis : {0 or 'index', 1 or 'columns'}, optional\n",
      "        Axis to truncate. Truncates the index (rows) by default.\n",
      "    copy : boolean, default is True,\n",
      "        Return a copy of the truncated section.\n",
      "    \n",
      "    Returns\n",
      "    -------\n",
      "    type of caller\n",
      "        The truncated Series or DataFrame.\n",
      "    \n",
      "    See Also\n",
      "    --------\n",
      "    DataFrame.loc : Select a subset of a DataFrame by label.\n",
      "    DataFrame.iloc : Select a subset of a DataFrame by position.\n",
      "    \n",
      "    Notes\n",
      "    -----\n",
      "    If the index being truncated contains only datetime values,\n",
      "    `before` and `after` may be specified as strings instead of\n",
      "    Timestamps.\n",
      "    \n",
      "    Examples\n",
      "    --------\n",
      "    >>> df = pd.DataFrame({'A': ['a', 'b', 'c', 'd', 'e'],\n",
      "    ...                    'B': ['f', 'g', 'h', 'i', 'j'],\n",
      "    ...                    'C': ['k', 'l', 'm', 'n', 'o']},\n",
      "    ...                    index=[1, 2, 3, 4, 5])\n",
      "    >>> df\n",
      "       A  B  C\n",
      "    1  a  f  k\n",
      "    2  b  g  l\n",
      "    3  c  h  m\n",
      "    4  d  i  n\n",
      "    5  e  j  o\n",
      "    \n",
      "    >>> df.truncate(before=2, after=4)\n",
      "       A  B  C\n",
      "    2  b  g  l\n",
      "    3  c  h  m\n",
      "    4  d  i  n\n",
      "    \n",
      "    The columns of a DataFrame can be truncated.\n",
      "    \n",
      "    >>> df.truncate(before=\"A\", after=\"B\", axis=\"columns\")\n",
      "       A  B\n",
      "    1  a  f\n",
      "    2  b  g\n",
      "    3  c  h\n",
      "    4  d  i\n",
      "    5  e  j\n",
      "    \n",
      "    For Series, only rows can be truncated.\n",
      "    \n",
      "    >>> df['A'].truncate(before=2, after=4)\n",
      "    2    b\n",
      "    3    c\n",
      "    4    d\n",
      "    Name: A, dtype: object\n",
      "    \n",
      "    The index values in ``truncate`` can be datetimes or string\n",
      "    dates.\n",
      "    \n",
      "    >>> dates = pd.date_range('2016-01-01', '2016-02-01', freq='s')\n",
      "    >>> df = pd.DataFrame(index=dates, data={'A': 1})\n",
      "    >>> df.tail()\n",
      "                         A\n",
      "    2016-01-31 23:59:56  1\n",
      "    2016-01-31 23:59:57  1\n",
      "    2016-01-31 23:59:58  1\n",
      "    2016-01-31 23:59:59  1\n",
      "    2016-02-01 00:00:00  1\n",
      "    \n",
      "    >>> df.truncate(before=pd.Timestamp('2016-01-05'),\n",
      "    ...             after=pd.Timestamp('2016-01-10')).tail()\n",
      "                         A\n",
      "    2016-01-09 23:59:56  1\n",
      "    2016-01-09 23:59:57  1\n",
      "    2016-01-09 23:59:58  1\n",
      "    2016-01-09 23:59:59  1\n",
      "    2016-01-10 00:00:00  1\n",
      "    \n",
      "    Because the index is a DatetimeIndex containing only dates, we can\n",
      "    specify `before` and `after` as strings. They will be coerced to\n",
      "    Timestamps before truncation.\n",
      "    \n",
      "    >>> df.truncate('2016-01-05', '2016-01-10').tail()\n",
      "                         A\n",
      "    2016-01-09 23:59:56  1\n",
      "    2016-01-09 23:59:57  1\n",
      "    2016-01-09 23:59:58  1\n",
      "    2016-01-09 23:59:59  1\n",
      "    2016-01-10 00:00:00  1\n",
      "    \n",
      "    Note that ``truncate`` assumes a 0 value for any unspecified time\n",
      "    component (midnight). This differs from partial string slicing, which\n",
      "    returns any partially matching dates.\n",
      "    \n",
      "    >>> df.loc['2016-01-05':'2016-01-10', :].tail()\n",
      "                         A\n",
      "    2016-01-10 23:59:55  1\n",
      "    2016-01-10 23:59:56  1\n",
      "    2016-01-10 23:59:57  1\n",
      "    2016-01-10 23:59:58  1\n",
      "    2016-01-10 23:59:59  1\n",
      "\n"
     ]
    }
   ],
   "source": [
    "#a useful shorthand for boolean indexing based on index values above or below certain thresholds.\n",
    "help(long_df.truncate)"
   ]
  },
  {
   "cell_type": "code",
   "execution_count": 21,
   "metadata": {
    "ExecuteTime": {
     "end_time": "2019-04-23T07:37:13.436809Z",
     "start_time": "2019-04-23T07:37:13.429038Z"
    }
   },
   "outputs": [],
   "source": [
    "#如何处理重复日期\n",
    "dates = pd.DatetimeIndex(['1/1/2000', '1/2/2000', \n",
    "                          '1/2/2000','1/2/2000', '1/3/2000'])\n",
    "dup_ts = pd.Series(np.arange(5), index=dates)"
   ]
  },
  {
   "cell_type": "code",
   "execution_count": 24,
   "metadata": {
    "ExecuteTime": {
     "end_time": "2019-04-23T07:37:48.419753Z",
     "start_time": "2019-04-23T07:37:48.414568Z"
    }
   },
   "outputs": [
    {
     "data": {
      "text/plain": [
       "False"
      ]
     },
     "execution_count": 24,
     "metadata": {},
     "output_type": "execute_result"
    }
   ],
   "source": [
    "#判断是否有重复\n",
    "dup_ts.index.is_unique"
   ]
  },
  {
   "cell_type": "code",
   "execution_count": 26,
   "metadata": {
    "ExecuteTime": {
     "end_time": "2019-04-23T07:39:03.033901Z",
     "start_time": "2019-04-23T07:39:03.026798Z"
    }
   },
   "outputs": [
    {
     "data": {
      "text/plain": [
       "2000-01-02    1\n",
       "2000-01-02    2\n",
       "2000-01-02    3\n",
       "dtype: int64"
      ]
     },
     "execution_count": 26,
     "metadata": {},
     "output_type": "execute_result"
    }
   ],
   "source": [
    "#有重复\n",
    "dup_ts['1/2/2000']"
   ]
  },
  {
   "cell_type": "code",
   "execution_count": 27,
   "metadata": {
    "ExecuteTime": {
     "end_time": "2019-04-23T07:40:20.295827Z",
     "start_time": "2019-04-23T07:40:20.280962Z"
    }
   },
   "outputs": [
    {
     "data": {
      "text/plain": [
       "2000-01-01    0\n",
       "2000-01-02    2\n",
       "2000-01-03    4\n",
       "dtype: int64"
      ]
     },
     "execution_count": 27,
     "metadata": {},
     "output_type": "execute_result"
    }
   ],
   "source": [
    "#去重方法之一: groupby(level=0)\n",
    "dup_ts.groupby(level=0).mean()"
   ]
  },
  {
   "cell_type": "markdown",
   "metadata": {},
   "source": [
    "#### Date Ranges, Frequencies, and Shifting"
   ]
  },
  {
   "cell_type": "code",
   "execution_count": 50,
   "metadata": {
    "ExecuteTime": {
     "end_time": "2019-04-23T08:04:20.910066Z",
     "start_time": "2019-04-23T08:04:20.902819Z"
    }
   },
   "outputs": [
    {
     "data": {
      "text/plain": [
       "DatetimeIndex(['2012-04-01', '2012-04-06', '2012-04-11', '2012-04-16',\n",
       "               '2012-04-21', '2012-04-26', '2012-05-01', '2012-05-06',\n",
       "               '2012-05-11', '2012-05-16', '2012-05-21', '2012-05-26',\n",
       "               '2012-05-31'],\n",
       "              dtype='datetime64[ns]', freq='5D')"
      ]
     },
     "execution_count": 50,
     "metadata": {},
     "output_type": "execute_result"
    }
   ],
   "source": [
    "#产生time_range\n",
    "#!!!!!你最多只能指定四个参数中的三个: start, end, freq, periods\n",
    "pd.date_range(start='2012-04-01', end='2012-06-01', freq='5D')"
   ]
  },
  {
   "cell_type": "code",
   "execution_count": 30,
   "metadata": {
    "ExecuteTime": {
     "end_time": "2019-04-23T07:45:24.441812Z",
     "start_time": "2019-04-23T07:45:24.436169Z"
    }
   },
   "outputs": [],
   "source": [
    "N = 150\n",
    "times = pd.date_range(start='2017-05-20 00:00', freq='1min', periods=N)\n",
    "df = (pd.DataFrame({'time': times,\n",
    "                   'value': np.arange(N)})\n",
    "     .set_index('time'))"
   ]
  },
  {
   "cell_type": "code",
   "execution_count": 51,
   "metadata": {
    "ExecuteTime": {
     "end_time": "2019-04-23T08:06:11.466921Z",
     "start_time": "2019-04-23T08:06:11.449205Z"
    }
   },
   "outputs": [
    {
     "data": {
      "text/html": [
       "<div>\n",
       "<style scoped>\n",
       "    .dataframe tbody tr th:only-of-type {\n",
       "        vertical-align: middle;\n",
       "    }\n",
       "\n",
       "    .dataframe tbody tr th {\n",
       "        vertical-align: top;\n",
       "    }\n",
       "\n",
       "    .dataframe thead th {\n",
       "        text-align: right;\n",
       "    }\n",
       "</style>\n",
       "<table border=\"1\" class=\"dataframe\">\n",
       "  <thead>\n",
       "    <tr style=\"text-align: right;\">\n",
       "      <th></th>\n",
       "      <th>value</th>\n",
       "    </tr>\n",
       "    <tr>\n",
       "      <th>time</th>\n",
       "      <th></th>\n",
       "    </tr>\n",
       "  </thead>\n",
       "  <tbody>\n",
       "    <tr>\n",
       "      <th>2017-05-20 00:00:00</th>\n",
       "      <td>2</td>\n",
       "    </tr>\n",
       "    <tr>\n",
       "      <th>2017-05-20 00:05:00</th>\n",
       "      <td>7</td>\n",
       "    </tr>\n",
       "    <tr>\n",
       "      <th>2017-05-20 00:10:00</th>\n",
       "      <td>12</td>\n",
       "    </tr>\n",
       "    <tr>\n",
       "      <th>2017-05-20 00:15:00</th>\n",
       "      <td>17</td>\n",
       "    </tr>\n",
       "    <tr>\n",
       "      <th>2017-05-20 00:20:00</th>\n",
       "      <td>22</td>\n",
       "    </tr>\n",
       "  </tbody>\n",
       "</table>\n",
       "</div>"
      ],
      "text/plain": [
       "                     value\n",
       "time                      \n",
       "2017-05-20 00:00:00      2\n",
       "2017-05-20 00:05:00      7\n",
       "2017-05-20 00:10:00     12\n",
       "2017-05-20 00:15:00     17\n",
       "2017-05-20 00:20:00     22"
      ]
     },
     "execution_count": 51,
     "metadata": {},
     "output_type": "execute_result"
    }
   ],
   "source": [
    "#resample method\n",
    "#每隔5分钟采样一次\n",
    "df.resample('5min').mean().head()"
   ]
  },
  {
   "cell_type": "code",
   "execution_count": 38,
   "metadata": {
    "ExecuteTime": {
     "end_time": "2019-04-23T07:56:13.125759Z",
     "start_time": "2019-04-23T07:56:13.118649Z"
    }
   },
   "outputs": [],
   "source": [
    "df2 = (pd.DataFrame({'time': times.repeat(3),\n",
    "                    'key': np.tile(['a', 'b', 'c'], N),\n",
    "                    'value': np.arange(N * 3.)})\n",
    "      .set_index('time'))"
   ]
  },
  {
   "cell_type": "code",
   "execution_count": 45,
   "metadata": {
    "ExecuteTime": {
     "end_time": "2019-04-23T07:59:18.347523Z",
     "start_time": "2019-04-23T07:59:18.332261Z"
    }
   },
   "outputs": [
    {
     "data": {
      "text/html": [
       "<div>\n",
       "<style scoped>\n",
       "    .dataframe tbody tr th:only-of-type {\n",
       "        vertical-align: middle;\n",
       "    }\n",
       "\n",
       "    .dataframe tbody tr th {\n",
       "        vertical-align: top;\n",
       "    }\n",
       "\n",
       "    .dataframe thead th {\n",
       "        text-align: right;\n",
       "    }\n",
       "</style>\n",
       "<table border=\"1\" class=\"dataframe\">\n",
       "  <thead>\n",
       "    <tr style=\"text-align: right;\">\n",
       "      <th></th>\n",
       "      <th></th>\n",
       "      <th>value</th>\n",
       "    </tr>\n",
       "    <tr>\n",
       "      <th>key</th>\n",
       "      <th>time</th>\n",
       "      <th></th>\n",
       "    </tr>\n",
       "  </thead>\n",
       "  <tbody>\n",
       "    <tr>\n",
       "      <th rowspan=\"5\" valign=\"top\">a</th>\n",
       "      <th>2017-05-20 00:00:00</th>\n",
       "      <td>30.0</td>\n",
       "    </tr>\n",
       "    <tr>\n",
       "      <th>2017-05-20 00:05:00</th>\n",
       "      <td>105.0</td>\n",
       "    </tr>\n",
       "    <tr>\n",
       "      <th>2017-05-20 00:10:00</th>\n",
       "      <td>180.0</td>\n",
       "    </tr>\n",
       "    <tr>\n",
       "      <th>2017-05-20 00:15:00</th>\n",
       "      <td>255.0</td>\n",
       "    </tr>\n",
       "    <tr>\n",
       "      <th>2017-05-20 00:20:00</th>\n",
       "      <td>330.0</td>\n",
       "    </tr>\n",
       "  </tbody>\n",
       "</table>\n",
       "</div>"
      ],
      "text/plain": [
       "                         value\n",
       "key time                      \n",
       "a   2017-05-20 00:00:00   30.0\n",
       "    2017-05-20 00:05:00  105.0\n",
       "    2017-05-20 00:10:00  180.0\n",
       "    2017-05-20 00:15:00  255.0\n",
       "    2017-05-20 00:20:00  330.0"
      ]
     },
     "execution_count": 45,
     "metadata": {},
     "output_type": "execute_result"
    }
   ],
   "source": [
    "#通过pd.TimeGrouper对象来resampling 'key'\n",
    "#记住了你的索引必须是time！！！\n",
    "df2.groupby(['key', pd.Grouper(freq='5min')]).sum().head()"
   ]
  },
  {
   "cell_type": "code",
   "execution_count": null,
   "metadata": {},
   "outputs": [],
   "source": []
  }
 ],
 "metadata": {
  "kernelspec": {
   "display_name": "Python 3",
   "language": "python",
   "name": "python3"
  },
  "language_info": {
   "codemirror_mode": {
    "name": "ipython",
    "version": 3
   },
   "file_extension": ".py",
   "mimetype": "text/x-python",
   "name": "python",
   "nbconvert_exporter": "python",
   "pygments_lexer": "ipython3",
   "version": "3.6.7"
  },
  "toc": {
   "base_numbering": 1,
   "nav_menu": {},
   "number_sections": true,
   "sideBar": false,
   "skip_h1_title": false,
   "title_cell": "Table of Contents",
   "title_sidebar": "Contents",
   "toc_cell": false,
   "toc_position": {},
   "toc_section_display": true,
   "toc_window_display": false
  },
  "varInspector": {
   "cols": {
    "lenName": 16,
    "lenType": 16,
    "lenVar": 40
   },
   "kernels_config": {
    "python": {
     "delete_cmd_postfix": "",
     "delete_cmd_prefix": "del ",
     "library": "var_list.py",
     "varRefreshCmd": "print(var_dic_list())"
    },
    "r": {
     "delete_cmd_postfix": ") ",
     "delete_cmd_prefix": "rm(",
     "library": "var_list.r",
     "varRefreshCmd": "cat(var_dic_list()) "
    }
   },
   "types_to_exclude": [
    "module",
    "function",
    "builtin_function_or_method",
    "instance",
    "_Feature"
   ],
   "window_display": false
  }
 },
 "nbformat": 4,
 "nbformat_minor": 2
}
